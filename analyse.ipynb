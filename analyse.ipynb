{
 "cells": [
  {
   "cell_type": "markdown",
   "id": "0317e294",
   "metadata": {},
   "source": [
    "# Analyse des outputs de CLIP"
   ]
  },
  {
   "cell_type": "code",
   "execution_count": null,
   "id": "07b6a757",
   "metadata": {},
   "outputs": [],
   "source": [
    "import pandas as pd\n",
    "import numpy as np\n",
    "import os\n",
    "import sys\n",
    "import matplotlib.pyplot as plt\n",
    "\n",
    "\n",
    "def import_data(file_path):\n",
    "    try:\n",
    "        data = pd.read_csv(file_path)\n",
    "        return data\n",
    "    except FileNotFoundError:\n",
    "        print(f\"File {file_path} not found.\")\n",
    "        sys.exit(1)\n",
    "\n",
    "df_real = import_data('./scv_1/val_labels.csv')\n",
    "df_real[\"file\"] = df_real[\"file\"].str.replace('val/', '')\n",
    "df_real.rename(columns={\"file\": \"image\"}, inplace=True)\n",
    "df_real"
   ]
  },
  {
   "cell_type": "code",
   "execution_count": null,
   "id": "faa82692",
   "metadata": {},
   "outputs": [],
   "source": [
    "import plotly.graph_objs as go\n",
    "from plotly.subplots import make_subplots\n",
    "\n",
    "def plot_all_stats(df: pd.DataFrame,\n",
    "                   base_column: str,\n",
    "                   pred_suffix: str = '_pred',\n",
    "                   true_suffix: str = '_true') -> go.Figure:\n",
    "\n",
    "    pred_col = f\"{base_column}{pred_suffix}\"\n",
    "    true_col = f\"{base_column}{true_suffix}\"\n",
    "\n",
    "    if pred_col not in df.columns or true_col not in df.columns:\n",
    "        raise ValueError(f\"Columns '{pred_col}' and/or '{true_col}' not found in DataFrame.\")\n",
    "\n",
    "    # Value counts\n",
    "    pred_counts = df[pred_col].value_counts().sort_index()\n",
    "    true_counts = df[true_col].value_counts().sort_index()\n",
    "\n",
    "    # Error rate per class\n",
    "    error_rate = (df[pred_col] != df[true_col]).groupby(df[true_col]).mean()\n",
    "\n",
    "    # Confusion matrix\n",
    "    confusion = pd.crosstab(df[true_col], df[pred_col], rownames=['True'], colnames=['Predicted'], margins=False)\n",
    "    annotations = [[f\"{value}\" for value in row] for row in confusion.values]\n",
    "\n",
    "    # Make subplot layout\n",
    "    fig = make_subplots(\n",
    "        rows=2, cols=2,\n",
    "        subplot_titles=(\n",
    "            f\"{base_column.capitalize()} Prediction Count\",\n",
    "            f\"{base_column.capitalize()} True Count\",\n",
    "            f\"Error Rate per {base_column.capitalize()}\",\n",
    "            f\"{base_column.capitalize()} Confusion Matrix\"\n",
    "        ),\n",
    "        specs=[\n",
    "            [{\"type\": \"bar\"}, {\"type\": \"bar\"}],\n",
    "            [{\"type\": \"bar\"}, {\"type\": \"heatmap\"}]\n",
    "        ]\n",
    "    )\n",
    "\n",
    "    # Prediction count bar chart\n",
    "    fig.add_trace(go.Bar(x=pred_counts.index.astype(str), y=pred_counts.values, name='Predicted'), row=1, col=1)\n",
    "\n",
    "    # True count bar chart\n",
    "    fig.add_trace(go.Bar(x=true_counts.index.astype(str), y=true_counts.values, name='True'), row=1, col=2)\n",
    "\n",
    "    # Error rate bar chart\n",
    "    fig.add_trace(go.Bar(\n",
    "        x=error_rate.index.astype(str),\n",
    "        y=error_rate.values,\n",
    "        marker=dict(color='skyblue'),\n",
    "        text=error_rate.values.round(2),\n",
    "        textposition='auto',\n",
    "        name='Error Rate'\n",
    "    ), row=2, col=1)\n",
    "\n",
    "    # Confusion matrix heatmap\n",
    "    fig.add_trace(go.Heatmap(\n",
    "        z=confusion.values,\n",
    "        x=confusion.columns.astype(str),\n",
    "        y=confusion.index.astype(str),\n",
    "        colorscale='Blues',\n",
    "        text=annotations,\n",
    "        texttemplate=\"%{text}\",\n",
    "        hoverinfo=\"z\"\n",
    "    ), row=2, col=2)\n",
    "\n",
    "    # Final layout tweaks\n",
    "    fig.update_layout(\n",
    "        title_text=f\"Classification Report for '{base_column}'\",\n",
    "        height=800,\n",
    "        width=1000,\n",
    "        showlegend=False\n",
    "    )\n",
    "\n",
    "    return fig\n",
    "\n",
    "def run_stats(preds, cat):\n",
    "    df_merged = pd.merge(preds, df_real, on='image', suffixes=('_pred', '_true'))\n",
    "    plot_all_stats(df_merged, cat).show()\n"
   ]
  },
  {
   "cell_type": "markdown",
   "id": "37416113",
   "metadata": {},
   "source": [
    "## Ethnie"
   ]
  },
  {
   "cell_type": "markdown",
   "id": "ac636b16",
   "metadata": {},
   "source": [
    "#### Sans contexte"
   ]
  },
  {
   "cell_type": "code",
   "execution_count": null,
   "id": "c21a6c01",
   "metadata": {},
   "outputs": [],
   "source": [
    "df_r_sans_contexte = import_data('./scv_1/r_sans_contexte.csv')\n",
    "run_stats(df_r_sans_contexte, 'race')"
   ]
  },
  {
   "cell_type": "code",
   "execution_count": null,
   "id": "60c3516e",
   "metadata": {},
   "outputs": [],
   "source": [
    "df_r_sans_contexte_caucasian = import_data('./scv_1/r_sans_contexte_caucasian.csv')\n",
    "run_stats(df_r_sans_contexte_caucasian, 'race')"
   ]
  },
  {
   "cell_type": "code",
   "execution_count": null,
   "id": "a647458f",
   "metadata": {},
   "outputs": [],
   "source": [
    "df_r_labels_corrected = import_data('./scv_1/r_labels_corrected.csv')\n",
    "run_stats(df_r_labels_corrected, 'race')"
   ]
  },
  {
   "cell_type": "markdown",
   "id": "32f31952",
   "metadata": {},
   "source": [
    "On voit que sans même rajouter du contexte, simplement en changeant les labels par des noms qui ont un rapport plus étriot avec des éthnies donnent de meilleurs résultats."
   ]
  },
  {
   "cell_type": "markdown",
   "id": "1193b24d",
   "metadata": {},
   "source": [
    "#### C1"
   ]
  },
  {
   "cell_type": "code",
   "execution_count": null,
   "id": "0a8933f5",
   "metadata": {},
   "outputs": [],
   "source": [
    "df_r_cultural_heritage = import_data('./scv_1/r_cultural_heritage.csv')\n",
    "run_stats(df_r_cultural_heritage, 'race')"
   ]
  },
  {
   "cell_type": "markdown",
   "id": "688e9edc",
   "metadata": {},
   "source": [
    "#### C2"
   ]
  },
  {
   "cell_type": "code",
   "execution_count": null,
   "id": "6a62df59",
   "metadata": {},
   "outputs": [],
   "source": [
    "df_r_portrait_individual = import_data('./scv_1/r_portrait_individual.csv')\n",
    "run_stats(df_r_portrait_individual, 'race')\n"
   ]
  },
  {
   "cell_type": "markdown",
   "id": "a698877e",
   "metadata": {},
   "source": [
    "Utiliser Caucasian à la place de White augmente la probabilité que ces derniers seront mieux prédits."
   ]
  },
  {
   "cell_type": "code",
   "execution_count": null,
   "id": "0e2eeeff",
   "metadata": {},
   "outputs": [],
   "source": [
    "df_r_feutures = import_data('./scv_1/r_feutures.csv')\n",
    "run_stats(df_r_feutures, 'race')\n"
   ]
  },
  {
   "cell_type": "code",
   "execution_count": null,
   "id": "c59010a1",
   "metadata": {},
   "outputs": [],
   "source": [
    "\n",
    "df_r_photo_of = import_data('./scv_1/r_photo_of.csv')\n",
    "run_stats(df_r_photo_of, 'race')\n"
   ]
  },
  {
   "cell_type": "code",
   "execution_count": null,
   "id": "8d396040",
   "metadata": {},
   "outputs": [],
   "source": [
    "df_g_sans = import_data('./scv_1/g_sans.csv')\n",
    "run_stats(df_g_sans, 'gender')\n",
    "\n"
   ]
  },
  {
   "cell_type": "code",
   "execution_count": null,
   "id": "d1851328",
   "metadata": {},
   "outputs": [],
   "source": [
    "df_g_formal = import_data('./scv_1/g_formal.csv')\n",
    "run_stats(df_g_formal, 'gender')"
   ]
  },
  {
   "cell_type": "code",
   "execution_count": null,
   "id": "42c1e753",
   "metadata": {},
   "outputs": [],
   "source": [
    "\n",
    "df_g_picture_of = import_data('./scv_1/g_picture_of.csv')\n",
    "run_stats(df_g_picture_of, 'gender')\n"
   ]
  },
  {
   "cell_type": "code",
   "execution_count": null,
   "id": "78910480",
   "metadata": {},
   "outputs": [],
   "source": [
    "\n",
    "df_g_wo_man = import_data('./scv_1/g_wo_man.csv')\n",
    "run_stats(df_g_wo_man, 'gender')\n"
   ]
  },
  {
   "cell_type": "code",
   "execution_count": null,
   "id": "88e3a792",
   "metadata": {},
   "outputs": [],
   "source": []
  }
 ],
 "metadata": {
  "kernelspec": {
   "display_name": "Python 3",
   "language": "python",
   "name": "python3"
  },
  "language_info": {
   "codemirror_mode": {
    "name": "ipython",
    "version": 3
   },
   "file_extension": ".py",
   "mimetype": "text/x-python",
   "name": "python",
   "nbconvert_exporter": "python",
   "pygments_lexer": "ipython3",
   "version": "3.12.5"
  }
 },
 "nbformat": 4,
 "nbformat_minor": 5
}
