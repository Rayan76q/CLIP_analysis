{
 "cells": [
  {
   "cell_type": "code",
   "execution_count": 23,
   "id": "dcc6974e",
   "metadata": {},
   "outputs": [],
   "source": [
    "import pandas as pd\n",
    "import numpy as np\n",
    "import os\n",
    "import sys\n",
    "import matplotlib.pyplot as plt\n",
    "import utils"
   ]
  },
  {
   "cell_type": "code",
   "execution_count": 24,
   "id": "fd48fc9e",
   "metadata": {},
   "outputs": [
    {
     "name": "stdout",
     "output_type": "stream",
     "text": [
      "Loaded 7000 entries successfully.\n",
      "Loaded 2000 entries successfully.\n",
      "Loaded 1000 entries successfully.\n"
     ]
    }
   ],
   "source": [
    "def load_data(path):\n",
    "    df_summary = pd.read_csv(\"./medical/data_summary.csv\")\n",
    "    df_summary[\"filename\"] = df_summary[\"filename\"].apply(lambda x: x.split(\".\")[0])\n",
    "    df_summary.head()\n",
    "\n",
    "    FOLDER_PATH = path\n",
    "\n",
    "\n",
    "    IMAGE_EXTENSIONS = ['.png', '.jpg', '.jpeg']\n",
    "    data_list = []\n",
    "\n",
    "    for filename in os.listdir(FOLDER_PATH):\n",
    "        if filename.endswith('.npz'):\n",
    "            file_stem = os.path.splitext(filename)[0]\n",
    "            npz_path = os.path.join(FOLDER_PATH, filename)\n",
    "            npz_data = np.load(npz_path, allow_pickle=True)\n",
    "            id = file_stem.split(\"_\")[-1]\n",
    "\n",
    "\n",
    "            data_entry = {\n",
    "                \"filename\": file_stem,\n",
    "                \"slo_fundus\": npz_data[\"slo_fundus\"],\n",
    "            }\n",
    "\n",
    "            data_list.append(data_entry)\n",
    "\n",
    "    print(f\"Loaded {len(data_list)} entries successfully.\")\n",
    "    df = pd.DataFrame(data_list)\n",
    "    df = pd.merge(df, df_summary, on='filename', how='inner').drop(columns = [\"use\"])\n",
    "    return df\n",
    "\n",
    "df_train = load_data(\"./medical/Training\")\n",
    "df_test = load_data(\"./medical/Test\")\n",
    "df_val = load_data(\"./medical/Validation\")"
   ]
  },
  {
   "cell_type": "markdown",
   "id": "59c3b99b",
   "metadata": {},
   "source": [
    "# Analyse de la distribution "
   ]
  },
  {
   "cell_type": "code",
   "execution_count": 25,
   "id": "2409e854",
   "metadata": {},
   "outputs": [
    {
     "data": {
      "application/vnd.plotly.v1+json": {
       "config": {
        "plotlyServerURL": "https://plot.ly"
       },
       "data": [
        {
         "domain": {
          "x": [
           0,
           0.2888888888888889
          ],
          "y": [
           0.9183673469387754,
           0.9999999999999999
          ]
         },
         "labels": [
          "white",
          "black",
          "asian"
         ],
         "name": "Race Train",
         "type": "pie",
         "values": [
          5372,
          1027,
          601
         ]
        },
        {
         "domain": {
          "x": [
           0,
           0.2888888888888889
          ],
          "y": [
           0.7653061224489794,
           0.8469387755102039
          ]
         },
         "labels": [
          "female",
          "male"
         ],
         "name": "Gender Train",
         "type": "pie",
         "values": [
          3964,
          3036
         ]
        },
        {
         "mode": "lines+markers",
         "name": "Age Train",
         "type": "scatter",
         "x": [
          10,
          11,
          12,
          13,
          14,
          15,
          16,
          17,
          18,
          19,
          20,
          21,
          22,
          23,
          24,
          25,
          26,
          27,
          28,
          29,
          30,
          31,
          32,
          33,
          34,
          35,
          36,
          37,
          38,
          39,
          40,
          41,
          42,
          43,
          44,
          45,
          46,
          47,
          48,
          49,
          50,
          51,
          52,
          53,
          54,
          55,
          56,
          57,
          58,
          59,
          60,
          61,
          62,
          63,
          64,
          65,
          66,
          67,
          68,
          69,
          70,
          71,
          72,
          73,
          74,
          75,
          76,
          77,
          78,
          79,
          80,
          81,
          82,
          83,
          84,
          85,
          86,
          87,
          88,
          89,
          90,
          91,
          92,
          93,
          94,
          95,
          96,
          97,
          98,
          100
         ],
         "xaxis": "x",
         "y": [
          2,
          2,
          1,
          6,
          7,
          4,
          3,
          3,
          10,
          19,
          18,
          24,
          14,
          28,
          21,
          31,
          39,
          32,
          46,
          40,
          56,
          46,
          42,
          55,
          46,
          42,
          48,
          54,
          43,
          37,
          68,
          46,
          68,
          61,
          68,
          67,
          72,
          70,
          83,
          78,
          94,
          106,
          111,
          108,
          128,
          128,
          116,
          122,
          138,
          147,
          151,
          176,
          171,
          181,
          219,
          217,
          189,
          207,
          201,
          179,
          172,
          198,
          198,
          182,
          188,
          165,
          172,
          126,
          124,
          124,
          109,
          81,
          80,
          65,
          71,
          62,
          57,
          53,
          44,
          38,
          25,
          23,
          17,
          10,
          15,
          4,
          4,
          2,
          1,
          1
         ],
         "yaxis": "y"
        },
        {
         "domain": {
          "x": [
           0,
           0.2888888888888889
          ],
          "y": [
           0.4591836734693877,
           0.5408163265306122
          ]
         },
         "labels": [
          "non-hispanic",
          "unknown",
          "hispanic"
         ],
         "name": "Ethnicity Train",
         "type": "pie",
         "values": [
          6343,
          378,
          279
         ]
        },
        {
         "domain": {
          "x": [
           0,
           0.2888888888888889
          ],
          "y": [
           0.30612244897959184,
           0.3877551020408163
          ]
         },
         "labels": [
          "english",
          "unknown",
          "spanish",
          "other"
         ],
         "name": "Language Train",
         "type": "pie",
         "values": [
          6466,
          356,
          123,
          55
         ]
        },
        {
         "domain": {
          "x": [
           0,
           0.2888888888888889
          ],
          "y": [
           0.15306122448979592,
           0.2346938775510204
          ]
         },
         "labels": [
          "married or partnered",
          "single",
          "divorced",
          "widowed",
          "unknown",
          "legally separated"
         ],
         "name": "Marital Status Train",
         "type": "pie",
         "values": [
          4011,
          1836,
          470,
          437,
          187,
          59
         ]
        },
        {
         "domain": {
          "x": [
           0,
           0.2888888888888889
          ],
          "y": [
           0,
           0.08163265306122448
          ]
         },
         "labels": [
          "yes",
          "no"
         ],
         "name": "Healthy vs Sick Train",
         "type": "pie",
         "values": [
          3535,
          3465
         ]
        },
        {
         "domain": {
          "x": [
           0.35555555555555557,
           0.6444444444444445
          ],
          "y": [
           0.9183673469387754,
           0.9999999999999999
          ]
         },
         "labels": [
          "white",
          "black",
          "asian"
         ],
         "name": "Race Test",
         "type": "pie",
         "values": [
          1537,
          305,
          158
         ]
        },
        {
         "domain": {
          "x": [
           0.35555555555555557,
           0.6444444444444445
          ],
          "y": [
           0.7653061224489794,
           0.8469387755102039
          ]
         },
         "labels": [
          "female",
          "male"
         ],
         "name": "Gender Test",
         "type": "pie",
         "values": [
          1096,
          904
         ]
        },
        {
         "mode": "lines+markers",
         "name": "Age Test",
         "type": "scatter",
         "x": [
          9,
          12,
          13,
          14,
          15,
          16,
          17,
          18,
          19,
          20,
          21,
          22,
          23,
          24,
          25,
          26,
          27,
          28,
          29,
          30,
          31,
          32,
          33,
          34,
          35,
          36,
          37,
          38,
          39,
          40,
          41,
          42,
          43,
          44,
          45,
          46,
          47,
          48,
          49,
          50,
          51,
          52,
          53,
          54,
          55,
          56,
          57,
          58,
          59,
          60,
          61,
          62,
          63,
          64,
          65,
          66,
          67,
          68,
          69,
          70,
          71,
          72,
          73,
          74,
          75,
          76,
          77,
          78,
          79,
          80,
          81,
          82,
          83,
          84,
          85,
          86,
          87,
          88,
          89,
          90,
          91,
          92,
          93,
          95,
          96,
          97,
          98
         ],
         "xaxis": "x2",
         "y": [
          1,
          2,
          1,
          1,
          2,
          4,
          3,
          1,
          4,
          3,
          3,
          5,
          6,
          8,
          12,
          9,
          13,
          17,
          7,
          12,
          15,
          12,
          12,
          12,
          17,
          16,
          15,
          16,
          19,
          17,
          17,
          16,
          13,
          23,
          20,
          18,
          23,
          25,
          29,
          25,
          35,
          23,
          26,
          35,
          37,
          43,
          28,
          54,
          40,
          40,
          36,
          48,
          50,
          62,
          58,
          41,
          63,
          57,
          40,
          58,
          52,
          54,
          54,
          60,
          30,
          54,
          35,
          46,
          34,
          41,
          31,
          25,
          26,
          24,
          15,
          12,
          14,
          10,
          11,
          9,
          5,
          1,
          2,
          2,
          2,
          2,
          1
         ],
         "yaxis": "y2"
        },
        {
         "domain": {
          "x": [
           0.35555555555555557,
           0.6444444444444445
          ],
          "y": [
           0.4591836734693877,
           0.5408163265306122
          ]
         },
         "labels": [
          "non-hispanic",
          "unknown",
          "hispanic"
         ],
         "name": "Ethnicity Test",
         "type": "pie",
         "values": [
          1816,
          108,
          76
         ]
        },
        {
         "domain": {
          "x": [
           0.35555555555555557,
           0.6444444444444445
          ],
          "y": [
           0.30612244897959184,
           0.3877551020408163
          ]
         },
         "labels": [
          "english",
          "unknown",
          "spanish",
          "other"
         ],
         "name": "Language Test",
         "type": "pie",
         "values": [
          1868,
          90,
          31,
          11
         ]
        },
        {
         "domain": {
          "x": [
           0.35555555555555557,
           0.6444444444444445
          ],
          "y": [
           0.15306122448979592,
           0.2346938775510204
          ]
         },
         "labels": [
          "married or partnered",
          "single",
          "divorced",
          "widowed",
          "unknown",
          "legally separated"
         ],
         "name": "Marital Status Test",
         "type": "pie",
         "values": [
          1158,
          529,
          130,
          126,
          35,
          22
         ]
        },
        {
         "domain": {
          "x": [
           0.35555555555555557,
           0.6444444444444445
          ],
          "y": [
           0,
           0.08163265306122448
          ]
         },
         "labels": [
          "yes",
          "no"
         ],
         "name": "Healthy vs Sick Test",
         "type": "pie",
         "values": [
          1023,
          977
         ]
        },
        {
         "domain": {
          "x": [
           0.7111111111111111,
           1
          ],
          "y": [
           0.9183673469387754,
           0.9999999999999999
          ]
         },
         "labels": [
          "white",
          "black",
          "asian"
         ],
         "name": "Race Val",
         "type": "pie",
         "values": [
          781,
          159,
          60
         ]
        },
        {
         "domain": {
          "x": [
           0.7111111111111111,
           1
          ],
          "y": [
           0.7653061224489794,
           0.8469387755102039
          ]
         },
         "labels": [
          "female",
          "male"
         ],
         "name": "Gender Val",
         "type": "pie",
         "values": [
          571,
          429
         ]
        },
        {
         "mode": "lines+markers",
         "name": "Age Val",
         "type": "scatter",
         "x": [
          13,
          14,
          16,
          17,
          19,
          21,
          22,
          23,
          24,
          25,
          26,
          27,
          28,
          29,
          30,
          31,
          32,
          33,
          34,
          35,
          36,
          37,
          38,
          39,
          40,
          41,
          42,
          43,
          44,
          45,
          46,
          47,
          48,
          49,
          50,
          51,
          52,
          53,
          54,
          55,
          56,
          57,
          58,
          59,
          60,
          61,
          62,
          63,
          64,
          65,
          66,
          67,
          68,
          69,
          70,
          71,
          72,
          73,
          74,
          75,
          76,
          77,
          78,
          79,
          80,
          81,
          82,
          83,
          84,
          85,
          86,
          87,
          88,
          89,
          90,
          91,
          92,
          93,
          94,
          95
         ],
         "xaxis": "x3",
         "y": [
          1,
          1,
          1,
          1,
          1,
          2,
          3,
          4,
          5,
          5,
          7,
          5,
          5,
          5,
          5,
          4,
          8,
          12,
          9,
          8,
          8,
          5,
          9,
          6,
          8,
          11,
          5,
          7,
          6,
          11,
          4,
          9,
          12,
          14,
          11,
          14,
          17,
          12,
          20,
          17,
          26,
          19,
          25,
          22,
          22,
          27,
          24,
          26,
          28,
          35,
          31,
          16,
          32,
          36,
          26,
          23,
          15,
          25,
          31,
          21,
          20,
          22,
          22,
          16,
          16,
          16,
          10,
          17,
          7,
          9,
          10,
          8,
          2,
          8,
          1,
          3,
          1,
          1,
          2,
          1
         ],
         "yaxis": "y3"
        },
        {
         "domain": {
          "x": [
           0.7111111111111111,
           1
          ],
          "y": [
           0.4591836734693877,
           0.5408163265306122
          ]
         },
         "labels": [
          "non-hispanic",
          "unknown",
          "hispanic"
         ],
         "name": "Ethnicity Val",
         "type": "pie",
         "values": [
          903,
          54,
          43
         ]
        },
        {
         "domain": {
          "x": [
           0.7111111111111111,
           1
          ],
          "y": [
           0.30612244897959184,
           0.3877551020408163
          ]
         },
         "labels": [
          "english",
          "unknown",
          "spanish",
          "other"
         ],
         "name": "Language Val",
         "type": "pie",
         "values": [
          916,
          52,
          22,
          10
         ]
        },
        {
         "domain": {
          "x": [
           0.7111111111111111,
           1
          ],
          "y": [
           0.15306122448979592,
           0.2346938775510204
          ]
         },
         "labels": [
          "married or partnered",
          "single",
          "divorced",
          "widowed",
          "unknown",
          "legally separated"
         ],
         "name": "Marital Status Val",
         "type": "pie",
         "values": [
          570,
          272,
          62,
          51,
          29,
          16
         ]
        },
        {
         "domain": {
          "x": [
           0.7111111111111111,
           1
          ],
          "y": [
           0,
           0.08163265306122448
          ]
         },
         "labels": [
          "no",
          "yes"
         ],
         "name": "Healthy vs Sick Val",
         "type": "pie",
         "values": [
          510,
          490
         ]
        }
       ],
       "layout": {
        "annotations": [
         {
          "font": {
           "size": 16
          },
          "showarrow": false,
          "text": "Race Distribution (Train)",
          "x": 0.14444444444444446,
          "xanchor": "center",
          "xref": "paper",
          "y": 0.9999999999999999,
          "yanchor": "bottom",
          "yref": "paper"
         },
         {
          "font": {
           "size": 16
          },
          "showarrow": false,
          "text": "Race Distribution (Test)",
          "x": 0.5,
          "xanchor": "center",
          "xref": "paper",
          "y": 0.9999999999999999,
          "yanchor": "bottom",
          "yref": "paper"
         },
         {
          "font": {
           "size": 16
          },
          "showarrow": false,
          "text": "Race Distribution (Val)",
          "x": 0.8555555555555556,
          "xanchor": "center",
          "xref": "paper",
          "y": 0.9999999999999999,
          "yanchor": "bottom",
          "yref": "paper"
         },
         {
          "font": {
           "size": 16
          },
          "showarrow": false,
          "text": "Gender Distribution (Train)",
          "x": 0.14444444444444446,
          "xanchor": "center",
          "xref": "paper",
          "y": 0.8469387755102039,
          "yanchor": "bottom",
          "yref": "paper"
         },
         {
          "font": {
           "size": 16
          },
          "showarrow": false,
          "text": "Gender Distribution (Test)",
          "x": 0.5,
          "xanchor": "center",
          "xref": "paper",
          "y": 0.8469387755102039,
          "yanchor": "bottom",
          "yref": "paper"
         },
         {
          "font": {
           "size": 16
          },
          "showarrow": false,
          "text": "Gender Distribution (Val)",
          "x": 0.8555555555555556,
          "xanchor": "center",
          "xref": "paper",
          "y": 0.8469387755102039,
          "yanchor": "bottom",
          "yref": "paper"
         },
         {
          "font": {
           "size": 16
          },
          "showarrow": false,
          "text": "Age Distribution (Train)",
          "x": 0.14444444444444446,
          "xanchor": "center",
          "xref": "paper",
          "y": 0.6938775510204082,
          "yanchor": "bottom",
          "yref": "paper"
         },
         {
          "font": {
           "size": 16
          },
          "showarrow": false,
          "text": "Age Distribution (Test)",
          "x": 0.5,
          "xanchor": "center",
          "xref": "paper",
          "y": 0.6938775510204082,
          "yanchor": "bottom",
          "yref": "paper"
         },
         {
          "font": {
           "size": 16
          },
          "showarrow": false,
          "text": "Age Distribution (Val)",
          "x": 0.8555555555555556,
          "xanchor": "center",
          "xref": "paper",
          "y": 0.6938775510204082,
          "yanchor": "bottom",
          "yref": "paper"
         },
         {
          "font": {
           "size": 16
          },
          "showarrow": false,
          "text": "Ethnicity Distribution (Train)",
          "x": 0.14444444444444446,
          "xanchor": "center",
          "xref": "paper",
          "y": 0.5408163265306122,
          "yanchor": "bottom",
          "yref": "paper"
         },
         {
          "font": {
           "size": 16
          },
          "showarrow": false,
          "text": "Ethnicity Distribution (Test)",
          "x": 0.5,
          "xanchor": "center",
          "xref": "paper",
          "y": 0.5408163265306122,
          "yanchor": "bottom",
          "yref": "paper"
         },
         {
          "font": {
           "size": 16
          },
          "showarrow": false,
          "text": "Ethnicity Distribution (Val)",
          "x": 0.8555555555555556,
          "xanchor": "center",
          "xref": "paper",
          "y": 0.5408163265306122,
          "yanchor": "bottom",
          "yref": "paper"
         },
         {
          "font": {
           "size": 16
          },
          "showarrow": false,
          "text": "Language Distribution (Train)",
          "x": 0.14444444444444446,
          "xanchor": "center",
          "xref": "paper",
          "y": 0.3877551020408163,
          "yanchor": "bottom",
          "yref": "paper"
         },
         {
          "font": {
           "size": 16
          },
          "showarrow": false,
          "text": "Language Distribution (Test)",
          "x": 0.5,
          "xanchor": "center",
          "xref": "paper",
          "y": 0.3877551020408163,
          "yanchor": "bottom",
          "yref": "paper"
         },
         {
          "font": {
           "size": 16
          },
          "showarrow": false,
          "text": "Language Distribution (Val)",
          "x": 0.8555555555555556,
          "xanchor": "center",
          "xref": "paper",
          "y": 0.3877551020408163,
          "yanchor": "bottom",
          "yref": "paper"
         },
         {
          "font": {
           "size": 16
          },
          "showarrow": false,
          "text": "Marital Status Distribution (Train)",
          "x": 0.14444444444444446,
          "xanchor": "center",
          "xref": "paper",
          "y": 0.2346938775510204,
          "yanchor": "bottom",
          "yref": "paper"
         },
         {
          "font": {
           "size": 16
          },
          "showarrow": false,
          "text": "Marital Status Distribution (Test)",
          "x": 0.5,
          "xanchor": "center",
          "xref": "paper",
          "y": 0.2346938775510204,
          "yanchor": "bottom",
          "yref": "paper"
         },
         {
          "font": {
           "size": 16
          },
          "showarrow": false,
          "text": "Marital Status Distribution (Val)",
          "x": 0.8555555555555556,
          "xanchor": "center",
          "xref": "paper",
          "y": 0.2346938775510204,
          "yanchor": "bottom",
          "yref": "paper"
         },
         {
          "font": {
           "size": 16
          },
          "showarrow": false,
          "text": "Healthy vs Sick (Train)",
          "x": 0.14444444444444446,
          "xanchor": "center",
          "xref": "paper",
          "y": 0.08163265306122448,
          "yanchor": "bottom",
          "yref": "paper"
         },
         {
          "font": {
           "size": 16
          },
          "showarrow": false,
          "text": "Healthy vs Sick (Test)",
          "x": 0.5,
          "xanchor": "center",
          "xref": "paper",
          "y": 0.08163265306122448,
          "yanchor": "bottom",
          "yref": "paper"
         },
         {
          "font": {
           "size": 16
          },
          "showarrow": false,
          "text": "Healthy vs Sick (Val)",
          "x": 0.8555555555555556,
          "xanchor": "center",
          "xref": "paper",
          "y": 0.08163265306122448,
          "yanchor": "bottom",
          "yref": "paper"
         }
        ],
        "height": 2100,
        "showlegend": false,
        "template": {
         "data": {
          "bar": [
           {
            "error_x": {
             "color": "#2a3f5f"
            },
            "error_y": {
             "color": "#2a3f5f"
            },
            "marker": {
             "line": {
              "color": "#E5ECF6",
              "width": 0.5
             },
             "pattern": {
              "fillmode": "overlay",
              "size": 10,
              "solidity": 0.2
             }
            },
            "type": "bar"
           }
          ],
          "barpolar": [
           {
            "marker": {
             "line": {
              "color": "#E5ECF6",
              "width": 0.5
             },
             "pattern": {
              "fillmode": "overlay",
              "size": 10,
              "solidity": 0.2
             }
            },
            "type": "barpolar"
           }
          ],
          "carpet": [
           {
            "aaxis": {
             "endlinecolor": "#2a3f5f",
             "gridcolor": "white",
             "linecolor": "white",
             "minorgridcolor": "white",
             "startlinecolor": "#2a3f5f"
            },
            "baxis": {
             "endlinecolor": "#2a3f5f",
             "gridcolor": "white",
             "linecolor": "white",
             "minorgridcolor": "white",
             "startlinecolor": "#2a3f5f"
            },
            "type": "carpet"
           }
          ],
          "choropleth": [
           {
            "colorbar": {
             "outlinewidth": 0,
             "ticks": ""
            },
            "type": "choropleth"
           }
          ],
          "contour": [
           {
            "colorbar": {
             "outlinewidth": 0,
             "ticks": ""
            },
            "colorscale": [
             [
              0,
              "#0d0887"
             ],
             [
              0.1111111111111111,
              "#46039f"
             ],
             [
              0.2222222222222222,
              "#7201a8"
             ],
             [
              0.3333333333333333,
              "#9c179e"
             ],
             [
              0.4444444444444444,
              "#bd3786"
             ],
             [
              0.5555555555555556,
              "#d8576b"
             ],
             [
              0.6666666666666666,
              "#ed7953"
             ],
             [
              0.7777777777777778,
              "#fb9f3a"
             ],
             [
              0.8888888888888888,
              "#fdca26"
             ],
             [
              1,
              "#f0f921"
             ]
            ],
            "type": "contour"
           }
          ],
          "contourcarpet": [
           {
            "colorbar": {
             "outlinewidth": 0,
             "ticks": ""
            },
            "type": "contourcarpet"
           }
          ],
          "heatmap": [
           {
            "colorbar": {
             "outlinewidth": 0,
             "ticks": ""
            },
            "colorscale": [
             [
              0,
              "#0d0887"
             ],
             [
              0.1111111111111111,
              "#46039f"
             ],
             [
              0.2222222222222222,
              "#7201a8"
             ],
             [
              0.3333333333333333,
              "#9c179e"
             ],
             [
              0.4444444444444444,
              "#bd3786"
             ],
             [
              0.5555555555555556,
              "#d8576b"
             ],
             [
              0.6666666666666666,
              "#ed7953"
             ],
             [
              0.7777777777777778,
              "#fb9f3a"
             ],
             [
              0.8888888888888888,
              "#fdca26"
             ],
             [
              1,
              "#f0f921"
             ]
            ],
            "type": "heatmap"
           }
          ],
          "heatmapgl": [
           {
            "colorbar": {
             "outlinewidth": 0,
             "ticks": ""
            },
            "colorscale": [
             [
              0,
              "#0d0887"
             ],
             [
              0.1111111111111111,
              "#46039f"
             ],
             [
              0.2222222222222222,
              "#7201a8"
             ],
             [
              0.3333333333333333,
              "#9c179e"
             ],
             [
              0.4444444444444444,
              "#bd3786"
             ],
             [
              0.5555555555555556,
              "#d8576b"
             ],
             [
              0.6666666666666666,
              "#ed7953"
             ],
             [
              0.7777777777777778,
              "#fb9f3a"
             ],
             [
              0.8888888888888888,
              "#fdca26"
             ],
             [
              1,
              "#f0f921"
             ]
            ],
            "type": "heatmapgl"
           }
          ],
          "histogram": [
           {
            "marker": {
             "pattern": {
              "fillmode": "overlay",
              "size": 10,
              "solidity": 0.2
             }
            },
            "type": "histogram"
           }
          ],
          "histogram2d": [
           {
            "colorbar": {
             "outlinewidth": 0,
             "ticks": ""
            },
            "colorscale": [
             [
              0,
              "#0d0887"
             ],
             [
              0.1111111111111111,
              "#46039f"
             ],
             [
              0.2222222222222222,
              "#7201a8"
             ],
             [
              0.3333333333333333,
              "#9c179e"
             ],
             [
              0.4444444444444444,
              "#bd3786"
             ],
             [
              0.5555555555555556,
              "#d8576b"
             ],
             [
              0.6666666666666666,
              "#ed7953"
             ],
             [
              0.7777777777777778,
              "#fb9f3a"
             ],
             [
              0.8888888888888888,
              "#fdca26"
             ],
             [
              1,
              "#f0f921"
             ]
            ],
            "type": "histogram2d"
           }
          ],
          "histogram2dcontour": [
           {
            "colorbar": {
             "outlinewidth": 0,
             "ticks": ""
            },
            "colorscale": [
             [
              0,
              "#0d0887"
             ],
             [
              0.1111111111111111,
              "#46039f"
             ],
             [
              0.2222222222222222,
              "#7201a8"
             ],
             [
              0.3333333333333333,
              "#9c179e"
             ],
             [
              0.4444444444444444,
              "#bd3786"
             ],
             [
              0.5555555555555556,
              "#d8576b"
             ],
             [
              0.6666666666666666,
              "#ed7953"
             ],
             [
              0.7777777777777778,
              "#fb9f3a"
             ],
             [
              0.8888888888888888,
              "#fdca26"
             ],
             [
              1,
              "#f0f921"
             ]
            ],
            "type": "histogram2dcontour"
           }
          ],
          "mesh3d": [
           {
            "colorbar": {
             "outlinewidth": 0,
             "ticks": ""
            },
            "type": "mesh3d"
           }
          ],
          "parcoords": [
           {
            "line": {
             "colorbar": {
              "outlinewidth": 0,
              "ticks": ""
             }
            },
            "type": "parcoords"
           }
          ],
          "pie": [
           {
            "automargin": true,
            "type": "pie"
           }
          ],
          "scatter": [
           {
            "fillpattern": {
             "fillmode": "overlay",
             "size": 10,
             "solidity": 0.2
            },
            "type": "scatter"
           }
          ],
          "scatter3d": [
           {
            "line": {
             "colorbar": {
              "outlinewidth": 0,
              "ticks": ""
             }
            },
            "marker": {
             "colorbar": {
              "outlinewidth": 0,
              "ticks": ""
             }
            },
            "type": "scatter3d"
           }
          ],
          "scattercarpet": [
           {
            "marker": {
             "colorbar": {
              "outlinewidth": 0,
              "ticks": ""
             }
            },
            "type": "scattercarpet"
           }
          ],
          "scattergeo": [
           {
            "marker": {
             "colorbar": {
              "outlinewidth": 0,
              "ticks": ""
             }
            },
            "type": "scattergeo"
           }
          ],
          "scattergl": [
           {
            "marker": {
             "colorbar": {
              "outlinewidth": 0,
              "ticks": ""
             }
            },
            "type": "scattergl"
           }
          ],
          "scattermapbox": [
           {
            "marker": {
             "colorbar": {
              "outlinewidth": 0,
              "ticks": ""
             }
            },
            "type": "scattermapbox"
           }
          ],
          "scatterpolar": [
           {
            "marker": {
             "colorbar": {
              "outlinewidth": 0,
              "ticks": ""
             }
            },
            "type": "scatterpolar"
           }
          ],
          "scatterpolargl": [
           {
            "marker": {
             "colorbar": {
              "outlinewidth": 0,
              "ticks": ""
             }
            },
            "type": "scatterpolargl"
           }
          ],
          "scatterternary": [
           {
            "marker": {
             "colorbar": {
              "outlinewidth": 0,
              "ticks": ""
             }
            },
            "type": "scatterternary"
           }
          ],
          "surface": [
           {
            "colorbar": {
             "outlinewidth": 0,
             "ticks": ""
            },
            "colorscale": [
             [
              0,
              "#0d0887"
             ],
             [
              0.1111111111111111,
              "#46039f"
             ],
             [
              0.2222222222222222,
              "#7201a8"
             ],
             [
              0.3333333333333333,
              "#9c179e"
             ],
             [
              0.4444444444444444,
              "#bd3786"
             ],
             [
              0.5555555555555556,
              "#d8576b"
             ],
             [
              0.6666666666666666,
              "#ed7953"
             ],
             [
              0.7777777777777778,
              "#fb9f3a"
             ],
             [
              0.8888888888888888,
              "#fdca26"
             ],
             [
              1,
              "#f0f921"
             ]
            ],
            "type": "surface"
           }
          ],
          "table": [
           {
            "cells": {
             "fill": {
              "color": "#EBF0F8"
             },
             "line": {
              "color": "white"
             }
            },
            "header": {
             "fill": {
              "color": "#C8D4E3"
             },
             "line": {
              "color": "white"
             }
            },
            "type": "table"
           }
          ]
         },
         "layout": {
          "annotationdefaults": {
           "arrowcolor": "#2a3f5f",
           "arrowhead": 0,
           "arrowwidth": 1
          },
          "autotypenumbers": "strict",
          "coloraxis": {
           "colorbar": {
            "outlinewidth": 0,
            "ticks": ""
           }
          },
          "colorscale": {
           "diverging": [
            [
             0,
             "#8e0152"
            ],
            [
             0.1,
             "#c51b7d"
            ],
            [
             0.2,
             "#de77ae"
            ],
            [
             0.3,
             "#f1b6da"
            ],
            [
             0.4,
             "#fde0ef"
            ],
            [
             0.5,
             "#f7f7f7"
            ],
            [
             0.6,
             "#e6f5d0"
            ],
            [
             0.7,
             "#b8e186"
            ],
            [
             0.8,
             "#7fbc41"
            ],
            [
             0.9,
             "#4d9221"
            ],
            [
             1,
             "#276419"
            ]
           ],
           "sequential": [
            [
             0,
             "#0d0887"
            ],
            [
             0.1111111111111111,
             "#46039f"
            ],
            [
             0.2222222222222222,
             "#7201a8"
            ],
            [
             0.3333333333333333,
             "#9c179e"
            ],
            [
             0.4444444444444444,
             "#bd3786"
            ],
            [
             0.5555555555555556,
             "#d8576b"
            ],
            [
             0.6666666666666666,
             "#ed7953"
            ],
            [
             0.7777777777777778,
             "#fb9f3a"
            ],
            [
             0.8888888888888888,
             "#fdca26"
            ],
            [
             1,
             "#f0f921"
            ]
           ],
           "sequentialminus": [
            [
             0,
             "#0d0887"
            ],
            [
             0.1111111111111111,
             "#46039f"
            ],
            [
             0.2222222222222222,
             "#7201a8"
            ],
            [
             0.3333333333333333,
             "#9c179e"
            ],
            [
             0.4444444444444444,
             "#bd3786"
            ],
            [
             0.5555555555555556,
             "#d8576b"
            ],
            [
             0.6666666666666666,
             "#ed7953"
            ],
            [
             0.7777777777777778,
             "#fb9f3a"
            ],
            [
             0.8888888888888888,
             "#fdca26"
            ],
            [
             1,
             "#f0f921"
            ]
           ]
          },
          "colorway": [
           "#636efa",
           "#EF553B",
           "#00cc96",
           "#ab63fa",
           "#FFA15A",
           "#19d3f3",
           "#FF6692",
           "#B6E880",
           "#FF97FF",
           "#FECB52"
          ],
          "font": {
           "color": "#2a3f5f"
          },
          "geo": {
           "bgcolor": "white",
           "lakecolor": "white",
           "landcolor": "#E5ECF6",
           "showlakes": true,
           "showland": true,
           "subunitcolor": "white"
          },
          "hoverlabel": {
           "align": "left"
          },
          "hovermode": "closest",
          "mapbox": {
           "style": "light"
          },
          "paper_bgcolor": "white",
          "plot_bgcolor": "#E5ECF6",
          "polar": {
           "angularaxis": {
            "gridcolor": "white",
            "linecolor": "white",
            "ticks": ""
           },
           "bgcolor": "#E5ECF6",
           "radialaxis": {
            "gridcolor": "white",
            "linecolor": "white",
            "ticks": ""
           }
          },
          "scene": {
           "xaxis": {
            "backgroundcolor": "#E5ECF6",
            "gridcolor": "white",
            "gridwidth": 2,
            "linecolor": "white",
            "showbackground": true,
            "ticks": "",
            "zerolinecolor": "white"
           },
           "yaxis": {
            "backgroundcolor": "#E5ECF6",
            "gridcolor": "white",
            "gridwidth": 2,
            "linecolor": "white",
            "showbackground": true,
            "ticks": "",
            "zerolinecolor": "white"
           },
           "zaxis": {
            "backgroundcolor": "#E5ECF6",
            "gridcolor": "white",
            "gridwidth": 2,
            "linecolor": "white",
            "showbackground": true,
            "ticks": "",
            "zerolinecolor": "white"
           }
          },
          "shapedefaults": {
           "line": {
            "color": "#2a3f5f"
           }
          },
          "ternary": {
           "aaxis": {
            "gridcolor": "white",
            "linecolor": "white",
            "ticks": ""
           },
           "baxis": {
            "gridcolor": "white",
            "linecolor": "white",
            "ticks": ""
           },
           "bgcolor": "#E5ECF6",
           "caxis": {
            "gridcolor": "white",
            "linecolor": "white",
            "ticks": ""
           }
          },
          "title": {
           "x": 0.05
          },
          "xaxis": {
           "automargin": true,
           "gridcolor": "white",
           "linecolor": "white",
           "ticks": "",
           "title": {
            "standoff": 15
           },
           "zerolinecolor": "white",
           "zerolinewidth": 2
          },
          "yaxis": {
           "automargin": true,
           "gridcolor": "white",
           "linecolor": "white",
           "ticks": "",
           "title": {
            "standoff": 15
           },
           "zerolinecolor": "white",
           "zerolinewidth": 2
          }
         }
        },
        "title": {
         "text": "Comparison of Distributions Across Datasets"
        },
        "width": 1200,
        "xaxis": {
         "anchor": "y",
         "domain": [
          0,
          0.2888888888888889
         ]
        },
        "xaxis2": {
         "anchor": "y2",
         "domain": [
          0.35555555555555557,
          0.6444444444444445
         ]
        },
        "xaxis3": {
         "anchor": "y3",
         "domain": [
          0.7111111111111111,
          1
         ]
        },
        "yaxis": {
         "anchor": "x",
         "domain": [
          0.6122448979591837,
          0.6938775510204082
         ]
        },
        "yaxis2": {
         "anchor": "x2",
         "domain": [
          0.6122448979591837,
          0.6938775510204082
         ]
        },
        "yaxis3": {
         "anchor": "x3",
         "domain": [
          0.6122448979591837,
          0.6938775510204082
         ]
        }
       }
      }
     },
     "metadata": {},
     "output_type": "display_data"
    }
   ],
   "source": [
    "import plotly.graph_objs as go\n",
    "from plotly.subplots import make_subplots\n",
    "\n",
    "def plot_distributions(df_train, df_test, df_val):\n",
    "    df_train['age_rounded'] = df_train['age'].round()\n",
    "    df_test['age_rounded'] = df_test['age'].round()\n",
    "    df_val['age_rounded'] = df_val['age'].round()\n",
    "\n",
    "    fig = make_subplots(\n",
    "        rows=7, cols=3,\n",
    "        subplot_titles=[\n",
    "            \"Race Distribution (Train)\", \"Race Distribution (Test)\", \"Race Distribution (Val)\",\n",
    "            \"Gender Distribution (Train)\", \"Gender Distribution (Test)\", \"Gender Distribution (Val)\",\n",
    "            \"Age Distribution (Train)\", \"Age Distribution (Test)\", \"Age Distribution (Val)\",\n",
    "            \"Ethnicity Distribution (Train)\", \"Ethnicity Distribution (Test)\", \"Ethnicity Distribution (Val)\",\n",
    "            \"Language Distribution (Train)\", \"Language Distribution (Test)\", \"Language Distribution (Val)\",\n",
    "            \"Marital Status Distribution (Train)\", \"Marital Status Distribution (Test)\", \"Marital Status Distribution (Val)\",\n",
    "            \"Healthy vs Sick (Train)\", \"Healthy vs Sick (Test)\", \"Healthy vs Sick (Val)\"\n",
    "        ],\n",
    "        specs=[\n",
    "            [{\"type\": \"pie\"}, {\"type\": \"pie\"}, {\"type\": \"pie\"}],\n",
    "            [{\"type\": \"pie\"}, {\"type\": \"pie\"}, {\"type\": \"pie\"}],\n",
    "            [{\"type\": \"scatter\"}, {\"type\": \"scatter\"}, {\"type\": \"scatter\"}],\n",
    "            [{\"type\": \"pie\"}, {\"type\": \"pie\"}, {\"type\": \"pie\"}],\n",
    "            [{\"type\": \"pie\"}, {\"type\": \"pie\"}, {\"type\": \"pie\"}],\n",
    "            [{\"type\": \"pie\"}, {\"type\": \"pie\"}, {\"type\": \"pie\"}],\n",
    "            [{\"type\": \"pie\"}, {\"type\": \"pie\"}, {\"type\": \"pie\"}]\n",
    "        ]\n",
    "    )\n",
    "\n",
    "    for i, (df, title) in enumerate(zip([df_train, df_test, df_val], [\"Train\", \"Test\", \"Val\"])):\n",
    "        race_counts = df['race'].value_counts()\n",
    "        fig.add_trace(go.Pie(labels=race_counts.index, values=race_counts.values, name=f\"Race {title}\"), row=1, col=i + 1)\n",
    "\n",
    "        gender_counts = df['gender'].value_counts()\n",
    "        fig.add_trace(go.Pie(labels=gender_counts.index, values=gender_counts.values, name=f\"Gender {title}\"), row=2, col=i + 1)\n",
    "\n",
    "        age_counts = df['age_rounded'].value_counts().sort_index()\n",
    "        fig.add_trace(go.Scatter(x=age_counts.index, y=age_counts.values, mode='lines+markers', name=f\"Age {title}\"), row=3, col=i + 1)\n",
    "\n",
    "        ethnicity_counts = df['ethnicity'].value_counts()\n",
    "        fig.add_trace(go.Pie(labels=ethnicity_counts.index, values=ethnicity_counts.values, name=f\"Ethnicity {title}\"), row=4, col=i + 1)\n",
    "\n",
    "        language_counts = df['language'].value_counts()\n",
    "        fig.add_trace(go.Pie(labels=language_counts.index, values=language_counts.values, name=f\"Language {title}\"), row=5, col=i + 1)\n",
    "\n",
    "        marital_status_counts = df['maritalstatus'].value_counts()\n",
    "        fig.add_trace(go.Pie(labels=marital_status_counts.index, values=marital_status_counts.values, name=f\"Marital Status {title}\"), row=6, col=i + 1)\n",
    "\n",
    "        glaucoma_counts = df['glaucoma'].value_counts()\n",
    "        fig.add_trace(go.Pie(labels=glaucoma_counts.index, values=glaucoma_counts.values, name=f\"Healthy vs Sick {title}\"), row=7, col=i + 1)\n",
    "\n",
    "    fig.update_layout(\n",
    "        title=\"Comparison of Distributions Across Datasets\",\n",
    "        height=2100,  # Adjusted height for 7 rows\n",
    "        width=1200,\n",
    "        showlegend=False\n",
    "    )\n",
    "\n",
    "    fig.show()\n",
    "\n",
    "plot_distributions(df_train, df_test, df_val)"
   ]
  },
  {
   "cell_type": "code",
   "execution_count": 26,
   "id": "52950277",
   "metadata": {},
   "outputs": [
    {
     "data": {
      "text/html": [
       "<div>\n",
       "<style scoped>\n",
       "    .dataframe tbody tr th:only-of-type {\n",
       "        vertical-align: middle;\n",
       "    }\n",
       "\n",
       "    .dataframe tbody tr th {\n",
       "        vertical-align: top;\n",
       "    }\n",
       "\n",
       "    .dataframe thead th {\n",
       "        text-align: right;\n",
       "    }\n",
       "</style>\n",
       "<table border=\"1\" class=\"dataframe\">\n",
       "  <thead>\n",
       "    <tr style=\"text-align: right;\">\n",
       "      <th></th>\n",
       "      <th>filename</th>\n",
       "      <th>slo_fundus</th>\n",
       "      <th>age</th>\n",
       "      <th>gender</th>\n",
       "      <th>race</th>\n",
       "      <th>ethnicity</th>\n",
       "      <th>language</th>\n",
       "      <th>maritalstatus</th>\n",
       "      <th>note</th>\n",
       "      <th>gpt4_summary</th>\n",
       "      <th>glaucoma</th>\n",
       "      <th>age_rounded</th>\n",
       "      <th>dataset</th>\n",
       "    </tr>\n",
       "  </thead>\n",
       "  <tbody>\n",
       "    <tr>\n",
       "      <th>0</th>\n",
       "      <td>data_00001</td>\n",
       "      <td>[[0, 0, 0, 0, 0, 0, 0, 0, 0, 0, 0, 0, 0, 0, 0,...</td>\n",
       "      <td>56.56</td>\n",
       "      <td>female</td>\n",
       "      <td>black</td>\n",
       "      <td>non-hispanic</td>\n",
       "      <td>english</td>\n",
       "      <td>single</td>\n",
       "      <td>ms. PERSON is a 56 yo woman presenting to esta...</td>\n",
       "      <td>The 56 y/o female patient has optic nerve head...</td>\n",
       "      <td>yes</td>\n",
       "      <td>57.0</td>\n",
       "      <td>Train</td>\n",
       "    </tr>\n",
       "    <tr>\n",
       "      <th>1</th>\n",
       "      <td>data_00002</td>\n",
       "      <td>[[1, 0, 0, 0, 0, 1, 0, 0, 0, 0, 0, 0, 0, 0, 0,...</td>\n",
       "      <td>53.91</td>\n",
       "      <td>female</td>\n",
       "      <td>white</td>\n",
       "      <td>non-hispanic</td>\n",
       "      <td>english</td>\n",
       "      <td>single</td>\n",
       "      <td>referred for evaluation of narrow angles ou #p...</td>\n",
       "      <td>Patient was referred for narrow angle evaluati...</td>\n",
       "      <td>yes</td>\n",
       "      <td>54.0</td>\n",
       "      <td>Train</td>\n",
       "    </tr>\n",
       "    <tr>\n",
       "      <th>2</th>\n",
       "      <td>data_00003</td>\n",
       "      <td>[[0, 0, 0, 0, 0, 0, 0, 0, 0, 0, 0, 0, 0, 0, 0,...</td>\n",
       "      <td>46.30</td>\n",
       "      <td>female</td>\n",
       "      <td>white</td>\n",
       "      <td>non-hispanic</td>\n",
       "      <td>english</td>\n",
       "      <td>single</td>\n",
       "      <td>1. left upper lid ptosis: occurred after botox...</td>\n",
       "      <td>Patient experienced ptosis, ear and eye pain, ...</td>\n",
       "      <td>no</td>\n",
       "      <td>46.0</td>\n",
       "      <td>Train</td>\n",
       "    </tr>\n",
       "    <tr>\n",
       "      <th>3</th>\n",
       "      <td>data_00004</td>\n",
       "      <td>[[48, 52, 50, 52, 49, 49, 52, 49, 50, 51, 56, ...</td>\n",
       "      <td>66.52</td>\n",
       "      <td>male</td>\n",
       "      <td>white</td>\n",
       "      <td>non-hispanic</td>\n",
       "      <td>english</td>\n",
       "      <td>single</td>\n",
       "      <td>right plano +0.50 082 left LOCATION -0.50 83 a...</td>\n",
       "      <td>The patient has primary open angle glaucoma - ...</td>\n",
       "      <td>yes</td>\n",
       "      <td>67.0</td>\n",
       "      <td>Train</td>\n",
       "    </tr>\n",
       "    <tr>\n",
       "      <th>4</th>\n",
       "      <td>data_00005</td>\n",
       "      <td>[[0, 0, 0, 0, 0, 0, 0, 0, 0, 0, 0, 0, 0, 0, 0,...</td>\n",
       "      <td>82.52</td>\n",
       "      <td>female</td>\n",
       "      <td>black</td>\n",
       "      <td>non-hispanic</td>\n",
       "      <td>english</td>\n",
       "      <td>divorced</td>\n",
       "      <td>in step. os with nonspecific peripheral defect...</td>\n",
       "      <td>The patient has nonspecific peripheral defects...</td>\n",
       "      <td>yes</td>\n",
       "      <td>83.0</td>\n",
       "      <td>Train</td>\n",
       "    </tr>\n",
       "  </tbody>\n",
       "</table>\n",
       "</div>"
      ],
      "text/plain": [
       "     filename                                         slo_fundus    age  \\\n",
       "0  data_00001  [[0, 0, 0, 0, 0, 0, 0, 0, 0, 0, 0, 0, 0, 0, 0,...  56.56   \n",
       "1  data_00002  [[1, 0, 0, 0, 0, 1, 0, 0, 0, 0, 0, 0, 0, 0, 0,...  53.91   \n",
       "2  data_00003  [[0, 0, 0, 0, 0, 0, 0, 0, 0, 0, 0, 0, 0, 0, 0,...  46.30   \n",
       "3  data_00004  [[48, 52, 50, 52, 49, 49, 52, 49, 50, 51, 56, ...  66.52   \n",
       "4  data_00005  [[0, 0, 0, 0, 0, 0, 0, 0, 0, 0, 0, 0, 0, 0, 0,...  82.52   \n",
       "\n",
       "   gender   race     ethnicity language maritalstatus  \\\n",
       "0  female  black  non-hispanic  english        single   \n",
       "1  female  white  non-hispanic  english        single   \n",
       "2  female  white  non-hispanic  english        single   \n",
       "3    male  white  non-hispanic  english        single   \n",
       "4  female  black  non-hispanic  english      divorced   \n",
       "\n",
       "                                                note  \\\n",
       "0  ms. PERSON is a 56 yo woman presenting to esta...   \n",
       "1  referred for evaluation of narrow angles ou #p...   \n",
       "2  1. left upper lid ptosis: occurred after botox...   \n",
       "3  right plano +0.50 082 left LOCATION -0.50 83 a...   \n",
       "4  in step. os with nonspecific peripheral defect...   \n",
       "\n",
       "                                        gpt4_summary glaucoma  age_rounded  \\\n",
       "0  The 56 y/o female patient has optic nerve head...      yes         57.0   \n",
       "1  Patient was referred for narrow angle evaluati...      yes         54.0   \n",
       "2  Patient experienced ptosis, ear and eye pain, ...       no         46.0   \n",
       "3  The patient has primary open angle glaucoma - ...      yes         67.0   \n",
       "4  The patient has nonspecific peripheral defects...      yes         83.0   \n",
       "\n",
       "  dataset  \n",
       "0   Train  \n",
       "1   Train  \n",
       "2   Train  \n",
       "3   Train  \n",
       "4   Train  "
      ]
     },
     "execution_count": 26,
     "metadata": {},
     "output_type": "execute_result"
    }
   ],
   "source": [
    "df_combined = pd.concat([df_train, df_test, df_val], axis=0, ignore_index=True)\n",
    "df_combined['dataset'] = ['Train'] * len(df_train) + ['Test'] * len(df_test) + ['Val'] * len(df_val)\n",
    "df_combined.head()"
   ]
  },
  {
   "cell_type": "code",
   "execution_count": 27,
   "id": "bc198078",
   "metadata": {},
   "outputs": [],
   "source": [
    "from aif360.sklearn.metrics import *\n",
    "\n",
    "\n",
    "def get_group_metrics(\n",
    "    y_true,\n",
    "    y_pred=None,\n",
    "    prot_attr=None,\n",
    "    priv_group=1,\n",
    "    pos_label=1,\n",
    "    sample_weight=None,\n",
    "):\n",
    "    group_metrics = {}\n",
    "    group_metrics[\"base_rate\"] = base_rate(\n",
    "        y_true=y_true, pos_label=pos_label, sample_weight=sample_weight\n",
    "    )\n",
    "    group_metrics[\"statistical_parity_difference\"] = statistical_parity_difference(\n",
    "        y_true=y_true, y_pred=y_pred, prot_attr=prot_attr, priv_group=priv_group, pos_label=pos_label, sample_weight=sample_weight\n",
    "    )\n",
    "    group_metrics[\"disparate_impact_ratio\"] = disparate_impact_ratio(\n",
    "        y_true=y_true, y_pred=y_pred, prot_attr=prot_attr, priv_group=priv_group, pos_label=pos_label, sample_weight=sample_weight\n",
    "    )\n",
    "    if not y_pred is None:\n",
    "        group_metrics[\"equal_opportunity_difference\"] = equal_opportunity_difference(\n",
    "            y_true=y_true, y_pred=y_pred, prot_attr=prot_attr, priv_group=priv_group, pos_label=pos_label, sample_weight=sample_weight\n",
    "        )\n",
    "        group_metrics[\"average_odds_difference\"] = average_odds_difference(\n",
    "            y_true=y_true, y_pred=y_pred, prot_attr=prot_attr, priv_group=priv_group, pos_label=pos_label, sample_weight=sample_weight\n",
    "        )\n",
    "        group_metrics[\"conditional_demographic_disparity\"] = conditional_demographic_disparity(\n",
    "            y_true=y_true, y_pred=y_pred, prot_attr=prot_attr, pos_label=pos_label, sample_weight=sample_weight\n",
    "        )\n",
    "        group_metrics[\"smoothed_edf\"] = smoothed_edf(\n",
    "        y_true=y_true, y_pred=y_pred, prot_attr=prot_attr, pos_label=pos_label, sample_weight=sample_weight\n",
    "        )\n",
    "        group_metrics[\"df_bias_amplification\"] = df_bias_amplification(\n",
    "        y_true=y_true, y_pred=y_pred, prot_attr=prot_attr, pos_label=pos_label, sample_weight=sample_weight\n",
    "        )\n",
    "    return group_metrics\n",
    "\n",
    "\n",
    "\n",
    "\n",
    "ideal_values = {\n",
    "    \"statistical_parity_difference\": 0.0,\n",
    "    \"disparate_impact_ratio\": 1.0,\n",
    "    \"equal_opportunity_difference\": 0.0,\n",
    "    \"average_odds_difference\": 0.0,\n",
    "    \"conditional_demographic_disparity\": 0.0,\n",
    "    \"smoothed_edf\": 1.0,\n",
    "    \"df_bias_amplification\": 0.0\n",
    "}\n",
    "\n",
    "\n",
    "\n",
    "def check_distance_to_ideal(metrics):\n",
    "    dist = 0.0\n",
    "    for metric in ideal_values.keys():\n",
    "        dist += (ideal_values[metric]-metrics[metric])**2\n",
    "    return np.sqrt(dist)"
   ]
  },
  {
   "cell_type": "code",
   "execution_count": 28,
   "id": "8bfeea2f",
   "metadata": {},
   "outputs": [],
   "source": [
    "from sklearn.preprocessing import LabelEncoder\n",
    "from aif360.datasets import BinaryLabelDataset\n",
    "\n",
    "df_test_numeric = df_test.drop(columns=['filename', 'slo_fundus', 'age', 'note', 'gpt4_summary'])\n",
    "\n",
    "def convert_to_numerical_with_encodings(df):\n",
    "    df_numeric = df.copy()\n",
    "    encodings = {}\n",
    "    for col in df_numeric.columns:\n",
    "        if df_numeric[col].dtype == 'object':  # Check if the column is categorical\n",
    "            le = LabelEncoder()\n",
    "            df_numeric[col] = le.fit_transform(df_numeric[col])\n",
    "            encodings[col] = dict(zip(le.classes_, le.transform(le.classes_)))  # Store the encoding\n",
    "    return df_numeric, encodings\n",
    "\n",
    "\n",
    "df_test_numeric, encodings = convert_to_numerical_with_encodings(df_test_numeric)\n",
    "\n",
    "\n",
    "def create_binary_label_dataset(df, label_column, protected_attributes):\n",
    "    return BinaryLabelDataset(\n",
    "        df=df,\n",
    "        label_names=[label_column],\n",
    "        protected_attribute_names=protected_attributes\n",
    "    )\n",
    "\n",
    "\n",
    "label_column = 'glaucoma'  \n",
    "protected_attributes = ['gender', 'race', 'ethnicity', 'language', 'maritalstatus']  \n",
    "\n",
    "\n",
    "dataset = create_binary_label_dataset(df_test_numeric, label_column, protected_attributes)"
   ]
  },
  {
   "cell_type": "code",
   "execution_count": 29,
   "id": "c347e63a",
   "metadata": {},
   "outputs": [
    {
     "data": {
      "text/plain": [
       "{'gender': {'female': np.int64(0), 'male': np.int64(1)},\n",
       " 'race': {'asian': np.int64(0), 'black': np.int64(1), 'white': np.int64(2)},\n",
       " 'ethnicity': {'hispanic': np.int64(0),\n",
       "  'non-hispanic': np.int64(1),\n",
       "  'unknown': np.int64(2)},\n",
       " 'language': {'english': np.int64(0),\n",
       "  'other': np.int64(1),\n",
       "  'spanish': np.int64(2),\n",
       "  'unknown': np.int64(3)},\n",
       " 'maritalstatus': {'divorced': np.int64(0),\n",
       "  'legally separated': np.int64(1),\n",
       "  'married or partnered': np.int64(2),\n",
       "  'single': np.int64(3),\n",
       "  'unknown': np.int64(4),\n",
       "  'widowed': np.int64(5)},\n",
       " 'glaucoma': {'no': np.int64(0), 'yes': np.int64(1)}}"
      ]
     },
     "execution_count": 29,
     "metadata": {},
     "output_type": "execute_result"
    }
   ],
   "source": [
    "encodings"
   ]
  },
  {
   "cell_type": "code",
   "execution_count": 30,
   "id": "00f43137",
   "metadata": {},
   "outputs": [],
   "source": [
    "priviliged_groups = [0,2,1,0,2]\n",
    "protected_attributes = dataset.protected_attributes\n",
    "y_true = dataset.labels\n",
    "\n",
    "\n",
    "n_prot_attrs = protected_attributes.shape[1]\n",
    "attribute_names = ['gender', 'race', 'ethnicity', 'language', 'maritalstatus']  \n",
    "\n",
    "all_metrics = []\n",
    "\n",
    "for i, attr_name in enumerate(attribute_names):\n",
    "    prot_attr = protected_attributes[:, i]\n",
    "    priv_group = priviliged_groups[i]\n",
    "    \n",
    "    try:\n",
    "        metrics = get_group_metrics(\n",
    "            y_true=y_true,\n",
    "            y_pred=None,  \n",
    "            prot_attr=prot_attr,\n",
    "            priv_group=priv_group,\n",
    "            pos_label=1\n",
    "        )\n",
    "        metrics['attribute'] = attr_name\n",
    "        all_metrics.append(metrics)\n",
    "    except Exception as e:\n",
    "        print(f\"[{attr_name}] Error computing metrics: {e}\")\n"
   ]
  },
  {
   "cell_type": "code",
   "execution_count": 31,
   "id": "a03a16b5",
   "metadata": {},
   "outputs": [
    {
     "data": {
      "application/vnd.plotly.v1+json": {
       "config": {
        "plotlyServerURL": "https://plot.ly"
       },
       "data": [
        {
         "name": "base_rate",
         "type": "bar",
         "x": [
          "gender",
          "race",
          "ethnicity",
          "language",
          "maritalstatus"
         ],
         "y": [
          0.5115,
          0.5115,
          0.5115,
          0.5115,
          0.5115
         ]
        },
        {
         "name": "statistical_parity_difference",
         "type": "bar",
         "x": [
          "gender",
          "race",
          "ethnicity",
          "language",
          "maritalstatus"
         ],
         "y": [
          -0.008873780763516637,
          0.10729015458854385,
          -0.0006943114345909773,
          0.22290896113165926,
          0.0683400407779815
         ]
        },
        {
         "name": "disparate_impact_ratio",
         "type": "bar",
         "x": [
          "gender",
          "race",
          "ethnicity",
          "language",
          "maritalstatus"
         ],
         "y": [
          0.9827864358994438,
          1.2204611866344812,
          0.9986427668835122,
          1.4487003657262278,
          1.1415702454756755
         ]
        }
       ],
       "layout": {
        "barmode": "group",
        "legend": {
         "title": {
          "text": "Metric"
         }
        },
        "template": {
         "data": {
          "bar": [
           {
            "error_x": {
             "color": "#2a3f5f"
            },
            "error_y": {
             "color": "#2a3f5f"
            },
            "marker": {
             "line": {
              "color": "#E5ECF6",
              "width": 0.5
             },
             "pattern": {
              "fillmode": "overlay",
              "size": 10,
              "solidity": 0.2
             }
            },
            "type": "bar"
           }
          ],
          "barpolar": [
           {
            "marker": {
             "line": {
              "color": "#E5ECF6",
              "width": 0.5
             },
             "pattern": {
              "fillmode": "overlay",
              "size": 10,
              "solidity": 0.2
             }
            },
            "type": "barpolar"
           }
          ],
          "carpet": [
           {
            "aaxis": {
             "endlinecolor": "#2a3f5f",
             "gridcolor": "white",
             "linecolor": "white",
             "minorgridcolor": "white",
             "startlinecolor": "#2a3f5f"
            },
            "baxis": {
             "endlinecolor": "#2a3f5f",
             "gridcolor": "white",
             "linecolor": "white",
             "minorgridcolor": "white",
             "startlinecolor": "#2a3f5f"
            },
            "type": "carpet"
           }
          ],
          "choropleth": [
           {
            "colorbar": {
             "outlinewidth": 0,
             "ticks": ""
            },
            "type": "choropleth"
           }
          ],
          "contour": [
           {
            "colorbar": {
             "outlinewidth": 0,
             "ticks": ""
            },
            "colorscale": [
             [
              0,
              "#0d0887"
             ],
             [
              0.1111111111111111,
              "#46039f"
             ],
             [
              0.2222222222222222,
              "#7201a8"
             ],
             [
              0.3333333333333333,
              "#9c179e"
             ],
             [
              0.4444444444444444,
              "#bd3786"
             ],
             [
              0.5555555555555556,
              "#d8576b"
             ],
             [
              0.6666666666666666,
              "#ed7953"
             ],
             [
              0.7777777777777778,
              "#fb9f3a"
             ],
             [
              0.8888888888888888,
              "#fdca26"
             ],
             [
              1,
              "#f0f921"
             ]
            ],
            "type": "contour"
           }
          ],
          "contourcarpet": [
           {
            "colorbar": {
             "outlinewidth": 0,
             "ticks": ""
            },
            "type": "contourcarpet"
           }
          ],
          "heatmap": [
           {
            "colorbar": {
             "outlinewidth": 0,
             "ticks": ""
            },
            "colorscale": [
             [
              0,
              "#0d0887"
             ],
             [
              0.1111111111111111,
              "#46039f"
             ],
             [
              0.2222222222222222,
              "#7201a8"
             ],
             [
              0.3333333333333333,
              "#9c179e"
             ],
             [
              0.4444444444444444,
              "#bd3786"
             ],
             [
              0.5555555555555556,
              "#d8576b"
             ],
             [
              0.6666666666666666,
              "#ed7953"
             ],
             [
              0.7777777777777778,
              "#fb9f3a"
             ],
             [
              0.8888888888888888,
              "#fdca26"
             ],
             [
              1,
              "#f0f921"
             ]
            ],
            "type": "heatmap"
           }
          ],
          "heatmapgl": [
           {
            "colorbar": {
             "outlinewidth": 0,
             "ticks": ""
            },
            "colorscale": [
             [
              0,
              "#0d0887"
             ],
             [
              0.1111111111111111,
              "#46039f"
             ],
             [
              0.2222222222222222,
              "#7201a8"
             ],
             [
              0.3333333333333333,
              "#9c179e"
             ],
             [
              0.4444444444444444,
              "#bd3786"
             ],
             [
              0.5555555555555556,
              "#d8576b"
             ],
             [
              0.6666666666666666,
              "#ed7953"
             ],
             [
              0.7777777777777778,
              "#fb9f3a"
             ],
             [
              0.8888888888888888,
              "#fdca26"
             ],
             [
              1,
              "#f0f921"
             ]
            ],
            "type": "heatmapgl"
           }
          ],
          "histogram": [
           {
            "marker": {
             "pattern": {
              "fillmode": "overlay",
              "size": 10,
              "solidity": 0.2
             }
            },
            "type": "histogram"
           }
          ],
          "histogram2d": [
           {
            "colorbar": {
             "outlinewidth": 0,
             "ticks": ""
            },
            "colorscale": [
             [
              0,
              "#0d0887"
             ],
             [
              0.1111111111111111,
              "#46039f"
             ],
             [
              0.2222222222222222,
              "#7201a8"
             ],
             [
              0.3333333333333333,
              "#9c179e"
             ],
             [
              0.4444444444444444,
              "#bd3786"
             ],
             [
              0.5555555555555556,
              "#d8576b"
             ],
             [
              0.6666666666666666,
              "#ed7953"
             ],
             [
              0.7777777777777778,
              "#fb9f3a"
             ],
             [
              0.8888888888888888,
              "#fdca26"
             ],
             [
              1,
              "#f0f921"
             ]
            ],
            "type": "histogram2d"
           }
          ],
          "histogram2dcontour": [
           {
            "colorbar": {
             "outlinewidth": 0,
             "ticks": ""
            },
            "colorscale": [
             [
              0,
              "#0d0887"
             ],
             [
              0.1111111111111111,
              "#46039f"
             ],
             [
              0.2222222222222222,
              "#7201a8"
             ],
             [
              0.3333333333333333,
              "#9c179e"
             ],
             [
              0.4444444444444444,
              "#bd3786"
             ],
             [
              0.5555555555555556,
              "#d8576b"
             ],
             [
              0.6666666666666666,
              "#ed7953"
             ],
             [
              0.7777777777777778,
              "#fb9f3a"
             ],
             [
              0.8888888888888888,
              "#fdca26"
             ],
             [
              1,
              "#f0f921"
             ]
            ],
            "type": "histogram2dcontour"
           }
          ],
          "mesh3d": [
           {
            "colorbar": {
             "outlinewidth": 0,
             "ticks": ""
            },
            "type": "mesh3d"
           }
          ],
          "parcoords": [
           {
            "line": {
             "colorbar": {
              "outlinewidth": 0,
              "ticks": ""
             }
            },
            "type": "parcoords"
           }
          ],
          "pie": [
           {
            "automargin": true,
            "type": "pie"
           }
          ],
          "scatter": [
           {
            "fillpattern": {
             "fillmode": "overlay",
             "size": 10,
             "solidity": 0.2
            },
            "type": "scatter"
           }
          ],
          "scatter3d": [
           {
            "line": {
             "colorbar": {
              "outlinewidth": 0,
              "ticks": ""
             }
            },
            "marker": {
             "colorbar": {
              "outlinewidth": 0,
              "ticks": ""
             }
            },
            "type": "scatter3d"
           }
          ],
          "scattercarpet": [
           {
            "marker": {
             "colorbar": {
              "outlinewidth": 0,
              "ticks": ""
             }
            },
            "type": "scattercarpet"
           }
          ],
          "scattergeo": [
           {
            "marker": {
             "colorbar": {
              "outlinewidth": 0,
              "ticks": ""
             }
            },
            "type": "scattergeo"
           }
          ],
          "scattergl": [
           {
            "marker": {
             "colorbar": {
              "outlinewidth": 0,
              "ticks": ""
             }
            },
            "type": "scattergl"
           }
          ],
          "scattermapbox": [
           {
            "marker": {
             "colorbar": {
              "outlinewidth": 0,
              "ticks": ""
             }
            },
            "type": "scattermapbox"
           }
          ],
          "scatterpolar": [
           {
            "marker": {
             "colorbar": {
              "outlinewidth": 0,
              "ticks": ""
             }
            },
            "type": "scatterpolar"
           }
          ],
          "scatterpolargl": [
           {
            "marker": {
             "colorbar": {
              "outlinewidth": 0,
              "ticks": ""
             }
            },
            "type": "scatterpolargl"
           }
          ],
          "scatterternary": [
           {
            "marker": {
             "colorbar": {
              "outlinewidth": 0,
              "ticks": ""
             }
            },
            "type": "scatterternary"
           }
          ],
          "surface": [
           {
            "colorbar": {
             "outlinewidth": 0,
             "ticks": ""
            },
            "colorscale": [
             [
              0,
              "#0d0887"
             ],
             [
              0.1111111111111111,
              "#46039f"
             ],
             [
              0.2222222222222222,
              "#7201a8"
             ],
             [
              0.3333333333333333,
              "#9c179e"
             ],
             [
              0.4444444444444444,
              "#bd3786"
             ],
             [
              0.5555555555555556,
              "#d8576b"
             ],
             [
              0.6666666666666666,
              "#ed7953"
             ],
             [
              0.7777777777777778,
              "#fb9f3a"
             ],
             [
              0.8888888888888888,
              "#fdca26"
             ],
             [
              1,
              "#f0f921"
             ]
            ],
            "type": "surface"
           }
          ],
          "table": [
           {
            "cells": {
             "fill": {
              "color": "#EBF0F8"
             },
             "line": {
              "color": "white"
             }
            },
            "header": {
             "fill": {
              "color": "#C8D4E3"
             },
             "line": {
              "color": "white"
             }
            },
            "type": "table"
           }
          ]
         },
         "layout": {
          "annotationdefaults": {
           "arrowcolor": "#2a3f5f",
           "arrowhead": 0,
           "arrowwidth": 1
          },
          "autotypenumbers": "strict",
          "coloraxis": {
           "colorbar": {
            "outlinewidth": 0,
            "ticks": ""
           }
          },
          "colorscale": {
           "diverging": [
            [
             0,
             "#8e0152"
            ],
            [
             0.1,
             "#c51b7d"
            ],
            [
             0.2,
             "#de77ae"
            ],
            [
             0.3,
             "#f1b6da"
            ],
            [
             0.4,
             "#fde0ef"
            ],
            [
             0.5,
             "#f7f7f7"
            ],
            [
             0.6,
             "#e6f5d0"
            ],
            [
             0.7,
             "#b8e186"
            ],
            [
             0.8,
             "#7fbc41"
            ],
            [
             0.9,
             "#4d9221"
            ],
            [
             1,
             "#276419"
            ]
           ],
           "sequential": [
            [
             0,
             "#0d0887"
            ],
            [
             0.1111111111111111,
             "#46039f"
            ],
            [
             0.2222222222222222,
             "#7201a8"
            ],
            [
             0.3333333333333333,
             "#9c179e"
            ],
            [
             0.4444444444444444,
             "#bd3786"
            ],
            [
             0.5555555555555556,
             "#d8576b"
            ],
            [
             0.6666666666666666,
             "#ed7953"
            ],
            [
             0.7777777777777778,
             "#fb9f3a"
            ],
            [
             0.8888888888888888,
             "#fdca26"
            ],
            [
             1,
             "#f0f921"
            ]
           ],
           "sequentialminus": [
            [
             0,
             "#0d0887"
            ],
            [
             0.1111111111111111,
             "#46039f"
            ],
            [
             0.2222222222222222,
             "#7201a8"
            ],
            [
             0.3333333333333333,
             "#9c179e"
            ],
            [
             0.4444444444444444,
             "#bd3786"
            ],
            [
             0.5555555555555556,
             "#d8576b"
            ],
            [
             0.6666666666666666,
             "#ed7953"
            ],
            [
             0.7777777777777778,
             "#fb9f3a"
            ],
            [
             0.8888888888888888,
             "#fdca26"
            ],
            [
             1,
             "#f0f921"
            ]
           ]
          },
          "colorway": [
           "#636efa",
           "#EF553B",
           "#00cc96",
           "#ab63fa",
           "#FFA15A",
           "#19d3f3",
           "#FF6692",
           "#B6E880",
           "#FF97FF",
           "#FECB52"
          ],
          "font": {
           "color": "#2a3f5f"
          },
          "geo": {
           "bgcolor": "white",
           "lakecolor": "white",
           "landcolor": "#E5ECF6",
           "showlakes": true,
           "showland": true,
           "subunitcolor": "white"
          },
          "hoverlabel": {
           "align": "left"
          },
          "hovermode": "closest",
          "mapbox": {
           "style": "light"
          },
          "paper_bgcolor": "white",
          "plot_bgcolor": "#E5ECF6",
          "polar": {
           "angularaxis": {
            "gridcolor": "white",
            "linecolor": "white",
            "ticks": ""
           },
           "bgcolor": "#E5ECF6",
           "radialaxis": {
            "gridcolor": "white",
            "linecolor": "white",
            "ticks": ""
           }
          },
          "scene": {
           "xaxis": {
            "backgroundcolor": "#E5ECF6",
            "gridcolor": "white",
            "gridwidth": 2,
            "linecolor": "white",
            "showbackground": true,
            "ticks": "",
            "zerolinecolor": "white"
           },
           "yaxis": {
            "backgroundcolor": "#E5ECF6",
            "gridcolor": "white",
            "gridwidth": 2,
            "linecolor": "white",
            "showbackground": true,
            "ticks": "",
            "zerolinecolor": "white"
           },
           "zaxis": {
            "backgroundcolor": "#E5ECF6",
            "gridcolor": "white",
            "gridwidth": 2,
            "linecolor": "white",
            "showbackground": true,
            "ticks": "",
            "zerolinecolor": "white"
           }
          },
          "shapedefaults": {
           "line": {
            "color": "#2a3f5f"
           }
          },
          "ternary": {
           "aaxis": {
            "gridcolor": "white",
            "linecolor": "white",
            "ticks": ""
           },
           "baxis": {
            "gridcolor": "white",
            "linecolor": "white",
            "ticks": ""
           },
           "bgcolor": "#E5ECF6",
           "caxis": {
            "gridcolor": "white",
            "linecolor": "white",
            "ticks": ""
           }
          },
          "title": {
           "x": 0.05
          },
          "xaxis": {
           "automargin": true,
           "gridcolor": "white",
           "linecolor": "white",
           "ticks": "",
           "title": {
            "standoff": 15
           },
           "zerolinecolor": "white",
           "zerolinewidth": 2
          },
          "yaxis": {
           "automargin": true,
           "gridcolor": "white",
           "linecolor": "white",
           "ticks": "",
           "title": {
            "standoff": 15
           },
           "zerolinecolor": "white",
           "zerolinewidth": 2
          }
         }
        },
        "title": {
         "text": "Fairness Metrics by Protected Attribute"
        },
        "xaxis": {
         "title": {
          "text": "Protected Attribute"
         }
        },
        "yaxis": {
         "title": {
          "text": "Metric Value"
         }
        }
       }
      }
     },
     "metadata": {},
     "output_type": "display_data"
    }
   ],
   "source": [
    "df_metrics = pd.DataFrame(all_metrics)\n",
    "df_melted = df_metrics.melt(id_vars='attribute', var_name='metric', value_name='value')\n",
    "df_melted = df_melted.dropna(subset=['value'])\n",
    "fig = go.Figure()\n",
    "\n",
    "for metric_name in df_melted['metric'].unique():\n",
    "    if metric_name == 'attribute':\n",
    "        continue\n",
    "    df_metric = df_melted[df_melted['metric'] == metric_name]\n",
    "    fig.add_trace(go.Bar(\n",
    "        x=df_metric['attribute'],\n",
    "        y=df_metric['value'],\n",
    "        name=metric_name\n",
    "    ))\n",
    "\n",
    "fig.update_layout(\n",
    "    barmode='group',\n",
    "    title='Fairness Metrics by Protected Attribute',\n",
    "    xaxis_title='Protected Attribute',\n",
    "    yaxis_title='Metric Value',\n",
    "    legend_title='Metric'\n",
    ")\n",
    "\n",
    "fig.show()\n"
   ]
  },
  {
   "cell_type": "markdown",
   "id": "e9c6599a",
   "metadata": {},
   "source": [
    "Loaded test set with predictions and prepared for fairness analysis"
   ]
  },
  {
   "cell_type": "code",
   "execution_count": 32,
   "id": "a50aa0bb",
   "metadata": {},
   "outputs": [],
   "source": [
    "protected_attributes =  ['gender', 'race', 'ethnicity', 'language', 'maritalstatus']  \n",
    "\n",
    "def compute_fairness_metrics_from_csv(\n",
    "    csv_path,\n",
    "    label_column,\n",
    "    protected_attributes,\n",
    "    attribute_names,\n",
    "    priviliged_groups\n",
    "):\n",
    "    df = pd.read_csv(csv_path)\n",
    "    df['filename'] = df['filename'].apply(lambda x: x.split(\".\")[0])\n",
    "    # Drop columns if they exist\n",
    "    drop_cols = [col for col in ['slo_fundus', 'age', 'note', 'gpt4_summary'] if col in df.columns]\n",
    "    df = df.drop(columns=drop_cols)\n",
    "    df_numeric, _ = convert_to_numerical_with_encodings(df)\n",
    "    dataset = create_binary_label_dataset(df_numeric, label_column, protected_attributes)\n",
    "    protected_attrs = dataset.protected_attributes\n",
    "    y_true = dataset.labels\n",
    "    y_pred = df_numeric['pred'].values\n",
    "\n",
    "    all_metrics = []\n",
    "    for i, attr_name in enumerate(protected_attributes):\n",
    "        prot_attr = protected_attrs[:, i]\n",
    "        priv_group = priviliged_groups[i]\n",
    "        try:\n",
    "            metrics = get_group_metrics(\n",
    "                y_true=y_true,\n",
    "                y_pred=y_pred,\n",
    "                prot_attr=prot_attr,\n",
    "                priv_group=priv_group,\n",
    "                pos_label=1\n",
    "            )\n",
    "            metrics['attribute'] = attr_name\n",
    "            all_metrics.append(metrics)\n",
    "        except Exception as e:\n",
    "            print(f\"[{attr_name}] Error computing metrics: {e}\")\n",
    "    return pd.DataFrame(all_metrics)"
   ]
  },
  {
   "cell_type": "code",
   "execution_count": 33,
   "id": "4e55ce19",
   "metadata": {},
   "outputs": [
    {
     "data": {
      "application/vnd.plotly.v1+json": {
       "config": {
        "plotlyServerURL": "https://plot.ly"
       },
       "data": [
        {
         "name": "base_rate",
         "type": "bar",
         "x": [
          "gender",
          "race",
          "ethnicity",
          "language",
          "maritalstatus"
         ],
         "y": [
          0.5115,
          0.5115,
          0.5115,
          0.5115,
          0.5115
         ]
        },
        {
         "name": "statistical_parity_difference",
         "type": "bar",
         "x": [
          "gender",
          "race",
          "ethnicity",
          "language",
          "maritalstatus"
         ],
         "y": [
          0.0045862670370131475,
          -0.1041017043945528,
          -0.022074315265274813,
          -0.04967231198494593,
          -0.022756082852325443
         ]
        },
        {
         "name": "disparate_impact_ratio",
         "type": "bar",
         "x": [
          "gender",
          "race",
          "ethnicity",
          "language",
          "maritalstatus"
         ],
         "y": [
          1.0075815213764199,
          0.8350470931397653,
          0.9637550121864927,
          0.9186071238702815,
          0.9630930757100941
         ]
        },
        {
         "name": "equal_opportunity_difference",
         "type": "bar",
         "x": [
          "gender",
          "race",
          "ethnicity",
          "language",
          "maritalstatus"
         ],
         "y": [
          0.014545735595316356,
          -0.11497326203208558,
          -0.04890868698898376,
          -0.032543103448275934,
          -0.05560267719449752
         ]
        },
        {
         "name": "average_odds_difference",
         "type": "bar",
         "x": [
          "gender",
          "race",
          "ethnicity",
          "language",
          "maritalstatus"
         ],
         "y": [
          0.00478792104350112,
          -0.10913428627586536,
          -0.021441691609235702,
          -0.08069075816462101,
          -0.024634685180177973
         ]
        },
        {
         "name": "conditional_demographic_disparity",
         "type": "bar",
         "x": [
          "gender",
          "race",
          "ethnicity",
          "language",
          "maritalstatus"
         ],
         "y": [
          0.000457160104128679,
          -0.05027509211866642,
          -0.006739992705962195,
          -0.011992360124250248,
          -0.011217695587107144
         ]
        },
        {
         "name": "smoothed_edf",
         "type": "bar",
         "x": [
          "gender",
          "race",
          "ethnicity",
          "language",
          "maritalstatus"
         ],
         "y": [
          0.011608794308665127,
          0.2911918232781626,
          0.13899770848240256,
          0.5293104384400936,
          0.44715728519266085
         ]
        },
        {
         "name": "df_bias_amplification",
         "type": "bar",
         "x": [
          "gender",
          "race",
          "ethnicity",
          "language",
          "maritalstatus"
         ],
         "y": [
          -0.006526924801190326,
          -0.06963041304777029,
          0.012126610275763117,
          -0.13780148821216553,
          -0.25657284305805594
         ]
        }
       ],
       "layout": {
        "barmode": "group",
        "height": 700,
        "legend": {
         "title": {
          "text": "Metric"
         }
        },
        "template": {
         "data": {
          "bar": [
           {
            "error_x": {
             "color": "#2a3f5f"
            },
            "error_y": {
             "color": "#2a3f5f"
            },
            "marker": {
             "line": {
              "color": "#E5ECF6",
              "width": 0.5
             },
             "pattern": {
              "fillmode": "overlay",
              "size": 10,
              "solidity": 0.2
             }
            },
            "type": "bar"
           }
          ],
          "barpolar": [
           {
            "marker": {
             "line": {
              "color": "#E5ECF6",
              "width": 0.5
             },
             "pattern": {
              "fillmode": "overlay",
              "size": 10,
              "solidity": 0.2
             }
            },
            "type": "barpolar"
           }
          ],
          "carpet": [
           {
            "aaxis": {
             "endlinecolor": "#2a3f5f",
             "gridcolor": "white",
             "linecolor": "white",
             "minorgridcolor": "white",
             "startlinecolor": "#2a3f5f"
            },
            "baxis": {
             "endlinecolor": "#2a3f5f",
             "gridcolor": "white",
             "linecolor": "white",
             "minorgridcolor": "white",
             "startlinecolor": "#2a3f5f"
            },
            "type": "carpet"
           }
          ],
          "choropleth": [
           {
            "colorbar": {
             "outlinewidth": 0,
             "ticks": ""
            },
            "type": "choropleth"
           }
          ],
          "contour": [
           {
            "colorbar": {
             "outlinewidth": 0,
             "ticks": ""
            },
            "colorscale": [
             [
              0,
              "#0d0887"
             ],
             [
              0.1111111111111111,
              "#46039f"
             ],
             [
              0.2222222222222222,
              "#7201a8"
             ],
             [
              0.3333333333333333,
              "#9c179e"
             ],
             [
              0.4444444444444444,
              "#bd3786"
             ],
             [
              0.5555555555555556,
              "#d8576b"
             ],
             [
              0.6666666666666666,
              "#ed7953"
             ],
             [
              0.7777777777777778,
              "#fb9f3a"
             ],
             [
              0.8888888888888888,
              "#fdca26"
             ],
             [
              1,
              "#f0f921"
             ]
            ],
            "type": "contour"
           }
          ],
          "contourcarpet": [
           {
            "colorbar": {
             "outlinewidth": 0,
             "ticks": ""
            },
            "type": "contourcarpet"
           }
          ],
          "heatmap": [
           {
            "colorbar": {
             "outlinewidth": 0,
             "ticks": ""
            },
            "colorscale": [
             [
              0,
              "#0d0887"
             ],
             [
              0.1111111111111111,
              "#46039f"
             ],
             [
              0.2222222222222222,
              "#7201a8"
             ],
             [
              0.3333333333333333,
              "#9c179e"
             ],
             [
              0.4444444444444444,
              "#bd3786"
             ],
             [
              0.5555555555555556,
              "#d8576b"
             ],
             [
              0.6666666666666666,
              "#ed7953"
             ],
             [
              0.7777777777777778,
              "#fb9f3a"
             ],
             [
              0.8888888888888888,
              "#fdca26"
             ],
             [
              1,
              "#f0f921"
             ]
            ],
            "type": "heatmap"
           }
          ],
          "heatmapgl": [
           {
            "colorbar": {
             "outlinewidth": 0,
             "ticks": ""
            },
            "colorscale": [
             [
              0,
              "#0d0887"
             ],
             [
              0.1111111111111111,
              "#46039f"
             ],
             [
              0.2222222222222222,
              "#7201a8"
             ],
             [
              0.3333333333333333,
              "#9c179e"
             ],
             [
              0.4444444444444444,
              "#bd3786"
             ],
             [
              0.5555555555555556,
              "#d8576b"
             ],
             [
              0.6666666666666666,
              "#ed7953"
             ],
             [
              0.7777777777777778,
              "#fb9f3a"
             ],
             [
              0.8888888888888888,
              "#fdca26"
             ],
             [
              1,
              "#f0f921"
             ]
            ],
            "type": "heatmapgl"
           }
          ],
          "histogram": [
           {
            "marker": {
             "pattern": {
              "fillmode": "overlay",
              "size": 10,
              "solidity": 0.2
             }
            },
            "type": "histogram"
           }
          ],
          "histogram2d": [
           {
            "colorbar": {
             "outlinewidth": 0,
             "ticks": ""
            },
            "colorscale": [
             [
              0,
              "#0d0887"
             ],
             [
              0.1111111111111111,
              "#46039f"
             ],
             [
              0.2222222222222222,
              "#7201a8"
             ],
             [
              0.3333333333333333,
              "#9c179e"
             ],
             [
              0.4444444444444444,
              "#bd3786"
             ],
             [
              0.5555555555555556,
              "#d8576b"
             ],
             [
              0.6666666666666666,
              "#ed7953"
             ],
             [
              0.7777777777777778,
              "#fb9f3a"
             ],
             [
              0.8888888888888888,
              "#fdca26"
             ],
             [
              1,
              "#f0f921"
             ]
            ],
            "type": "histogram2d"
           }
          ],
          "histogram2dcontour": [
           {
            "colorbar": {
             "outlinewidth": 0,
             "ticks": ""
            },
            "colorscale": [
             [
              0,
              "#0d0887"
             ],
             [
              0.1111111111111111,
              "#46039f"
             ],
             [
              0.2222222222222222,
              "#7201a8"
             ],
             [
              0.3333333333333333,
              "#9c179e"
             ],
             [
              0.4444444444444444,
              "#bd3786"
             ],
             [
              0.5555555555555556,
              "#d8576b"
             ],
             [
              0.6666666666666666,
              "#ed7953"
             ],
             [
              0.7777777777777778,
              "#fb9f3a"
             ],
             [
              0.8888888888888888,
              "#fdca26"
             ],
             [
              1,
              "#f0f921"
             ]
            ],
            "type": "histogram2dcontour"
           }
          ],
          "mesh3d": [
           {
            "colorbar": {
             "outlinewidth": 0,
             "ticks": ""
            },
            "type": "mesh3d"
           }
          ],
          "parcoords": [
           {
            "line": {
             "colorbar": {
              "outlinewidth": 0,
              "ticks": ""
             }
            },
            "type": "parcoords"
           }
          ],
          "pie": [
           {
            "automargin": true,
            "type": "pie"
           }
          ],
          "scatter": [
           {
            "fillpattern": {
             "fillmode": "overlay",
             "size": 10,
             "solidity": 0.2
            },
            "type": "scatter"
           }
          ],
          "scatter3d": [
           {
            "line": {
             "colorbar": {
              "outlinewidth": 0,
              "ticks": ""
             }
            },
            "marker": {
             "colorbar": {
              "outlinewidth": 0,
              "ticks": ""
             }
            },
            "type": "scatter3d"
           }
          ],
          "scattercarpet": [
           {
            "marker": {
             "colorbar": {
              "outlinewidth": 0,
              "ticks": ""
             }
            },
            "type": "scattercarpet"
           }
          ],
          "scattergeo": [
           {
            "marker": {
             "colorbar": {
              "outlinewidth": 0,
              "ticks": ""
             }
            },
            "type": "scattergeo"
           }
          ],
          "scattergl": [
           {
            "marker": {
             "colorbar": {
              "outlinewidth": 0,
              "ticks": ""
             }
            },
            "type": "scattergl"
           }
          ],
          "scattermapbox": [
           {
            "marker": {
             "colorbar": {
              "outlinewidth": 0,
              "ticks": ""
             }
            },
            "type": "scattermapbox"
           }
          ],
          "scatterpolar": [
           {
            "marker": {
             "colorbar": {
              "outlinewidth": 0,
              "ticks": ""
             }
            },
            "type": "scatterpolar"
           }
          ],
          "scatterpolargl": [
           {
            "marker": {
             "colorbar": {
              "outlinewidth": 0,
              "ticks": ""
             }
            },
            "type": "scatterpolargl"
           }
          ],
          "scatterternary": [
           {
            "marker": {
             "colorbar": {
              "outlinewidth": 0,
              "ticks": ""
             }
            },
            "type": "scatterternary"
           }
          ],
          "surface": [
           {
            "colorbar": {
             "outlinewidth": 0,
             "ticks": ""
            },
            "colorscale": [
             [
              0,
              "#0d0887"
             ],
             [
              0.1111111111111111,
              "#46039f"
             ],
             [
              0.2222222222222222,
              "#7201a8"
             ],
             [
              0.3333333333333333,
              "#9c179e"
             ],
             [
              0.4444444444444444,
              "#bd3786"
             ],
             [
              0.5555555555555556,
              "#d8576b"
             ],
             [
              0.6666666666666666,
              "#ed7953"
             ],
             [
              0.7777777777777778,
              "#fb9f3a"
             ],
             [
              0.8888888888888888,
              "#fdca26"
             ],
             [
              1,
              "#f0f921"
             ]
            ],
            "type": "surface"
           }
          ],
          "table": [
           {
            "cells": {
             "fill": {
              "color": "#EBF0F8"
             },
             "line": {
              "color": "white"
             }
            },
            "header": {
             "fill": {
              "color": "#C8D4E3"
             },
             "line": {
              "color": "white"
             }
            },
            "type": "table"
           }
          ]
         },
         "layout": {
          "annotationdefaults": {
           "arrowcolor": "#2a3f5f",
           "arrowhead": 0,
           "arrowwidth": 1
          },
          "autotypenumbers": "strict",
          "coloraxis": {
           "colorbar": {
            "outlinewidth": 0,
            "ticks": ""
           }
          },
          "colorscale": {
           "diverging": [
            [
             0,
             "#8e0152"
            ],
            [
             0.1,
             "#c51b7d"
            ],
            [
             0.2,
             "#de77ae"
            ],
            [
             0.3,
             "#f1b6da"
            ],
            [
             0.4,
             "#fde0ef"
            ],
            [
             0.5,
             "#f7f7f7"
            ],
            [
             0.6,
             "#e6f5d0"
            ],
            [
             0.7,
             "#b8e186"
            ],
            [
             0.8,
             "#7fbc41"
            ],
            [
             0.9,
             "#4d9221"
            ],
            [
             1,
             "#276419"
            ]
           ],
           "sequential": [
            [
             0,
             "#0d0887"
            ],
            [
             0.1111111111111111,
             "#46039f"
            ],
            [
             0.2222222222222222,
             "#7201a8"
            ],
            [
             0.3333333333333333,
             "#9c179e"
            ],
            [
             0.4444444444444444,
             "#bd3786"
            ],
            [
             0.5555555555555556,
             "#d8576b"
            ],
            [
             0.6666666666666666,
             "#ed7953"
            ],
            [
             0.7777777777777778,
             "#fb9f3a"
            ],
            [
             0.8888888888888888,
             "#fdca26"
            ],
            [
             1,
             "#f0f921"
            ]
           ],
           "sequentialminus": [
            [
             0,
             "#0d0887"
            ],
            [
             0.1111111111111111,
             "#46039f"
            ],
            [
             0.2222222222222222,
             "#7201a8"
            ],
            [
             0.3333333333333333,
             "#9c179e"
            ],
            [
             0.4444444444444444,
             "#bd3786"
            ],
            [
             0.5555555555555556,
             "#d8576b"
            ],
            [
             0.6666666666666666,
             "#ed7953"
            ],
            [
             0.7777777777777778,
             "#fb9f3a"
            ],
            [
             0.8888888888888888,
             "#fdca26"
            ],
            [
             1,
             "#f0f921"
            ]
           ]
          },
          "colorway": [
           "#636efa",
           "#EF553B",
           "#00cc96",
           "#ab63fa",
           "#FFA15A",
           "#19d3f3",
           "#FF6692",
           "#B6E880",
           "#FF97FF",
           "#FECB52"
          ],
          "font": {
           "color": "#2a3f5f"
          },
          "geo": {
           "bgcolor": "white",
           "lakecolor": "white",
           "landcolor": "#E5ECF6",
           "showlakes": true,
           "showland": true,
           "subunitcolor": "white"
          },
          "hoverlabel": {
           "align": "left"
          },
          "hovermode": "closest",
          "mapbox": {
           "style": "light"
          },
          "paper_bgcolor": "white",
          "plot_bgcolor": "#E5ECF6",
          "polar": {
           "angularaxis": {
            "gridcolor": "white",
            "linecolor": "white",
            "ticks": ""
           },
           "bgcolor": "#E5ECF6",
           "radialaxis": {
            "gridcolor": "white",
            "linecolor": "white",
            "ticks": ""
           }
          },
          "scene": {
           "xaxis": {
            "backgroundcolor": "#E5ECF6",
            "gridcolor": "white",
            "gridwidth": 2,
            "linecolor": "white",
            "showbackground": true,
            "ticks": "",
            "zerolinecolor": "white"
           },
           "yaxis": {
            "backgroundcolor": "#E5ECF6",
            "gridcolor": "white",
            "gridwidth": 2,
            "linecolor": "white",
            "showbackground": true,
            "ticks": "",
            "zerolinecolor": "white"
           },
           "zaxis": {
            "backgroundcolor": "#E5ECF6",
            "gridcolor": "white",
            "gridwidth": 2,
            "linecolor": "white",
            "showbackground": true,
            "ticks": "",
            "zerolinecolor": "white"
           }
          },
          "shapedefaults": {
           "line": {
            "color": "#2a3f5f"
           }
          },
          "ternary": {
           "aaxis": {
            "gridcolor": "white",
            "linecolor": "white",
            "ticks": ""
           },
           "baxis": {
            "gridcolor": "white",
            "linecolor": "white",
            "ticks": ""
           },
           "bgcolor": "#E5ECF6",
           "caxis": {
            "gridcolor": "white",
            "linecolor": "white",
            "ticks": ""
           }
          },
          "title": {
           "x": 0.05
          },
          "xaxis": {
           "automargin": true,
           "gridcolor": "white",
           "linecolor": "white",
           "ticks": "",
           "title": {
            "standoff": 15
           },
           "zerolinecolor": "white",
           "zerolinewidth": 2
          },
          "yaxis": {
           "automargin": true,
           "gridcolor": "white",
           "linecolor": "white",
           "ticks": "",
           "title": {
            "standoff": 15
           },
           "zerolinecolor": "white",
           "zerolinewidth": 2
          }
         }
        },
        "title": {
         "text": "Fairness Metrics by Protected Attribute (with Predictions)"
        },
        "width": 1200,
        "xaxis": {
         "title": {
          "text": "Protected Attribute"
         }
        },
        "yaxis": {
         "title": {
          "text": "Metric Value"
         }
        }
       }
      }
     },
     "metadata": {},
     "output_type": "display_data"
    }
   ],
   "source": [
    "df_metrics_preds = compute_fairness_metrics_from_csv(\n",
    "    \"./medical/df_test_with_preds.csv\",\n",
    "    label_column,\n",
    "    protected_attributes,\n",
    "    attribute_names,\n",
    "    priviliged_groups\n",
    ")\n",
    "df_melted_preds = df_metrics_preds.melt(id_vars='attribute', var_name='metric', value_name='value')\n",
    "df_melted_preds = df_melted_preds.dropna(subset=['value'])\n",
    "fig_preds = go.Figure()\n",
    "for metric_name in df_melted_preds['metric'].unique():\n",
    "    if metric_name == 'attribute':\n",
    "        continue\n",
    "    df_metric = df_melted_preds[df_melted_preds['metric'] == metric_name]\n",
    "    fig_preds.add_trace(go.Bar(\n",
    "        x=df_metric['attribute'],\n",
    "        y=df_metric['value'],\n",
    "        name=metric_name\n",
    "    ))\n",
    "fig_preds.update_layout(\n",
    "    barmode='group',\n",
    "    title='Fairness Metrics by Protected Attribute (with Predictions)',\n",
    "    xaxis_title='Protected Attribute',\n",
    "    yaxis_title='Metric Value',\n",
    "    legend_title='Metric',\n",
    "    width=1200,\n",
    "    height=700\n",
    ")\n",
    "fig_preds.show()"
   ]
  },
  {
   "cell_type": "code",
   "execution_count": 34,
   "id": "9de5b403",
   "metadata": {},
   "outputs": [
    {
     "data": {
      "application/vnd.plotly.v1+json": {
       "config": {
        "plotlyServerURL": "https://plot.ly"
       },
       "data": [
        {
         "legendgroup": "disparate_impact_ratio",
         "marker": {
          "color": "#636EFA"
         },
         "name": "disparate_impact_ratio",
         "showlegend": true,
         "type": "bar",
         "x": [
          "gender",
          "race",
          "ethnicity",
          "language",
          "maritalstatus"
         ],
         "xaxis": "x",
         "y": [
          0.9827864358994438,
          1.2204611866344812,
          0.9986427668835122,
          1.4487003657262278,
          1.1415702454756755
         ],
         "yaxis": "y"
        },
        {
         "legendgroup": "disparate_impact_ratio",
         "marker": {
          "color": "#636EFA"
         },
         "name": "disparate_impact_ratio",
         "showlegend": false,
         "type": "bar",
         "x": [
          "gender",
          "race",
          "ethnicity",
          "language",
          "maritalstatus"
         ],
         "xaxis": "x2",
         "y": [
          1.0075815213764199,
          0.8350470931397653,
          0.9637550121864927,
          0.9186071238702815,
          0.9630930757100941
         ],
         "yaxis": "y2"
        },
        {
         "legendgroup": "statistical_parity_difference",
         "marker": {
          "color": "#EF553B"
         },
         "name": "statistical_parity_difference",
         "showlegend": true,
         "type": "bar",
         "x": [
          "gender",
          "race",
          "ethnicity",
          "language",
          "maritalstatus"
         ],
         "xaxis": "x",
         "y": [
          -0.008873780763516637,
          0.10729015458854385,
          -0.0006943114345909773,
          0.22290896113165926,
          0.0683400407779815
         ],
         "yaxis": "y"
        },
        {
         "legendgroup": "statistical_parity_difference",
         "marker": {
          "color": "#EF553B"
         },
         "name": "statistical_parity_difference",
         "showlegend": false,
         "type": "bar",
         "x": [
          "gender",
          "race",
          "ethnicity",
          "language",
          "maritalstatus"
         ],
         "xaxis": "x2",
         "y": [
          0.0045862670370131475,
          -0.1041017043945528,
          -0.022074315265274813,
          -0.04967231198494593,
          -0.022756082852325443
         ],
         "yaxis": "y2"
        },
        {
         "legendgroup": "base_rate",
         "marker": {
          "color": "#00CC96"
         },
         "name": "base_rate",
         "showlegend": true,
         "type": "bar",
         "x": [
          "gender",
          "race",
          "ethnicity",
          "language",
          "maritalstatus"
         ],
         "xaxis": "x",
         "y": [
          0.5115,
          0.5115,
          0.5115,
          0.5115,
          0.5115
         ],
         "yaxis": "y"
        },
        {
         "legendgroup": "base_rate",
         "marker": {
          "color": "#00CC96"
         },
         "name": "base_rate",
         "showlegend": false,
         "type": "bar",
         "x": [
          "gender",
          "race",
          "ethnicity",
          "language",
          "maritalstatus"
         ],
         "xaxis": "x2",
         "y": [
          0.5115,
          0.5115,
          0.5115,
          0.5115,
          0.5115
         ],
         "yaxis": "y2"
        }
       ],
       "layout": {
        "annotations": [
         {
          "font": {
           "size": 16
          },
          "showarrow": false,
          "text": "Fairness Metrics Before Predictions",
          "x": 0.225,
          "xanchor": "center",
          "xref": "paper",
          "y": 1,
          "yanchor": "bottom",
          "yref": "paper"
         },
         {
          "font": {
           "size": 16
          },
          "showarrow": false,
          "text": "Fairness Metrics After Predictions",
          "x": 0.775,
          "xanchor": "center",
          "xref": "paper",
          "y": 1,
          "yanchor": "bottom",
          "yref": "paper"
         }
        ],
        "barmode": "group",
        "height": 500,
        "legend": {
         "title": {
          "text": "Metric"
         }
        },
        "template": {
         "data": {
          "bar": [
           {
            "error_x": {
             "color": "#2a3f5f"
            },
            "error_y": {
             "color": "#2a3f5f"
            },
            "marker": {
             "line": {
              "color": "#E5ECF6",
              "width": 0.5
             },
             "pattern": {
              "fillmode": "overlay",
              "size": 10,
              "solidity": 0.2
             }
            },
            "type": "bar"
           }
          ],
          "barpolar": [
           {
            "marker": {
             "line": {
              "color": "#E5ECF6",
              "width": 0.5
             },
             "pattern": {
              "fillmode": "overlay",
              "size": 10,
              "solidity": 0.2
             }
            },
            "type": "barpolar"
           }
          ],
          "carpet": [
           {
            "aaxis": {
             "endlinecolor": "#2a3f5f",
             "gridcolor": "white",
             "linecolor": "white",
             "minorgridcolor": "white",
             "startlinecolor": "#2a3f5f"
            },
            "baxis": {
             "endlinecolor": "#2a3f5f",
             "gridcolor": "white",
             "linecolor": "white",
             "minorgridcolor": "white",
             "startlinecolor": "#2a3f5f"
            },
            "type": "carpet"
           }
          ],
          "choropleth": [
           {
            "colorbar": {
             "outlinewidth": 0,
             "ticks": ""
            },
            "type": "choropleth"
           }
          ],
          "contour": [
           {
            "colorbar": {
             "outlinewidth": 0,
             "ticks": ""
            },
            "colorscale": [
             [
              0,
              "#0d0887"
             ],
             [
              0.1111111111111111,
              "#46039f"
             ],
             [
              0.2222222222222222,
              "#7201a8"
             ],
             [
              0.3333333333333333,
              "#9c179e"
             ],
             [
              0.4444444444444444,
              "#bd3786"
             ],
             [
              0.5555555555555556,
              "#d8576b"
             ],
             [
              0.6666666666666666,
              "#ed7953"
             ],
             [
              0.7777777777777778,
              "#fb9f3a"
             ],
             [
              0.8888888888888888,
              "#fdca26"
             ],
             [
              1,
              "#f0f921"
             ]
            ],
            "type": "contour"
           }
          ],
          "contourcarpet": [
           {
            "colorbar": {
             "outlinewidth": 0,
             "ticks": ""
            },
            "type": "contourcarpet"
           }
          ],
          "heatmap": [
           {
            "colorbar": {
             "outlinewidth": 0,
             "ticks": ""
            },
            "colorscale": [
             [
              0,
              "#0d0887"
             ],
             [
              0.1111111111111111,
              "#46039f"
             ],
             [
              0.2222222222222222,
              "#7201a8"
             ],
             [
              0.3333333333333333,
              "#9c179e"
             ],
             [
              0.4444444444444444,
              "#bd3786"
             ],
             [
              0.5555555555555556,
              "#d8576b"
             ],
             [
              0.6666666666666666,
              "#ed7953"
             ],
             [
              0.7777777777777778,
              "#fb9f3a"
             ],
             [
              0.8888888888888888,
              "#fdca26"
             ],
             [
              1,
              "#f0f921"
             ]
            ],
            "type": "heatmap"
           }
          ],
          "heatmapgl": [
           {
            "colorbar": {
             "outlinewidth": 0,
             "ticks": ""
            },
            "colorscale": [
             [
              0,
              "#0d0887"
             ],
             [
              0.1111111111111111,
              "#46039f"
             ],
             [
              0.2222222222222222,
              "#7201a8"
             ],
             [
              0.3333333333333333,
              "#9c179e"
             ],
             [
              0.4444444444444444,
              "#bd3786"
             ],
             [
              0.5555555555555556,
              "#d8576b"
             ],
             [
              0.6666666666666666,
              "#ed7953"
             ],
             [
              0.7777777777777778,
              "#fb9f3a"
             ],
             [
              0.8888888888888888,
              "#fdca26"
             ],
             [
              1,
              "#f0f921"
             ]
            ],
            "type": "heatmapgl"
           }
          ],
          "histogram": [
           {
            "marker": {
             "pattern": {
              "fillmode": "overlay",
              "size": 10,
              "solidity": 0.2
             }
            },
            "type": "histogram"
           }
          ],
          "histogram2d": [
           {
            "colorbar": {
             "outlinewidth": 0,
             "ticks": ""
            },
            "colorscale": [
             [
              0,
              "#0d0887"
             ],
             [
              0.1111111111111111,
              "#46039f"
             ],
             [
              0.2222222222222222,
              "#7201a8"
             ],
             [
              0.3333333333333333,
              "#9c179e"
             ],
             [
              0.4444444444444444,
              "#bd3786"
             ],
             [
              0.5555555555555556,
              "#d8576b"
             ],
             [
              0.6666666666666666,
              "#ed7953"
             ],
             [
              0.7777777777777778,
              "#fb9f3a"
             ],
             [
              0.8888888888888888,
              "#fdca26"
             ],
             [
              1,
              "#f0f921"
             ]
            ],
            "type": "histogram2d"
           }
          ],
          "histogram2dcontour": [
           {
            "colorbar": {
             "outlinewidth": 0,
             "ticks": ""
            },
            "colorscale": [
             [
              0,
              "#0d0887"
             ],
             [
              0.1111111111111111,
              "#46039f"
             ],
             [
              0.2222222222222222,
              "#7201a8"
             ],
             [
              0.3333333333333333,
              "#9c179e"
             ],
             [
              0.4444444444444444,
              "#bd3786"
             ],
             [
              0.5555555555555556,
              "#d8576b"
             ],
             [
              0.6666666666666666,
              "#ed7953"
             ],
             [
              0.7777777777777778,
              "#fb9f3a"
             ],
             [
              0.8888888888888888,
              "#fdca26"
             ],
             [
              1,
              "#f0f921"
             ]
            ],
            "type": "histogram2dcontour"
           }
          ],
          "mesh3d": [
           {
            "colorbar": {
             "outlinewidth": 0,
             "ticks": ""
            },
            "type": "mesh3d"
           }
          ],
          "parcoords": [
           {
            "line": {
             "colorbar": {
              "outlinewidth": 0,
              "ticks": ""
             }
            },
            "type": "parcoords"
           }
          ],
          "pie": [
           {
            "automargin": true,
            "type": "pie"
           }
          ],
          "scatter": [
           {
            "fillpattern": {
             "fillmode": "overlay",
             "size": 10,
             "solidity": 0.2
            },
            "type": "scatter"
           }
          ],
          "scatter3d": [
           {
            "line": {
             "colorbar": {
              "outlinewidth": 0,
              "ticks": ""
             }
            },
            "marker": {
             "colorbar": {
              "outlinewidth": 0,
              "ticks": ""
             }
            },
            "type": "scatter3d"
           }
          ],
          "scattercarpet": [
           {
            "marker": {
             "colorbar": {
              "outlinewidth": 0,
              "ticks": ""
             }
            },
            "type": "scattercarpet"
           }
          ],
          "scattergeo": [
           {
            "marker": {
             "colorbar": {
              "outlinewidth": 0,
              "ticks": ""
             }
            },
            "type": "scattergeo"
           }
          ],
          "scattergl": [
           {
            "marker": {
             "colorbar": {
              "outlinewidth": 0,
              "ticks": ""
             }
            },
            "type": "scattergl"
           }
          ],
          "scattermapbox": [
           {
            "marker": {
             "colorbar": {
              "outlinewidth": 0,
              "ticks": ""
             }
            },
            "type": "scattermapbox"
           }
          ],
          "scatterpolar": [
           {
            "marker": {
             "colorbar": {
              "outlinewidth": 0,
              "ticks": ""
             }
            },
            "type": "scatterpolar"
           }
          ],
          "scatterpolargl": [
           {
            "marker": {
             "colorbar": {
              "outlinewidth": 0,
              "ticks": ""
             }
            },
            "type": "scatterpolargl"
           }
          ],
          "scatterternary": [
           {
            "marker": {
             "colorbar": {
              "outlinewidth": 0,
              "ticks": ""
             }
            },
            "type": "scatterternary"
           }
          ],
          "surface": [
           {
            "colorbar": {
             "outlinewidth": 0,
             "ticks": ""
            },
            "colorscale": [
             [
              0,
              "#0d0887"
             ],
             [
              0.1111111111111111,
              "#46039f"
             ],
             [
              0.2222222222222222,
              "#7201a8"
             ],
             [
              0.3333333333333333,
              "#9c179e"
             ],
             [
              0.4444444444444444,
              "#bd3786"
             ],
             [
              0.5555555555555556,
              "#d8576b"
             ],
             [
              0.6666666666666666,
              "#ed7953"
             ],
             [
              0.7777777777777778,
              "#fb9f3a"
             ],
             [
              0.8888888888888888,
              "#fdca26"
             ],
             [
              1,
              "#f0f921"
             ]
            ],
            "type": "surface"
           }
          ],
          "table": [
           {
            "cells": {
             "fill": {
              "color": "#EBF0F8"
             },
             "line": {
              "color": "white"
             }
            },
            "header": {
             "fill": {
              "color": "#C8D4E3"
             },
             "line": {
              "color": "white"
             }
            },
            "type": "table"
           }
          ]
         },
         "layout": {
          "annotationdefaults": {
           "arrowcolor": "#2a3f5f",
           "arrowhead": 0,
           "arrowwidth": 1
          },
          "autotypenumbers": "strict",
          "coloraxis": {
           "colorbar": {
            "outlinewidth": 0,
            "ticks": ""
           }
          },
          "colorscale": {
           "diverging": [
            [
             0,
             "#8e0152"
            ],
            [
             0.1,
             "#c51b7d"
            ],
            [
             0.2,
             "#de77ae"
            ],
            [
             0.3,
             "#f1b6da"
            ],
            [
             0.4,
             "#fde0ef"
            ],
            [
             0.5,
             "#f7f7f7"
            ],
            [
             0.6,
             "#e6f5d0"
            ],
            [
             0.7,
             "#b8e186"
            ],
            [
             0.8,
             "#7fbc41"
            ],
            [
             0.9,
             "#4d9221"
            ],
            [
             1,
             "#276419"
            ]
           ],
           "sequential": [
            [
             0,
             "#0d0887"
            ],
            [
             0.1111111111111111,
             "#46039f"
            ],
            [
             0.2222222222222222,
             "#7201a8"
            ],
            [
             0.3333333333333333,
             "#9c179e"
            ],
            [
             0.4444444444444444,
             "#bd3786"
            ],
            [
             0.5555555555555556,
             "#d8576b"
            ],
            [
             0.6666666666666666,
             "#ed7953"
            ],
            [
             0.7777777777777778,
             "#fb9f3a"
            ],
            [
             0.8888888888888888,
             "#fdca26"
            ],
            [
             1,
             "#f0f921"
            ]
           ],
           "sequentialminus": [
            [
             0,
             "#0d0887"
            ],
            [
             0.1111111111111111,
             "#46039f"
            ],
            [
             0.2222222222222222,
             "#7201a8"
            ],
            [
             0.3333333333333333,
             "#9c179e"
            ],
            [
             0.4444444444444444,
             "#bd3786"
            ],
            [
             0.5555555555555556,
             "#d8576b"
            ],
            [
             0.6666666666666666,
             "#ed7953"
            ],
            [
             0.7777777777777778,
             "#fb9f3a"
            ],
            [
             0.8888888888888888,
             "#fdca26"
            ],
            [
             1,
             "#f0f921"
            ]
           ]
          },
          "colorway": [
           "#636efa",
           "#EF553B",
           "#00cc96",
           "#ab63fa",
           "#FFA15A",
           "#19d3f3",
           "#FF6692",
           "#B6E880",
           "#FF97FF",
           "#FECB52"
          ],
          "font": {
           "color": "#2a3f5f"
          },
          "geo": {
           "bgcolor": "white",
           "lakecolor": "white",
           "landcolor": "#E5ECF6",
           "showlakes": true,
           "showland": true,
           "subunitcolor": "white"
          },
          "hoverlabel": {
           "align": "left"
          },
          "hovermode": "closest",
          "mapbox": {
           "style": "light"
          },
          "paper_bgcolor": "white",
          "plot_bgcolor": "#E5ECF6",
          "polar": {
           "angularaxis": {
            "gridcolor": "white",
            "linecolor": "white",
            "ticks": ""
           },
           "bgcolor": "#E5ECF6",
           "radialaxis": {
            "gridcolor": "white",
            "linecolor": "white",
            "ticks": ""
           }
          },
          "scene": {
           "xaxis": {
            "backgroundcolor": "#E5ECF6",
            "gridcolor": "white",
            "gridwidth": 2,
            "linecolor": "white",
            "showbackground": true,
            "ticks": "",
            "zerolinecolor": "white"
           },
           "yaxis": {
            "backgroundcolor": "#E5ECF6",
            "gridcolor": "white",
            "gridwidth": 2,
            "linecolor": "white",
            "showbackground": true,
            "ticks": "",
            "zerolinecolor": "white"
           },
           "zaxis": {
            "backgroundcolor": "#E5ECF6",
            "gridcolor": "white",
            "gridwidth": 2,
            "linecolor": "white",
            "showbackground": true,
            "ticks": "",
            "zerolinecolor": "white"
           }
          },
          "shapedefaults": {
           "line": {
            "color": "#2a3f5f"
           }
          },
          "ternary": {
           "aaxis": {
            "gridcolor": "white",
            "linecolor": "white",
            "ticks": ""
           },
           "baxis": {
            "gridcolor": "white",
            "linecolor": "white",
            "ticks": ""
           },
           "bgcolor": "#E5ECF6",
           "caxis": {
            "gridcolor": "white",
            "linecolor": "white",
            "ticks": ""
           }
          },
          "title": {
           "x": 0.05
          },
          "xaxis": {
           "automargin": true,
           "gridcolor": "white",
           "linecolor": "white",
           "ticks": "",
           "title": {
            "standoff": 15
           },
           "zerolinecolor": "white",
           "zerolinewidth": 2
          },
          "yaxis": {
           "automargin": true,
           "gridcolor": "white",
           "linecolor": "white",
           "ticks": "",
           "title": {
            "standoff": 15
           },
           "zerolinecolor": "white",
           "zerolinewidth": 2
          }
         }
        },
        "title": {
         "text": "Comparison of Fairness Metrics Before and After Predictions"
        },
        "width": 1100,
        "xaxis": {
         "anchor": "y",
         "domain": [
          0,
          0.45
         ]
        },
        "xaxis2": {
         "anchor": "y2",
         "domain": [
          0.55,
          1
         ]
        },
        "yaxis": {
         "anchor": "x",
         "domain": [
          0,
          1
         ]
        },
        "yaxis2": {
         "anchor": "x2",
         "domain": [
          0,
          1
         ],
         "matches": "y",
         "showticklabels": false
        }
       }
      }
     },
     "metadata": {},
     "output_type": "display_data"
    }
   ],
   "source": [
    "import plotly.colors\n",
    "\n",
    "common_metrics = set(df_melted['metric']).intersection(set(df_melted_preds['metric']))\n",
    "df_before = df_melted[df_melted['metric'].isin(common_metrics)]\n",
    "df_after = df_melted_preds[df_melted_preds['metric'].isin(common_metrics)]\n",
    "\n",
    "metric_names = list(common_metrics)\n",
    "palette = plotly.colors.qualitative.Plotly  # or use another palette if you prefer\n",
    "color_map = {metric: palette[i % len(palette)] for i, metric in enumerate(metric_names)}\n",
    "\n",
    "fig_compare = make_subplots(\n",
    "    rows=1, cols=2,\n",
    "    subplot_titles=[\"Fairness Metrics Before Predictions\", \"Fairness Metrics After Predictions\"],\n",
    "    shared_yaxes=True\n",
    ")\n",
    "\n",
    "for metric in metric_names:\n",
    "    df_b = df_before[df_before['metric'] == metric]\n",
    "    df_a = df_after[df_after['metric'] == metric]\n",
    "    color = color_map[metric]\n",
    "    fig_compare.add_trace(\n",
    "        go.Bar(\n",
    "            x=df_b['attribute'],\n",
    "            y=df_b['value'],\n",
    "            name=metric,\n",
    "            legendgroup=metric,\n",
    "            showlegend=True,\n",
    "            marker_color=color\n",
    "        ),\n",
    "        row=1, col=1\n",
    "    )\n",
    "    fig_compare.add_trace(\n",
    "        go.Bar(\n",
    "            x=df_a['attribute'],\n",
    "            y=df_a['value'],\n",
    "            name=metric,\n",
    "            legendgroup=metric,\n",
    "            showlegend=False,\n",
    "            marker_color=color\n",
    "        ),\n",
    "        row=1, col=2\n",
    "    )\n",
    "\n",
    "fig_compare.update_layout(\n",
    "    height=500,\n",
    "    width=1100,\n",
    "    barmode='group',\n",
    "    title_text=\"Comparison of Fairness Metrics Before and After Predictions\",\n",
    "    legend_title=\"Metric\"\n",
    ")\n",
    "fig_compare.show()"
   ]
  },
  {
   "cell_type": "markdown",
   "id": "7b7d55d4",
   "metadata": {},
   "source": [
    "loading the fine tunned version"
   ]
  },
  {
   "cell_type": "code",
   "execution_count": 35,
   "id": "f5238c79",
   "metadata": {},
   "outputs": [
    {
     "data": {
      "application/vnd.plotly.v1+json": {
       "config": {
        "plotlyServerURL": "https://plot.ly"
       },
       "data": [
        {
         "legendgroup": "average_odds_difference",
         "marker": {
          "color": "#636EFA"
         },
         "name": "average_odds_difference",
         "showlegend": true,
         "type": "bar",
         "x": [
          "gender",
          "race",
          "ethnicity",
          "language",
          "maritalstatus"
         ],
         "xaxis": "x",
         "y": [
          0.00478792104350112,
          -0.10913428627586536,
          -0.021441691609235702,
          -0.08069075816462101,
          -0.024634685180177973
         ],
         "yaxis": "y"
        },
        {
         "legendgroup": "average_odds_difference",
         "marker": {
          "color": "#636EFA"
         },
         "name": "average_odds_difference",
         "showlegend": false,
         "type": "bar",
         "x": [
          "gender",
          "race",
          "ethnicity",
          "language",
          "maritalstatus"
         ],
         "xaxis": "x2",
         "y": [
          0.026483747254729684,
          0.1701510839753748,
          -0.07216337583062654,
          0.10705746074104372,
          0.015248200628840414
         ],
         "yaxis": "y2"
        },
        {
         "legendgroup": "base_rate",
         "marker": {
          "color": "#EF553B"
         },
         "name": "base_rate",
         "showlegend": true,
         "type": "bar",
         "x": [
          "gender",
          "race",
          "ethnicity",
          "language",
          "maritalstatus"
         ],
         "xaxis": "x",
         "y": [
          0.5115,
          0.5115,
          0.5115,
          0.5115,
          0.5115
         ],
         "yaxis": "y"
        },
        {
         "legendgroup": "base_rate",
         "marker": {
          "color": "#EF553B"
         },
         "name": "base_rate",
         "showlegend": false,
         "type": "bar",
         "x": [
          "gender",
          "race",
          "ethnicity",
          "language",
          "maritalstatus"
         ],
         "xaxis": "x2",
         "y": [
          0.5115,
          0.5115,
          0.5115,
          0.5115,
          0.5115
         ],
         "yaxis": "y2"
        },
        {
         "legendgroup": "conditional_demographic_disparity",
         "marker": {
          "color": "#00CC96"
         },
         "name": "conditional_demographic_disparity",
         "showlegend": true,
         "type": "bar",
         "x": [
          "gender",
          "race",
          "ethnicity",
          "language",
          "maritalstatus"
         ],
         "xaxis": "x",
         "y": [
          0.000457160104128679,
          -0.05027509211866642,
          -0.006739992705962195,
          -0.011992360124250248,
          -0.011217695587107144
         ],
         "yaxis": "y"
        },
        {
         "legendgroup": "conditional_demographic_disparity",
         "marker": {
          "color": "#00CC96"
         },
         "name": "conditional_demographic_disparity",
         "showlegend": false,
         "type": "bar",
         "x": [
          "gender",
          "race",
          "ethnicity",
          "language",
          "maritalstatus"
         ],
         "xaxis": "x2",
         "y": [
          0.0023414282496057653,
          0.08848966483942827,
          -0.021100167705439175,
          0.03891027008084907,
          0.030703186403344056
         ],
         "yaxis": "y2"
        },
        {
         "legendgroup": "df_bias_amplification",
         "marker": {
          "color": "#AB63FA"
         },
         "name": "df_bias_amplification",
         "showlegend": true,
         "type": "bar",
         "x": [
          "gender",
          "race",
          "ethnicity",
          "language",
          "maritalstatus"
         ],
         "xaxis": "x",
         "y": [
          -0.006526924801190326,
          -0.06963041304777029,
          0.012126610275763117,
          -0.13780148821216553,
          -0.25657284305805594
         ],
         "yaxis": "y"
        },
        {
         "legendgroup": "df_bias_amplification",
         "marker": {
          "color": "#AB63FA"
         },
         "name": "df_bias_amplification",
         "showlegend": false,
         "type": "bar",
         "x": [
          "gender",
          "race",
          "ethnicity",
          "language",
          "maritalstatus"
         ],
         "xaxis": "x2",
         "y": [
          0.03289582500448407,
          0.24163807775086732,
          0.059536923420708376,
          -0.13838516094385378,
          -0.019137343279541974
         ],
         "yaxis": "y2"
        },
        {
         "legendgroup": "disparate_impact_ratio",
         "marker": {
          "color": "#FFA15A"
         },
         "name": "disparate_impact_ratio",
         "showlegend": true,
         "type": "bar",
         "x": [
          "gender",
          "race",
          "ethnicity",
          "language",
          "maritalstatus"
         ],
         "xaxis": "x",
         "y": [
          1.0075815213764199,
          0.8350470931397653,
          0.9637550121864927,
          0.9186071238702815,
          0.9630930757100941
         ],
         "yaxis": "y"
        },
        {
         "legendgroup": "disparate_impact_ratio",
         "marker": {
          "color": "#FFA15A"
         },
         "name": "disparate_impact_ratio",
         "showlegend": false,
         "type": "bar",
         "x": [
          "gender",
          "race",
          "ethnicity",
          "language",
          "maritalstatus"
         ],
         "xaxis": "x2",
         "y": [
          1.0485529777565177,
          1.4194384449244062,
          0.8604767994154184,
          1.3477633477633475,
          1.070463060459877
         ],
         "yaxis": "y2"
        },
        {
         "legendgroup": "equal_opportunity_difference",
         "marker": {
          "color": "#19D3F3"
         },
         "name": "equal_opportunity_difference",
         "showlegend": true,
         "type": "bar",
         "x": [
          "gender",
          "race",
          "ethnicity",
          "language",
          "maritalstatus"
         ],
         "xaxis": "x",
         "y": [
          0.014545735595316356,
          -0.11497326203208558,
          -0.04890868698898376,
          -0.032543103448275934,
          -0.05560267719449752
         ],
         "yaxis": "y"
        },
        {
         "legendgroup": "equal_opportunity_difference",
         "marker": {
          "color": "#19D3F3"
         },
         "name": "equal_opportunity_difference",
         "showlegend": false,
         "type": "bar",
         "x": [
          "gender",
          "race",
          "ethnicity",
          "language",
          "maritalstatus"
         ],
         "xaxis": "x2",
         "y": [
          0.06889902229779343,
          0.13588235294117645,
          -0.10690974051256208,
          0.10678312159709613,
          -0.014203318734192782
         ],
         "yaxis": "y2"
        },
        {
         "legendgroup": "smoothed_edf",
         "marker": {
          "color": "#FF6692"
         },
         "name": "smoothed_edf",
         "showlegend": true,
         "type": "bar",
         "x": [
          "gender",
          "race",
          "ethnicity",
          "language",
          "maritalstatus"
         ],
         "xaxis": "x",
         "y": [
          0.011608794308665127,
          0.2911918232781626,
          0.13899770848240256,
          0.5293104384400936,
          0.44715728519266085
         ],
         "yaxis": "y"
        },
        {
         "legendgroup": "smoothed_edf",
         "marker": {
          "color": "#FF6692"
         },
         "name": "smoothed_edf",
         "showlegend": false,
         "type": "bar",
         "x": [
          "gender",
          "race",
          "ethnicity",
          "language",
          "maritalstatus"
         ],
         "xaxis": "x2",
         "y": [
          0.05103154411433952,
          0.6024603140768002,
          0.18640802162734782,
          0.5287267657084054,
          0.6845927849711748
         ],
         "yaxis": "y2"
        },
        {
         "legendgroup": "statistical_parity_difference",
         "marker": {
          "color": "#B6E880"
         },
         "name": "statistical_parity_difference",
         "showlegend": true,
         "type": "bar",
         "x": [
          "gender",
          "race",
          "ethnicity",
          "language",
          "maritalstatus"
         ],
         "xaxis": "x",
         "y": [
          0.0045862670370131475,
          -0.1041017043945528,
          -0.022074315265274813,
          -0.04967231198494593,
          -0.022756082852325443
         ],
         "yaxis": "y"
        },
        {
         "legendgroup": "statistical_parity_difference",
         "marker": {
          "color": "#B6E880"
         },
         "name": "statistical_parity_difference",
         "showlegend": false,
         "type": "bar",
         "x": [
          "gender",
          "race",
          "ethnicity",
          "language",
          "maritalstatus"
         ],
         "xaxis": "x2",
         "y": [
          0.024586590013565113,
          0.19784832307755007,
          -0.07314211836812867,
          0.1759295308545843,
          0.0354140770186947
         ],
         "yaxis": "y2"
        }
       ],
       "layout": {
        "annotations": [
         {
          "font": {
           "size": 16
          },
          "showarrow": false,
          "text": "Fairness Metrics After Predictions",
          "x": 0.225,
          "xanchor": "center",
          "xref": "paper",
          "y": 1,
          "yanchor": "bottom",
          "yref": "paper"
         },
         {
          "font": {
           "size": 16
          },
          "showarrow": false,
          "text": "Fairness Metrics After Fine-Tuning",
          "x": 0.775,
          "xanchor": "center",
          "xref": "paper",
          "y": 1,
          "yanchor": "bottom",
          "yref": "paper"
         }
        ],
        "barmode": "group",
        "height": 500,
        "legend": {
         "title": {
          "text": "Metric"
         }
        },
        "template": {
         "data": {
          "bar": [
           {
            "error_x": {
             "color": "#2a3f5f"
            },
            "error_y": {
             "color": "#2a3f5f"
            },
            "marker": {
             "line": {
              "color": "#E5ECF6",
              "width": 0.5
             },
             "pattern": {
              "fillmode": "overlay",
              "size": 10,
              "solidity": 0.2
             }
            },
            "type": "bar"
           }
          ],
          "barpolar": [
           {
            "marker": {
             "line": {
              "color": "#E5ECF6",
              "width": 0.5
             },
             "pattern": {
              "fillmode": "overlay",
              "size": 10,
              "solidity": 0.2
             }
            },
            "type": "barpolar"
           }
          ],
          "carpet": [
           {
            "aaxis": {
             "endlinecolor": "#2a3f5f",
             "gridcolor": "white",
             "linecolor": "white",
             "minorgridcolor": "white",
             "startlinecolor": "#2a3f5f"
            },
            "baxis": {
             "endlinecolor": "#2a3f5f",
             "gridcolor": "white",
             "linecolor": "white",
             "minorgridcolor": "white",
             "startlinecolor": "#2a3f5f"
            },
            "type": "carpet"
           }
          ],
          "choropleth": [
           {
            "colorbar": {
             "outlinewidth": 0,
             "ticks": ""
            },
            "type": "choropleth"
           }
          ],
          "contour": [
           {
            "colorbar": {
             "outlinewidth": 0,
             "ticks": ""
            },
            "colorscale": [
             [
              0,
              "#0d0887"
             ],
             [
              0.1111111111111111,
              "#46039f"
             ],
             [
              0.2222222222222222,
              "#7201a8"
             ],
             [
              0.3333333333333333,
              "#9c179e"
             ],
             [
              0.4444444444444444,
              "#bd3786"
             ],
             [
              0.5555555555555556,
              "#d8576b"
             ],
             [
              0.6666666666666666,
              "#ed7953"
             ],
             [
              0.7777777777777778,
              "#fb9f3a"
             ],
             [
              0.8888888888888888,
              "#fdca26"
             ],
             [
              1,
              "#f0f921"
             ]
            ],
            "type": "contour"
           }
          ],
          "contourcarpet": [
           {
            "colorbar": {
             "outlinewidth": 0,
             "ticks": ""
            },
            "type": "contourcarpet"
           }
          ],
          "heatmap": [
           {
            "colorbar": {
             "outlinewidth": 0,
             "ticks": ""
            },
            "colorscale": [
             [
              0,
              "#0d0887"
             ],
             [
              0.1111111111111111,
              "#46039f"
             ],
             [
              0.2222222222222222,
              "#7201a8"
             ],
             [
              0.3333333333333333,
              "#9c179e"
             ],
             [
              0.4444444444444444,
              "#bd3786"
             ],
             [
              0.5555555555555556,
              "#d8576b"
             ],
             [
              0.6666666666666666,
              "#ed7953"
             ],
             [
              0.7777777777777778,
              "#fb9f3a"
             ],
             [
              0.8888888888888888,
              "#fdca26"
             ],
             [
              1,
              "#f0f921"
             ]
            ],
            "type": "heatmap"
           }
          ],
          "heatmapgl": [
           {
            "colorbar": {
             "outlinewidth": 0,
             "ticks": ""
            },
            "colorscale": [
             [
              0,
              "#0d0887"
             ],
             [
              0.1111111111111111,
              "#46039f"
             ],
             [
              0.2222222222222222,
              "#7201a8"
             ],
             [
              0.3333333333333333,
              "#9c179e"
             ],
             [
              0.4444444444444444,
              "#bd3786"
             ],
             [
              0.5555555555555556,
              "#d8576b"
             ],
             [
              0.6666666666666666,
              "#ed7953"
             ],
             [
              0.7777777777777778,
              "#fb9f3a"
             ],
             [
              0.8888888888888888,
              "#fdca26"
             ],
             [
              1,
              "#f0f921"
             ]
            ],
            "type": "heatmapgl"
           }
          ],
          "histogram": [
           {
            "marker": {
             "pattern": {
              "fillmode": "overlay",
              "size": 10,
              "solidity": 0.2
             }
            },
            "type": "histogram"
           }
          ],
          "histogram2d": [
           {
            "colorbar": {
             "outlinewidth": 0,
             "ticks": ""
            },
            "colorscale": [
             [
              0,
              "#0d0887"
             ],
             [
              0.1111111111111111,
              "#46039f"
             ],
             [
              0.2222222222222222,
              "#7201a8"
             ],
             [
              0.3333333333333333,
              "#9c179e"
             ],
             [
              0.4444444444444444,
              "#bd3786"
             ],
             [
              0.5555555555555556,
              "#d8576b"
             ],
             [
              0.6666666666666666,
              "#ed7953"
             ],
             [
              0.7777777777777778,
              "#fb9f3a"
             ],
             [
              0.8888888888888888,
              "#fdca26"
             ],
             [
              1,
              "#f0f921"
             ]
            ],
            "type": "histogram2d"
           }
          ],
          "histogram2dcontour": [
           {
            "colorbar": {
             "outlinewidth": 0,
             "ticks": ""
            },
            "colorscale": [
             [
              0,
              "#0d0887"
             ],
             [
              0.1111111111111111,
              "#46039f"
             ],
             [
              0.2222222222222222,
              "#7201a8"
             ],
             [
              0.3333333333333333,
              "#9c179e"
             ],
             [
              0.4444444444444444,
              "#bd3786"
             ],
             [
              0.5555555555555556,
              "#d8576b"
             ],
             [
              0.6666666666666666,
              "#ed7953"
             ],
             [
              0.7777777777777778,
              "#fb9f3a"
             ],
             [
              0.8888888888888888,
              "#fdca26"
             ],
             [
              1,
              "#f0f921"
             ]
            ],
            "type": "histogram2dcontour"
           }
          ],
          "mesh3d": [
           {
            "colorbar": {
             "outlinewidth": 0,
             "ticks": ""
            },
            "type": "mesh3d"
           }
          ],
          "parcoords": [
           {
            "line": {
             "colorbar": {
              "outlinewidth": 0,
              "ticks": ""
             }
            },
            "type": "parcoords"
           }
          ],
          "pie": [
           {
            "automargin": true,
            "type": "pie"
           }
          ],
          "scatter": [
           {
            "fillpattern": {
             "fillmode": "overlay",
             "size": 10,
             "solidity": 0.2
            },
            "type": "scatter"
           }
          ],
          "scatter3d": [
           {
            "line": {
             "colorbar": {
              "outlinewidth": 0,
              "ticks": ""
             }
            },
            "marker": {
             "colorbar": {
              "outlinewidth": 0,
              "ticks": ""
             }
            },
            "type": "scatter3d"
           }
          ],
          "scattercarpet": [
           {
            "marker": {
             "colorbar": {
              "outlinewidth": 0,
              "ticks": ""
             }
            },
            "type": "scattercarpet"
           }
          ],
          "scattergeo": [
           {
            "marker": {
             "colorbar": {
              "outlinewidth": 0,
              "ticks": ""
             }
            },
            "type": "scattergeo"
           }
          ],
          "scattergl": [
           {
            "marker": {
             "colorbar": {
              "outlinewidth": 0,
              "ticks": ""
             }
            },
            "type": "scattergl"
           }
          ],
          "scattermapbox": [
           {
            "marker": {
             "colorbar": {
              "outlinewidth": 0,
              "ticks": ""
             }
            },
            "type": "scattermapbox"
           }
          ],
          "scatterpolar": [
           {
            "marker": {
             "colorbar": {
              "outlinewidth": 0,
              "ticks": ""
             }
            },
            "type": "scatterpolar"
           }
          ],
          "scatterpolargl": [
           {
            "marker": {
             "colorbar": {
              "outlinewidth": 0,
              "ticks": ""
             }
            },
            "type": "scatterpolargl"
           }
          ],
          "scatterternary": [
           {
            "marker": {
             "colorbar": {
              "outlinewidth": 0,
              "ticks": ""
             }
            },
            "type": "scatterternary"
           }
          ],
          "surface": [
           {
            "colorbar": {
             "outlinewidth": 0,
             "ticks": ""
            },
            "colorscale": [
             [
              0,
              "#0d0887"
             ],
             [
              0.1111111111111111,
              "#46039f"
             ],
             [
              0.2222222222222222,
              "#7201a8"
             ],
             [
              0.3333333333333333,
              "#9c179e"
             ],
             [
              0.4444444444444444,
              "#bd3786"
             ],
             [
              0.5555555555555556,
              "#d8576b"
             ],
             [
              0.6666666666666666,
              "#ed7953"
             ],
             [
              0.7777777777777778,
              "#fb9f3a"
             ],
             [
              0.8888888888888888,
              "#fdca26"
             ],
             [
              1,
              "#f0f921"
             ]
            ],
            "type": "surface"
           }
          ],
          "table": [
           {
            "cells": {
             "fill": {
              "color": "#EBF0F8"
             },
             "line": {
              "color": "white"
             }
            },
            "header": {
             "fill": {
              "color": "#C8D4E3"
             },
             "line": {
              "color": "white"
             }
            },
            "type": "table"
           }
          ]
         },
         "layout": {
          "annotationdefaults": {
           "arrowcolor": "#2a3f5f",
           "arrowhead": 0,
           "arrowwidth": 1
          },
          "autotypenumbers": "strict",
          "coloraxis": {
           "colorbar": {
            "outlinewidth": 0,
            "ticks": ""
           }
          },
          "colorscale": {
           "diverging": [
            [
             0,
             "#8e0152"
            ],
            [
             0.1,
             "#c51b7d"
            ],
            [
             0.2,
             "#de77ae"
            ],
            [
             0.3,
             "#f1b6da"
            ],
            [
             0.4,
             "#fde0ef"
            ],
            [
             0.5,
             "#f7f7f7"
            ],
            [
             0.6,
             "#e6f5d0"
            ],
            [
             0.7,
             "#b8e186"
            ],
            [
             0.8,
             "#7fbc41"
            ],
            [
             0.9,
             "#4d9221"
            ],
            [
             1,
             "#276419"
            ]
           ],
           "sequential": [
            [
             0,
             "#0d0887"
            ],
            [
             0.1111111111111111,
             "#46039f"
            ],
            [
             0.2222222222222222,
             "#7201a8"
            ],
            [
             0.3333333333333333,
             "#9c179e"
            ],
            [
             0.4444444444444444,
             "#bd3786"
            ],
            [
             0.5555555555555556,
             "#d8576b"
            ],
            [
             0.6666666666666666,
             "#ed7953"
            ],
            [
             0.7777777777777778,
             "#fb9f3a"
            ],
            [
             0.8888888888888888,
             "#fdca26"
            ],
            [
             1,
             "#f0f921"
            ]
           ],
           "sequentialminus": [
            [
             0,
             "#0d0887"
            ],
            [
             0.1111111111111111,
             "#46039f"
            ],
            [
             0.2222222222222222,
             "#7201a8"
            ],
            [
             0.3333333333333333,
             "#9c179e"
            ],
            [
             0.4444444444444444,
             "#bd3786"
            ],
            [
             0.5555555555555556,
             "#d8576b"
            ],
            [
             0.6666666666666666,
             "#ed7953"
            ],
            [
             0.7777777777777778,
             "#fb9f3a"
            ],
            [
             0.8888888888888888,
             "#fdca26"
            ],
            [
             1,
             "#f0f921"
            ]
           ]
          },
          "colorway": [
           "#636efa",
           "#EF553B",
           "#00cc96",
           "#ab63fa",
           "#FFA15A",
           "#19d3f3",
           "#FF6692",
           "#B6E880",
           "#FF97FF",
           "#FECB52"
          ],
          "font": {
           "color": "#2a3f5f"
          },
          "geo": {
           "bgcolor": "white",
           "lakecolor": "white",
           "landcolor": "#E5ECF6",
           "showlakes": true,
           "showland": true,
           "subunitcolor": "white"
          },
          "hoverlabel": {
           "align": "left"
          },
          "hovermode": "closest",
          "mapbox": {
           "style": "light"
          },
          "paper_bgcolor": "white",
          "plot_bgcolor": "#E5ECF6",
          "polar": {
           "angularaxis": {
            "gridcolor": "white",
            "linecolor": "white",
            "ticks": ""
           },
           "bgcolor": "#E5ECF6",
           "radialaxis": {
            "gridcolor": "white",
            "linecolor": "white",
            "ticks": ""
           }
          },
          "scene": {
           "xaxis": {
            "backgroundcolor": "#E5ECF6",
            "gridcolor": "white",
            "gridwidth": 2,
            "linecolor": "white",
            "showbackground": true,
            "ticks": "",
            "zerolinecolor": "white"
           },
           "yaxis": {
            "backgroundcolor": "#E5ECF6",
            "gridcolor": "white",
            "gridwidth": 2,
            "linecolor": "white",
            "showbackground": true,
            "ticks": "",
            "zerolinecolor": "white"
           },
           "zaxis": {
            "backgroundcolor": "#E5ECF6",
            "gridcolor": "white",
            "gridwidth": 2,
            "linecolor": "white",
            "showbackground": true,
            "ticks": "",
            "zerolinecolor": "white"
           }
          },
          "shapedefaults": {
           "line": {
            "color": "#2a3f5f"
           }
          },
          "ternary": {
           "aaxis": {
            "gridcolor": "white",
            "linecolor": "white",
            "ticks": ""
           },
           "baxis": {
            "gridcolor": "white",
            "linecolor": "white",
            "ticks": ""
           },
           "bgcolor": "#E5ECF6",
           "caxis": {
            "gridcolor": "white",
            "linecolor": "white",
            "ticks": ""
           }
          },
          "title": {
           "x": 0.05
          },
          "xaxis": {
           "automargin": true,
           "gridcolor": "white",
           "linecolor": "white",
           "ticks": "",
           "title": {
            "standoff": 15
           },
           "zerolinecolor": "white",
           "zerolinewidth": 2
          },
          "yaxis": {
           "automargin": true,
           "gridcolor": "white",
           "linecolor": "white",
           "ticks": "",
           "title": {
            "standoff": 15
           },
           "zerolinecolor": "white",
           "zerolinewidth": 2
          }
         }
        },
        "title": {
         "text": "Comparison of Fairness Metrics: After Predictions vs. After Fine-Tuning"
        },
        "width": 1200,
        "xaxis": {
         "anchor": "y",
         "domain": [
          0,
          0.45
         ]
        },
        "xaxis2": {
         "anchor": "y2",
         "domain": [
          0.55,
          1
         ]
        },
        "yaxis": {
         "anchor": "x",
         "domain": [
          0,
          1
         ]
        },
        "yaxis2": {
         "anchor": "x2",
         "domain": [
          0,
          1
         ],
         "matches": "y",
         "showticklabels": false
        }
       }
      }
     },
     "metadata": {},
     "output_type": "display_data"
    }
   ],
   "source": [
    "\n",
    "df_after = df_metrics_preds.melt(id_vars='attribute', var_name='metric', value_name='value')\n",
    "df_after = df_after.dropna(subset=['value'])\n",
    "\n",
    "df_metrics_fine_tuned = compute_fairness_metrics_from_csv(\n",
    "    \"./medical/df_fine_tuned_preds.csv\",\n",
    "    label_column,\n",
    "    protected_attributes,\n",
    "    attribute_names,\n",
    "    priviliged_groups\n",
    ")\n",
    "df_fine_tuned = df_metrics_fine_tuned.melt(id_vars='attribute', var_name='metric', value_name='value')\n",
    "df_fine_tuned = df_fine_tuned.dropna(subset=['value'])\n",
    "\n",
    "common_metrics = sorted(list(set(df_after['metric']).intersection(df_fine_tuned['metric'])))\n",
    "metric_names = list(common_metrics)\n",
    "palette = plotly.colors.qualitative.Plotly\n",
    "color_map = {metric: palette[i % len(palette)] for i, metric in enumerate(metric_names)}\n",
    "\n",
    "\n",
    "fig_compare = make_subplots(\n",
    "    rows=1, cols=2,\n",
    "    subplot_titles=[\n",
    "        \"Fairness Metrics After Predictions\",\n",
    "        \"Fairness Metrics After Fine-Tuning\"\n",
    "    ],\n",
    "    shared_yaxes=True\n",
    ")\n",
    "\n",
    "for metric in metric_names:\n",
    "    df_a = df_after[df_after['metric'] == metric]\n",
    "    df_f = df_fine_tuned[df_fine_tuned['metric'] == metric]\n",
    "    color = color_map[metric]\n",
    "    fig_compare.add_trace(\n",
    "        go.Bar(\n",
    "            x=df_a['attribute'],\n",
    "            y=df_a['value'],\n",
    "            name=metric,\n",
    "            legendgroup=metric,\n",
    "            showlegend=True,\n",
    "            marker_color=color\n",
    "        ),\n",
    "        row=1, col=1\n",
    "    )\n",
    "    fig_compare.add_trace(\n",
    "        go.Bar(\n",
    "            x=df_f['attribute'],\n",
    "            y=df_f['value'],\n",
    "            name=metric,\n",
    "            legendgroup=metric,\n",
    "            showlegend=False,\n",
    "            marker_color=color\n",
    "        ),\n",
    "        row=1, col=2\n",
    "    )\n",
    "\n",
    "fig_compare.update_layout(\n",
    "    height=500,\n",
    "    width=1200,\n",
    "    barmode='group',\n",
    "    title_text=\"Comparison of Fairness Metrics: After Predictions vs. After Fine-Tuning\",\n",
    "    legend_title=\"Metric\"\n",
    ")\n",
    "fig_compare.show()"
   ]
  },
  {
   "cell_type": "code",
   "execution_count": 36,
   "id": "75ef92bf",
   "metadata": {},
   "outputs": [
    {
     "data": {
      "application/vnd.plotly.v1+json": {
       "config": {
        "plotlyServerURL": "https://plot.ly"
       },
       "data": [
        {
         "legendgroup": "average_odds_difference",
         "marker": {
          "color": "#636EFA"
         },
         "name": "average_odds_difference",
         "showlegend": true,
         "type": "bar",
         "x": [
          "gender",
          "race",
          "ethnicity",
          "language",
          "maritalstatus"
         ],
         "xaxis": "x",
         "y": [
          0.026483747254729684,
          0.1701510839753748,
          -0.07216337583062654,
          0.10705746074104372,
          0.015248200628840414
         ],
         "yaxis": "y"
        },
        {
         "legendgroup": "average_odds_difference",
         "marker": {
          "color": "#636EFA"
         },
         "name": "average_odds_difference",
         "showlegend": false,
         "type": "bar",
         "x": [
          "gender",
          "race",
          "ethnicity",
          "language",
          "maritalstatus"
         ],
         "xaxis": "x2",
         "y": [
          -0.04004694033286138,
          -0.01528377230381156,
          -0.04351047831186311,
          -0.04262001677122157,
          0.01937097017987316
         ],
         "yaxis": "y2"
        },
        {
         "legendgroup": "base_rate",
         "marker": {
          "color": "#EF553B"
         },
         "name": "base_rate",
         "showlegend": true,
         "type": "bar",
         "x": [
          "gender",
          "race",
          "ethnicity",
          "language",
          "maritalstatus"
         ],
         "xaxis": "x",
         "y": [
          0.5115,
          0.5115,
          0.5115,
          0.5115,
          0.5115
         ],
         "yaxis": "y"
        },
        {
         "legendgroup": "base_rate",
         "marker": {
          "color": "#EF553B"
         },
         "name": "base_rate",
         "showlegend": false,
         "type": "bar",
         "x": [
          "gender",
          "race",
          "ethnicity",
          "language",
          "maritalstatus"
         ],
         "xaxis": "x2",
         "y": [
          0.5115,
          0.5115,
          0.5115,
          0.5115,
          0.5115
         ],
         "yaxis": "y2"
        },
        {
         "legendgroup": "conditional_demographic_disparity",
         "marker": {
          "color": "#00CC96"
         },
         "name": "conditional_demographic_disparity",
         "showlegend": true,
         "type": "bar",
         "x": [
          "gender",
          "race",
          "ethnicity",
          "language",
          "maritalstatus"
         ],
         "xaxis": "x",
         "y": [
          0.0023414282496057653,
          0.08848966483942827,
          -0.021100167705439175,
          0.03891027008084907,
          0.030703186403344056
         ],
         "yaxis": "y"
        },
        {
         "legendgroup": "conditional_demographic_disparity",
         "marker": {
          "color": "#00CC96"
         },
         "name": "conditional_demographic_disparity",
         "showlegend": false,
         "type": "bar",
         "x": [
          "gender",
          "race",
          "ethnicity",
          "language",
          "maritalstatus"
         ],
         "xaxis": "x2",
         "y": [
          -0.004094906367950264,
          0.008528856228584302,
          -0.012713537305160777,
          0.008919096973595324,
          0.0260998883454495
         ],
         "yaxis": "y2"
        },
        {
         "legendgroup": "df_bias_amplification",
         "marker": {
          "color": "#AB63FA"
         },
         "name": "df_bias_amplification",
         "showlegend": true,
         "type": "bar",
         "x": [
          "gender",
          "race",
          "ethnicity",
          "language",
          "maritalstatus"
         ],
         "xaxis": "x",
         "y": [
          0.03289582500448407,
          0.24163807775086732,
          0.059536923420708376,
          -0.13838516094385378,
          -0.019137343279541974
         ],
         "yaxis": "y"
        },
        {
         "legendgroup": "df_bias_amplification",
         "marker": {
          "color": "#AB63FA"
         },
         "name": "df_bias_amplification",
         "showlegend": false,
         "type": "bar",
         "x": [
          "gender",
          "race",
          "ethnicity",
          "language",
          "maritalstatus"
         ],
         "xaxis": "x2",
         "y": [
          0.07747272889921086,
          -0.2766538020172814,
          0.07078256616015266,
          -0.3576898675640725,
          -0.13860093425165132
         ],
         "yaxis": "y2"
        },
        {
         "legendgroup": "disparate_impact_ratio",
         "marker": {
          "color": "#FFA15A"
         },
         "name": "disparate_impact_ratio",
         "showlegend": true,
         "type": "bar",
         "x": [
          "gender",
          "race",
          "ethnicity",
          "language",
          "maritalstatus"
         ],
         "xaxis": "x",
         "y": [
          1.0485529777565177,
          1.4194384449244062,
          0.8604767994154184,
          1.3477633477633475,
          1.070463060459877
         ],
         "yaxis": "y"
        },
        {
         "legendgroup": "disparate_impact_ratio",
         "marker": {
          "color": "#FFA15A"
         },
         "name": "disparate_impact_ratio",
         "showlegend": false,
         "type": "bar",
         "x": [
          "gender",
          "race",
          "ethnicity",
          "language",
          "maritalstatus"
         ],
         "xaxis": "x2",
         "y": [
          0.9086988899087336,
          1.0447147757591158,
          0.9038063385889473,
          1.0912011683096021,
          1.0985772114874521
         ],
         "yaxis": "y2"
        },
        {
         "legendgroup": "equal_opportunity_difference",
         "marker": {
          "color": "#19D3F3"
         },
         "name": "equal_opportunity_difference",
         "showlegend": true,
         "type": "bar",
         "x": [
          "gender",
          "race",
          "ethnicity",
          "language",
          "maritalstatus"
         ],
         "xaxis": "x",
         "y": [
          0.06889902229779343,
          0.13588235294117645,
          -0.10690974051256208,
          0.10678312159709613,
          -0.014203318734192782
         ],
         "yaxis": "y"
        },
        {
         "legendgroup": "equal_opportunity_difference",
         "marker": {
          "color": "#19D3F3"
         },
         "name": "equal_opportunity_difference",
         "showlegend": false,
         "type": "bar",
         "x": [
          "gender",
          "race",
          "ethnicity",
          "language",
          "maritalstatus"
         ],
         "xaxis": "x2",
         "y": [
          -0.011241643158016679,
          -0.03695187165775393,
          -0.02642970020383395,
          -0.03337114337568059,
          -0.006160940102399537
         ],
         "yaxis": "y2"
        },
        {
         "legendgroup": "smoothed_edf",
         "marker": {
          "color": "#FF6692"
         },
         "name": "smoothed_edf",
         "showlegend": true,
         "type": "bar",
         "x": [
          "gender",
          "race",
          "ethnicity",
          "language",
          "maritalstatus"
         ],
         "xaxis": "x",
         "y": [
          0.05103154411433952,
          0.6024603140768002,
          0.18640802162734782,
          0.5287267657084054,
          0.6845927849711748
         ],
         "yaxis": "y"
        },
        {
         "legendgroup": "smoothed_edf",
         "marker": {
          "color": "#FF6692"
         },
         "name": "smoothed_edf",
         "showlegend": false,
         "type": "bar",
         "x": [
          "gender",
          "race",
          "ethnicity",
          "language",
          "maritalstatus"
         ],
         "xaxis": "x2",
         "y": [
          0.09560844800906632,
          0.08416843430865151,
          0.1976536643667921,
          0.30942205908818665,
          0.5651291939990655
         ],
         "yaxis": "y2"
        },
        {
         "legendgroup": "statistical_parity_difference",
         "marker": {
          "color": "#B6E880"
         },
         "name": "statistical_parity_difference",
         "showlegend": true,
         "type": "bar",
         "x": [
          "gender",
          "race",
          "ethnicity",
          "language",
          "maritalstatus"
         ],
         "xaxis": "x",
         "y": [
          0.024586590013565113,
          0.19784832307755007,
          -0.07314211836812867,
          0.1759295308545843,
          0.0354140770186947
         ],
         "yaxis": "y"
        },
        {
         "legendgroup": "statistical_parity_difference",
         "marker": {
          "color": "#B6E880"
         },
         "name": "statistical_parity_difference",
         "showlegend": false,
         "type": "bar",
         "x": [
          "gender",
          "race",
          "ethnicity",
          "language",
          "maritalstatus"
         ],
         "xaxis": "x2",
         "y": [
          -0.04256830954072732,
          0.019782724473779267,
          -0.043382493775138864,
          0.040523003049769635,
          0.04230818144150578
         ],
         "yaxis": "y2"
        }
       ],
       "layout": {
        "annotations": [
         {
          "font": {
           "size": 16
          },
          "showarrow": false,
          "text": "Fairness Metrics After Fine-Tuning",
          "x": 0.225,
          "xanchor": "center",
          "xref": "paper",
          "y": 1,
          "yanchor": "bottom",
          "yref": "paper"
         },
         {
          "font": {
           "size": 16
          },
          "showarrow": false,
          "text": "Fairness Metrics After Fair Model",
          "x": 0.775,
          "xanchor": "center",
          "xref": "paper",
          "y": 1,
          "yanchor": "bottom",
          "yref": "paper"
         }
        ],
        "barmode": "group",
        "height": 500,
        "legend": {
         "title": {
          "text": "Metric"
         }
        },
        "template": {
         "data": {
          "bar": [
           {
            "error_x": {
             "color": "#2a3f5f"
            },
            "error_y": {
             "color": "#2a3f5f"
            },
            "marker": {
             "line": {
              "color": "#E5ECF6",
              "width": 0.5
             },
             "pattern": {
              "fillmode": "overlay",
              "size": 10,
              "solidity": 0.2
             }
            },
            "type": "bar"
           }
          ],
          "barpolar": [
           {
            "marker": {
             "line": {
              "color": "#E5ECF6",
              "width": 0.5
             },
             "pattern": {
              "fillmode": "overlay",
              "size": 10,
              "solidity": 0.2
             }
            },
            "type": "barpolar"
           }
          ],
          "carpet": [
           {
            "aaxis": {
             "endlinecolor": "#2a3f5f",
             "gridcolor": "white",
             "linecolor": "white",
             "minorgridcolor": "white",
             "startlinecolor": "#2a3f5f"
            },
            "baxis": {
             "endlinecolor": "#2a3f5f",
             "gridcolor": "white",
             "linecolor": "white",
             "minorgridcolor": "white",
             "startlinecolor": "#2a3f5f"
            },
            "type": "carpet"
           }
          ],
          "choropleth": [
           {
            "colorbar": {
             "outlinewidth": 0,
             "ticks": ""
            },
            "type": "choropleth"
           }
          ],
          "contour": [
           {
            "colorbar": {
             "outlinewidth": 0,
             "ticks": ""
            },
            "colorscale": [
             [
              0,
              "#0d0887"
             ],
             [
              0.1111111111111111,
              "#46039f"
             ],
             [
              0.2222222222222222,
              "#7201a8"
             ],
             [
              0.3333333333333333,
              "#9c179e"
             ],
             [
              0.4444444444444444,
              "#bd3786"
             ],
             [
              0.5555555555555556,
              "#d8576b"
             ],
             [
              0.6666666666666666,
              "#ed7953"
             ],
             [
              0.7777777777777778,
              "#fb9f3a"
             ],
             [
              0.8888888888888888,
              "#fdca26"
             ],
             [
              1,
              "#f0f921"
             ]
            ],
            "type": "contour"
           }
          ],
          "contourcarpet": [
           {
            "colorbar": {
             "outlinewidth": 0,
             "ticks": ""
            },
            "type": "contourcarpet"
           }
          ],
          "heatmap": [
           {
            "colorbar": {
             "outlinewidth": 0,
             "ticks": ""
            },
            "colorscale": [
             [
              0,
              "#0d0887"
             ],
             [
              0.1111111111111111,
              "#46039f"
             ],
             [
              0.2222222222222222,
              "#7201a8"
             ],
             [
              0.3333333333333333,
              "#9c179e"
             ],
             [
              0.4444444444444444,
              "#bd3786"
             ],
             [
              0.5555555555555556,
              "#d8576b"
             ],
             [
              0.6666666666666666,
              "#ed7953"
             ],
             [
              0.7777777777777778,
              "#fb9f3a"
             ],
             [
              0.8888888888888888,
              "#fdca26"
             ],
             [
              1,
              "#f0f921"
             ]
            ],
            "type": "heatmap"
           }
          ],
          "heatmapgl": [
           {
            "colorbar": {
             "outlinewidth": 0,
             "ticks": ""
            },
            "colorscale": [
             [
              0,
              "#0d0887"
             ],
             [
              0.1111111111111111,
              "#46039f"
             ],
             [
              0.2222222222222222,
              "#7201a8"
             ],
             [
              0.3333333333333333,
              "#9c179e"
             ],
             [
              0.4444444444444444,
              "#bd3786"
             ],
             [
              0.5555555555555556,
              "#d8576b"
             ],
             [
              0.6666666666666666,
              "#ed7953"
             ],
             [
              0.7777777777777778,
              "#fb9f3a"
             ],
             [
              0.8888888888888888,
              "#fdca26"
             ],
             [
              1,
              "#f0f921"
             ]
            ],
            "type": "heatmapgl"
           }
          ],
          "histogram": [
           {
            "marker": {
             "pattern": {
              "fillmode": "overlay",
              "size": 10,
              "solidity": 0.2
             }
            },
            "type": "histogram"
           }
          ],
          "histogram2d": [
           {
            "colorbar": {
             "outlinewidth": 0,
             "ticks": ""
            },
            "colorscale": [
             [
              0,
              "#0d0887"
             ],
             [
              0.1111111111111111,
              "#46039f"
             ],
             [
              0.2222222222222222,
              "#7201a8"
             ],
             [
              0.3333333333333333,
              "#9c179e"
             ],
             [
              0.4444444444444444,
              "#bd3786"
             ],
             [
              0.5555555555555556,
              "#d8576b"
             ],
             [
              0.6666666666666666,
              "#ed7953"
             ],
             [
              0.7777777777777778,
              "#fb9f3a"
             ],
             [
              0.8888888888888888,
              "#fdca26"
             ],
             [
              1,
              "#f0f921"
             ]
            ],
            "type": "histogram2d"
           }
          ],
          "histogram2dcontour": [
           {
            "colorbar": {
             "outlinewidth": 0,
             "ticks": ""
            },
            "colorscale": [
             [
              0,
              "#0d0887"
             ],
             [
              0.1111111111111111,
              "#46039f"
             ],
             [
              0.2222222222222222,
              "#7201a8"
             ],
             [
              0.3333333333333333,
              "#9c179e"
             ],
             [
              0.4444444444444444,
              "#bd3786"
             ],
             [
              0.5555555555555556,
              "#d8576b"
             ],
             [
              0.6666666666666666,
              "#ed7953"
             ],
             [
              0.7777777777777778,
              "#fb9f3a"
             ],
             [
              0.8888888888888888,
              "#fdca26"
             ],
             [
              1,
              "#f0f921"
             ]
            ],
            "type": "histogram2dcontour"
           }
          ],
          "mesh3d": [
           {
            "colorbar": {
             "outlinewidth": 0,
             "ticks": ""
            },
            "type": "mesh3d"
           }
          ],
          "parcoords": [
           {
            "line": {
             "colorbar": {
              "outlinewidth": 0,
              "ticks": ""
             }
            },
            "type": "parcoords"
           }
          ],
          "pie": [
           {
            "automargin": true,
            "type": "pie"
           }
          ],
          "scatter": [
           {
            "fillpattern": {
             "fillmode": "overlay",
             "size": 10,
             "solidity": 0.2
            },
            "type": "scatter"
           }
          ],
          "scatter3d": [
           {
            "line": {
             "colorbar": {
              "outlinewidth": 0,
              "ticks": ""
             }
            },
            "marker": {
             "colorbar": {
              "outlinewidth": 0,
              "ticks": ""
             }
            },
            "type": "scatter3d"
           }
          ],
          "scattercarpet": [
           {
            "marker": {
             "colorbar": {
              "outlinewidth": 0,
              "ticks": ""
             }
            },
            "type": "scattercarpet"
           }
          ],
          "scattergeo": [
           {
            "marker": {
             "colorbar": {
              "outlinewidth": 0,
              "ticks": ""
             }
            },
            "type": "scattergeo"
           }
          ],
          "scattergl": [
           {
            "marker": {
             "colorbar": {
              "outlinewidth": 0,
              "ticks": ""
             }
            },
            "type": "scattergl"
           }
          ],
          "scattermapbox": [
           {
            "marker": {
             "colorbar": {
              "outlinewidth": 0,
              "ticks": ""
             }
            },
            "type": "scattermapbox"
           }
          ],
          "scatterpolar": [
           {
            "marker": {
             "colorbar": {
              "outlinewidth": 0,
              "ticks": ""
             }
            },
            "type": "scatterpolar"
           }
          ],
          "scatterpolargl": [
           {
            "marker": {
             "colorbar": {
              "outlinewidth": 0,
              "ticks": ""
             }
            },
            "type": "scatterpolargl"
           }
          ],
          "scatterternary": [
           {
            "marker": {
             "colorbar": {
              "outlinewidth": 0,
              "ticks": ""
             }
            },
            "type": "scatterternary"
           }
          ],
          "surface": [
           {
            "colorbar": {
             "outlinewidth": 0,
             "ticks": ""
            },
            "colorscale": [
             [
              0,
              "#0d0887"
             ],
             [
              0.1111111111111111,
              "#46039f"
             ],
             [
              0.2222222222222222,
              "#7201a8"
             ],
             [
              0.3333333333333333,
              "#9c179e"
             ],
             [
              0.4444444444444444,
              "#bd3786"
             ],
             [
              0.5555555555555556,
              "#d8576b"
             ],
             [
              0.6666666666666666,
              "#ed7953"
             ],
             [
              0.7777777777777778,
              "#fb9f3a"
             ],
             [
              0.8888888888888888,
              "#fdca26"
             ],
             [
              1,
              "#f0f921"
             ]
            ],
            "type": "surface"
           }
          ],
          "table": [
           {
            "cells": {
             "fill": {
              "color": "#EBF0F8"
             },
             "line": {
              "color": "white"
             }
            },
            "header": {
             "fill": {
              "color": "#C8D4E3"
             },
             "line": {
              "color": "white"
             }
            },
            "type": "table"
           }
          ]
         },
         "layout": {
          "annotationdefaults": {
           "arrowcolor": "#2a3f5f",
           "arrowhead": 0,
           "arrowwidth": 1
          },
          "autotypenumbers": "strict",
          "coloraxis": {
           "colorbar": {
            "outlinewidth": 0,
            "ticks": ""
           }
          },
          "colorscale": {
           "diverging": [
            [
             0,
             "#8e0152"
            ],
            [
             0.1,
             "#c51b7d"
            ],
            [
             0.2,
             "#de77ae"
            ],
            [
             0.3,
             "#f1b6da"
            ],
            [
             0.4,
             "#fde0ef"
            ],
            [
             0.5,
             "#f7f7f7"
            ],
            [
             0.6,
             "#e6f5d0"
            ],
            [
             0.7,
             "#b8e186"
            ],
            [
             0.8,
             "#7fbc41"
            ],
            [
             0.9,
             "#4d9221"
            ],
            [
             1,
             "#276419"
            ]
           ],
           "sequential": [
            [
             0,
             "#0d0887"
            ],
            [
             0.1111111111111111,
             "#46039f"
            ],
            [
             0.2222222222222222,
             "#7201a8"
            ],
            [
             0.3333333333333333,
             "#9c179e"
            ],
            [
             0.4444444444444444,
             "#bd3786"
            ],
            [
             0.5555555555555556,
             "#d8576b"
            ],
            [
             0.6666666666666666,
             "#ed7953"
            ],
            [
             0.7777777777777778,
             "#fb9f3a"
            ],
            [
             0.8888888888888888,
             "#fdca26"
            ],
            [
             1,
             "#f0f921"
            ]
           ],
           "sequentialminus": [
            [
             0,
             "#0d0887"
            ],
            [
             0.1111111111111111,
             "#46039f"
            ],
            [
             0.2222222222222222,
             "#7201a8"
            ],
            [
             0.3333333333333333,
             "#9c179e"
            ],
            [
             0.4444444444444444,
             "#bd3786"
            ],
            [
             0.5555555555555556,
             "#d8576b"
            ],
            [
             0.6666666666666666,
             "#ed7953"
            ],
            [
             0.7777777777777778,
             "#fb9f3a"
            ],
            [
             0.8888888888888888,
             "#fdca26"
            ],
            [
             1,
             "#f0f921"
            ]
           ]
          },
          "colorway": [
           "#636efa",
           "#EF553B",
           "#00cc96",
           "#ab63fa",
           "#FFA15A",
           "#19d3f3",
           "#FF6692",
           "#B6E880",
           "#FF97FF",
           "#FECB52"
          ],
          "font": {
           "color": "#2a3f5f"
          },
          "geo": {
           "bgcolor": "white",
           "lakecolor": "white",
           "landcolor": "#E5ECF6",
           "showlakes": true,
           "showland": true,
           "subunitcolor": "white"
          },
          "hoverlabel": {
           "align": "left"
          },
          "hovermode": "closest",
          "mapbox": {
           "style": "light"
          },
          "paper_bgcolor": "white",
          "plot_bgcolor": "#E5ECF6",
          "polar": {
           "angularaxis": {
            "gridcolor": "white",
            "linecolor": "white",
            "ticks": ""
           },
           "bgcolor": "#E5ECF6",
           "radialaxis": {
            "gridcolor": "white",
            "linecolor": "white",
            "ticks": ""
           }
          },
          "scene": {
           "xaxis": {
            "backgroundcolor": "#E5ECF6",
            "gridcolor": "white",
            "gridwidth": 2,
            "linecolor": "white",
            "showbackground": true,
            "ticks": "",
            "zerolinecolor": "white"
           },
           "yaxis": {
            "backgroundcolor": "#E5ECF6",
            "gridcolor": "white",
            "gridwidth": 2,
            "linecolor": "white",
            "showbackground": true,
            "ticks": "",
            "zerolinecolor": "white"
           },
           "zaxis": {
            "backgroundcolor": "#E5ECF6",
            "gridcolor": "white",
            "gridwidth": 2,
            "linecolor": "white",
            "showbackground": true,
            "ticks": "",
            "zerolinecolor": "white"
           }
          },
          "shapedefaults": {
           "line": {
            "color": "#2a3f5f"
           }
          },
          "ternary": {
           "aaxis": {
            "gridcolor": "white",
            "linecolor": "white",
            "ticks": ""
           },
           "baxis": {
            "gridcolor": "white",
            "linecolor": "white",
            "ticks": ""
           },
           "bgcolor": "#E5ECF6",
           "caxis": {
            "gridcolor": "white",
            "linecolor": "white",
            "ticks": ""
           }
          },
          "title": {
           "x": 0.05
          },
          "xaxis": {
           "automargin": true,
           "gridcolor": "white",
           "linecolor": "white",
           "ticks": "",
           "title": {
            "standoff": 15
           },
           "zerolinecolor": "white",
           "zerolinewidth": 2
          },
          "yaxis": {
           "automargin": true,
           "gridcolor": "white",
           "linecolor": "white",
           "ticks": "",
           "title": {
            "standoff": 15
           },
           "zerolinecolor": "white",
           "zerolinewidth": 2
          }
         }
        },
        "title": {
         "text": "Comparison of Fairness Metrics: Fine-Tuned vs. Fair Model"
        },
        "width": 1200,
        "xaxis": {
         "anchor": "y",
         "domain": [
          0,
          0.45
         ]
        },
        "xaxis2": {
         "anchor": "y2",
         "domain": [
          0.55,
          1
         ]
        },
        "yaxis": {
         "anchor": "x",
         "domain": [
          0,
          1
         ]
        },
        "yaxis2": {
         "anchor": "x2",
         "domain": [
          0,
          1
         ],
         "matches": "y",
         "showticklabels": false
        }
       }
      }
     },
     "metadata": {},
     "output_type": "display_data"
    }
   ],
   "source": [
    "# Compute fairness metrics for the fair predictions\n",
    "df_metrics_fair = compute_fairness_metrics_from_csv(\n",
    "    \"./medical/df_fair_preds_for_race.csv\",\n",
    "    label_column,\n",
    "    protected_attributes,\n",
    "    attribute_names,\n",
    "    priviliged_groups\n",
    ")\n",
    "df_fair = df_metrics_fair.melt(id_vars='attribute', var_name='metric', value_name='value')\n",
    "df_fair = df_fair.dropna(subset=['value'])\n",
    "\n",
    "# Use the already computed fine-tuned metrics: df_metrics_fine_tuned\n",
    "df_fine_tuned = df_metrics_fine_tuned.melt(id_vars='attribute', var_name='metric', value_name='value')\n",
    "df_fine_tuned = df_fine_tuned.dropna(subset=['value'])\n",
    "\n",
    "# Find common metrics\n",
    "common_metrics = sorted(list(set(df_fine_tuned['metric']).intersection(df_fair['metric'])))\n",
    "metric_names = list(common_metrics)\n",
    "import plotly.colors\n",
    "palette = plotly.colors.qualitative.Plotly\n",
    "color_map = {metric: palette[i % len(palette)] for i, metric in enumerate(metric_names)}\n",
    "\n",
    "from plotly.subplots import make_subplots\n",
    "import plotly.graph_objs as go\n",
    "\n",
    "fig_compare = make_subplots(\n",
    "    rows=1, cols=2,\n",
    "    subplot_titles=[\n",
    "        \"Fairness Metrics After Fine-Tuning\",\n",
    "        \"Fairness Metrics After Fair Model\"\n",
    "    ],\n",
    "    shared_yaxes=True\n",
    ")\n",
    "\n",
    "for metric in metric_names:\n",
    "    df_f = df_fine_tuned[df_fine_tuned['metric'] == metric]\n",
    "    df_fair_m = df_fair[df_fair['metric'] == metric]\n",
    "    color = color_map[metric]\n",
    "    fig_compare.add_trace(\n",
    "        go.Bar(\n",
    "            x=df_f['attribute'],\n",
    "            y=df_f['value'],\n",
    "            name=metric,\n",
    "            legendgroup=metric,\n",
    "            showlegend=True,\n",
    "            marker_color=color\n",
    "        ),\n",
    "        row=1, col=1\n",
    "    )\n",
    "    fig_compare.add_trace(\n",
    "        go.Bar(\n",
    "            x=df_fair_m['attribute'],\n",
    "            y=df_fair_m['value'],\n",
    "            name=metric,\n",
    "            legendgroup=metric,\n",
    "            showlegend=False,\n",
    "            marker_color=color\n",
    "        ),\n",
    "        row=1, col=2\n",
    "    )\n",
    "\n",
    "fig_compare.update_layout(\n",
    "    height=500,\n",
    "    width=1200,\n",
    "    barmode='group',\n",
    "    title_text=\"Comparison of Fairness Metrics: Fine-Tuned vs. Fair Model\",\n",
    "    legend_title=\"Metric\"\n",
    ")\n",
    "fig_compare.show()"
   ]
  },
  {
   "cell_type": "code",
   "execution_count": 37,
   "id": "f758bfd0",
   "metadata": {},
   "outputs": [],
   "source": [
    "ideal_fairness_metrics = {\n",
    "    \"statistical_parity_difference\": 0.0,\n",
    "    \"disparate_impact_ratio\": 1.0,\n",
    "    \"equal_opportunity_difference\": 0.0,\n",
    "    \"average_odds_difference\": 0.0,\n",
    "    \"conditional_demographic_disparity\": 0.0,\n",
    "    \"smoothed_edf\": 1.0,\n",
    "    \"df_bias_amplification\": 0.0\n",
    "}\n",
    "\n",
    "def compute_distance_to_ideal(df_metrics):\n",
    "    # Prepare a list to collect results\n",
    "    results = []\n",
    "    for _, row in df_metrics.iterrows():\n",
    "        row_result = {'attribute': row['attribute']}\n",
    "        total_dist = 0.0\n",
    "        for metric, ideal_value in ideal_fairness_metrics.items():\n",
    "            if metric in row:\n",
    "                sub_dist = (ideal_value - row[metric]) ** 2\n",
    "                row_result[f'dist_{metric}'] = np.sqrt(sub_dist)\n",
    "                total_dist += sub_dist\n",
    "            else:\n",
    "                row_result[f'dist_{metric}'] = np.nan\n",
    "        row_result['total_distance'] = np.sqrt(total_dist)\n",
    "        results.append(row_result)\n",
    "    return pd.DataFrame(results)\n",
    "\n"
   ]
  },
  {
   "cell_type": "code",
   "execution_count": 38,
   "id": "5ff5db82",
   "metadata": {},
   "outputs": [
    {
     "data": {
      "application/vnd.plotly.v1+json": {
       "config": {
        "plotlyServerURL": "https://plot.ly"
       },
       "data": [
        {
         "marker": {
          "color": "royalblue"
         },
         "name": "Fine-Tuned",
         "showlegend": true,
         "type": "bar",
         "x": [
          "gender",
          "race",
          "ethnicity",
          "language",
          "maritalstatus"
         ],
         "xaxis": "x",
         "y": [
          0.024586590013565113,
          0.19784832307755007,
          0.07314211836812867,
          0.1759295308545843,
          0.0354140770186947
         ],
         "yaxis": "y"
        },
        {
         "marker": {
          "color": "orange"
         },
         "name": "Fair Model",
         "showlegend": true,
         "type": "bar",
         "x": [
          "gender",
          "race",
          "ethnicity",
          "language",
          "maritalstatus"
         ],
         "xaxis": "x",
         "y": [
          0.04256830954072732,
          0.019782724473779267,
          0.043382493775138864,
          0.040523003049769635,
          0.04230818144150578
         ],
         "yaxis": "y"
        },
        {
         "marker": {
          "color": "royalblue"
         },
         "name": "Fine-Tuned",
         "showlegend": false,
         "type": "bar",
         "x": [
          "gender",
          "race",
          "ethnicity",
          "language",
          "maritalstatus"
         ],
         "xaxis": "x2",
         "y": [
          0.04855297775651768,
          0.4194384449244062,
          0.13952320058458156,
          0.3477633477633475,
          0.07046306045987705
         ],
         "yaxis": "y2"
        },
        {
         "marker": {
          "color": "orange"
         },
         "name": "Fair Model",
         "showlegend": false,
         "type": "bar",
         "x": [
          "gender",
          "race",
          "ethnicity",
          "language",
          "maritalstatus"
         ],
         "xaxis": "x2",
         "y": [
          0.0913011100912664,
          0.044714775759115755,
          0.09619366141105268,
          0.09120116830960212,
          0.09857721148745213
         ],
         "yaxis": "y2"
        },
        {
         "marker": {
          "color": "royalblue"
         },
         "name": "Fine-Tuned",
         "showlegend": false,
         "type": "bar",
         "x": [
          "gender",
          "race",
          "ethnicity",
          "language",
          "maritalstatus"
         ],
         "xaxis": "x3",
         "y": [
          0.06889902229779343,
          0.13588235294117645,
          0.10690974051256208,
          0.10678312159709613,
          0.014203318734192782
         ],
         "yaxis": "y3"
        },
        {
         "marker": {
          "color": "orange"
         },
         "name": "Fair Model",
         "showlegend": false,
         "type": "bar",
         "x": [
          "gender",
          "race",
          "ethnicity",
          "language",
          "maritalstatus"
         ],
         "xaxis": "x3",
         "y": [
          0.011241643158016679,
          0.03695187165775393,
          0.02642970020383395,
          0.03337114337568059,
          0.006160940102399537
         ],
         "yaxis": "y3"
        },
        {
         "marker": {
          "color": "royalblue"
         },
         "name": "Fine-Tuned",
         "showlegend": false,
         "type": "bar",
         "x": [
          "gender",
          "race",
          "ethnicity",
          "language",
          "maritalstatus"
         ],
         "xaxis": "x4",
         "y": [
          0.026483747254729684,
          0.1701510839753748,
          0.07216337583062654,
          0.10705746074104372,
          0.015248200628840414
         ],
         "yaxis": "y4"
        },
        {
         "marker": {
          "color": "orange"
         },
         "name": "Fair Model",
         "showlegend": false,
         "type": "bar",
         "x": [
          "gender",
          "race",
          "ethnicity",
          "language",
          "maritalstatus"
         ],
         "xaxis": "x4",
         "y": [
          0.04004694033286138,
          0.01528377230381156,
          0.04351047831186311,
          0.04262001677122157,
          0.01937097017987316
         ],
         "yaxis": "y4"
        },
        {
         "marker": {
          "color": "royalblue"
         },
         "name": "Fine-Tuned",
         "showlegend": false,
         "type": "bar",
         "x": [
          "gender",
          "race",
          "ethnicity",
          "language",
          "maritalstatus"
         ],
         "xaxis": "x5",
         "y": [
          0.0023414282496057653,
          0.08848966483942827,
          0.021100167705439175,
          0.03891027008084907,
          0.030703186403344056
         ],
         "yaxis": "y5"
        },
        {
         "marker": {
          "color": "orange"
         },
         "name": "Fair Model",
         "showlegend": false,
         "type": "bar",
         "x": [
          "gender",
          "race",
          "ethnicity",
          "language",
          "maritalstatus"
         ],
         "xaxis": "x5",
         "y": [
          0.004094906367950264,
          0.008528856228584302,
          0.012713537305160777,
          0.008919096973595324,
          0.0260998883454495
         ],
         "yaxis": "y5"
        },
        {
         "marker": {
          "color": "royalblue"
         },
         "name": "Fine-Tuned",
         "showlegend": false,
         "type": "bar",
         "x": [
          "gender",
          "race",
          "ethnicity",
          "language",
          "maritalstatus"
         ],
         "xaxis": "x6",
         "y": [
          0.9489684558856605,
          0.39753968592319977,
          0.8135919783726522,
          0.4712732342915946,
          0.3154072150288252
         ],
         "yaxis": "y6"
        },
        {
         "marker": {
          "color": "orange"
         },
         "name": "Fair Model",
         "showlegend": false,
         "type": "bar",
         "x": [
          "gender",
          "race",
          "ethnicity",
          "language",
          "maritalstatus"
         ],
         "xaxis": "x6",
         "y": [
          0.9043915519909337,
          0.9158315656913485,
          0.8023463356332079,
          0.6905779409118133,
          0.43487080600093453
         ],
         "yaxis": "y6"
        },
        {
         "marker": {
          "color": "royalblue"
         },
         "name": "Fine-Tuned",
         "showlegend": false,
         "type": "bar",
         "x": [
          "gender",
          "race",
          "ethnicity",
          "language",
          "maritalstatus"
         ],
         "xaxis": "x7",
         "y": [
          0.03289582500448407,
          0.24163807775086732,
          0.059536923420708376,
          0.13838516094385378,
          0.019137343279541974
         ],
         "yaxis": "y7"
        },
        {
         "marker": {
          "color": "orange"
         },
         "name": "Fair Model",
         "showlegend": false,
         "type": "bar",
         "x": [
          "gender",
          "race",
          "ethnicity",
          "language",
          "maritalstatus"
         ],
         "xaxis": "x7",
         "y": [
          0.07747272889921086,
          0.2766538020172814,
          0.07078256616015266,
          0.3576898675640725,
          0.13860093425165132
         ],
         "yaxis": "y7"
        }
       ],
       "layout": {
        "annotations": [
         {
          "font": {
           "size": 16
          },
          "showarrow": false,
          "text": "statistical_parity_difference",
          "x": 0.05918367346938775,
          "xanchor": "center",
          "xref": "paper",
          "y": 1,
          "yanchor": "bottom",
          "yref": "paper"
         },
         {
          "font": {
           "size": 16
          },
          "showarrow": false,
          "text": "disparate_impact_ratio",
          "x": 0.2061224489795918,
          "xanchor": "center",
          "xref": "paper",
          "y": 1,
          "yanchor": "bottom",
          "yref": "paper"
         },
         {
          "font": {
           "size": 16
          },
          "showarrow": false,
          "text": "equal_opportunity_difference",
          "x": 0.3530612244897959,
          "xanchor": "center",
          "xref": "paper",
          "y": 1,
          "yanchor": "bottom",
          "yref": "paper"
         },
         {
          "font": {
           "size": 16
          },
          "showarrow": false,
          "text": "average_odds_difference",
          "x": 0.49999999999999994,
          "xanchor": "center",
          "xref": "paper",
          "y": 1,
          "yanchor": "bottom",
          "yref": "paper"
         },
         {
          "font": {
           "size": 16
          },
          "showarrow": false,
          "text": "conditional_demographic_disparity",
          "x": 0.6469387755102041,
          "xanchor": "center",
          "xref": "paper",
          "y": 1,
          "yanchor": "bottom",
          "yref": "paper"
         },
         {
          "font": {
           "size": 16
          },
          "showarrow": false,
          "text": "smoothed_edf",
          "x": 0.7938775510204081,
          "xanchor": "center",
          "xref": "paper",
          "y": 1,
          "yanchor": "bottom",
          "yref": "paper"
         },
         {
          "font": {
           "size": 16
          },
          "showarrow": false,
          "text": "df_bias_amplification",
          "x": 0.9408163265306122,
          "xanchor": "center",
          "xref": "paper",
          "y": 1,
          "yanchor": "bottom",
          "yref": "paper"
         }
        ],
        "barmode": "group",
        "height": 400,
        "template": {
         "data": {
          "bar": [
           {
            "error_x": {
             "color": "#2a3f5f"
            },
            "error_y": {
             "color": "#2a3f5f"
            },
            "marker": {
             "line": {
              "color": "#E5ECF6",
              "width": 0.5
             },
             "pattern": {
              "fillmode": "overlay",
              "size": 10,
              "solidity": 0.2
             }
            },
            "type": "bar"
           }
          ],
          "barpolar": [
           {
            "marker": {
             "line": {
              "color": "#E5ECF6",
              "width": 0.5
             },
             "pattern": {
              "fillmode": "overlay",
              "size": 10,
              "solidity": 0.2
             }
            },
            "type": "barpolar"
           }
          ],
          "carpet": [
           {
            "aaxis": {
             "endlinecolor": "#2a3f5f",
             "gridcolor": "white",
             "linecolor": "white",
             "minorgridcolor": "white",
             "startlinecolor": "#2a3f5f"
            },
            "baxis": {
             "endlinecolor": "#2a3f5f",
             "gridcolor": "white",
             "linecolor": "white",
             "minorgridcolor": "white",
             "startlinecolor": "#2a3f5f"
            },
            "type": "carpet"
           }
          ],
          "choropleth": [
           {
            "colorbar": {
             "outlinewidth": 0,
             "ticks": ""
            },
            "type": "choropleth"
           }
          ],
          "contour": [
           {
            "colorbar": {
             "outlinewidth": 0,
             "ticks": ""
            },
            "colorscale": [
             [
              0,
              "#0d0887"
             ],
             [
              0.1111111111111111,
              "#46039f"
             ],
             [
              0.2222222222222222,
              "#7201a8"
             ],
             [
              0.3333333333333333,
              "#9c179e"
             ],
             [
              0.4444444444444444,
              "#bd3786"
             ],
             [
              0.5555555555555556,
              "#d8576b"
             ],
             [
              0.6666666666666666,
              "#ed7953"
             ],
             [
              0.7777777777777778,
              "#fb9f3a"
             ],
             [
              0.8888888888888888,
              "#fdca26"
             ],
             [
              1,
              "#f0f921"
             ]
            ],
            "type": "contour"
           }
          ],
          "contourcarpet": [
           {
            "colorbar": {
             "outlinewidth": 0,
             "ticks": ""
            },
            "type": "contourcarpet"
           }
          ],
          "heatmap": [
           {
            "colorbar": {
             "outlinewidth": 0,
             "ticks": ""
            },
            "colorscale": [
             [
              0,
              "#0d0887"
             ],
             [
              0.1111111111111111,
              "#46039f"
             ],
             [
              0.2222222222222222,
              "#7201a8"
             ],
             [
              0.3333333333333333,
              "#9c179e"
             ],
             [
              0.4444444444444444,
              "#bd3786"
             ],
             [
              0.5555555555555556,
              "#d8576b"
             ],
             [
              0.6666666666666666,
              "#ed7953"
             ],
             [
              0.7777777777777778,
              "#fb9f3a"
             ],
             [
              0.8888888888888888,
              "#fdca26"
             ],
             [
              1,
              "#f0f921"
             ]
            ],
            "type": "heatmap"
           }
          ],
          "heatmapgl": [
           {
            "colorbar": {
             "outlinewidth": 0,
             "ticks": ""
            },
            "colorscale": [
             [
              0,
              "#0d0887"
             ],
             [
              0.1111111111111111,
              "#46039f"
             ],
             [
              0.2222222222222222,
              "#7201a8"
             ],
             [
              0.3333333333333333,
              "#9c179e"
             ],
             [
              0.4444444444444444,
              "#bd3786"
             ],
             [
              0.5555555555555556,
              "#d8576b"
             ],
             [
              0.6666666666666666,
              "#ed7953"
             ],
             [
              0.7777777777777778,
              "#fb9f3a"
             ],
             [
              0.8888888888888888,
              "#fdca26"
             ],
             [
              1,
              "#f0f921"
             ]
            ],
            "type": "heatmapgl"
           }
          ],
          "histogram": [
           {
            "marker": {
             "pattern": {
              "fillmode": "overlay",
              "size": 10,
              "solidity": 0.2
             }
            },
            "type": "histogram"
           }
          ],
          "histogram2d": [
           {
            "colorbar": {
             "outlinewidth": 0,
             "ticks": ""
            },
            "colorscale": [
             [
              0,
              "#0d0887"
             ],
             [
              0.1111111111111111,
              "#46039f"
             ],
             [
              0.2222222222222222,
              "#7201a8"
             ],
             [
              0.3333333333333333,
              "#9c179e"
             ],
             [
              0.4444444444444444,
              "#bd3786"
             ],
             [
              0.5555555555555556,
              "#d8576b"
             ],
             [
              0.6666666666666666,
              "#ed7953"
             ],
             [
              0.7777777777777778,
              "#fb9f3a"
             ],
             [
              0.8888888888888888,
              "#fdca26"
             ],
             [
              1,
              "#f0f921"
             ]
            ],
            "type": "histogram2d"
           }
          ],
          "histogram2dcontour": [
           {
            "colorbar": {
             "outlinewidth": 0,
             "ticks": ""
            },
            "colorscale": [
             [
              0,
              "#0d0887"
             ],
             [
              0.1111111111111111,
              "#46039f"
             ],
             [
              0.2222222222222222,
              "#7201a8"
             ],
             [
              0.3333333333333333,
              "#9c179e"
             ],
             [
              0.4444444444444444,
              "#bd3786"
             ],
             [
              0.5555555555555556,
              "#d8576b"
             ],
             [
              0.6666666666666666,
              "#ed7953"
             ],
             [
              0.7777777777777778,
              "#fb9f3a"
             ],
             [
              0.8888888888888888,
              "#fdca26"
             ],
             [
              1,
              "#f0f921"
             ]
            ],
            "type": "histogram2dcontour"
           }
          ],
          "mesh3d": [
           {
            "colorbar": {
             "outlinewidth": 0,
             "ticks": ""
            },
            "type": "mesh3d"
           }
          ],
          "parcoords": [
           {
            "line": {
             "colorbar": {
              "outlinewidth": 0,
              "ticks": ""
             }
            },
            "type": "parcoords"
           }
          ],
          "pie": [
           {
            "automargin": true,
            "type": "pie"
           }
          ],
          "scatter": [
           {
            "fillpattern": {
             "fillmode": "overlay",
             "size": 10,
             "solidity": 0.2
            },
            "type": "scatter"
           }
          ],
          "scatter3d": [
           {
            "line": {
             "colorbar": {
              "outlinewidth": 0,
              "ticks": ""
             }
            },
            "marker": {
             "colorbar": {
              "outlinewidth": 0,
              "ticks": ""
             }
            },
            "type": "scatter3d"
           }
          ],
          "scattercarpet": [
           {
            "marker": {
             "colorbar": {
              "outlinewidth": 0,
              "ticks": ""
             }
            },
            "type": "scattercarpet"
           }
          ],
          "scattergeo": [
           {
            "marker": {
             "colorbar": {
              "outlinewidth": 0,
              "ticks": ""
             }
            },
            "type": "scattergeo"
           }
          ],
          "scattergl": [
           {
            "marker": {
             "colorbar": {
              "outlinewidth": 0,
              "ticks": ""
             }
            },
            "type": "scattergl"
           }
          ],
          "scattermapbox": [
           {
            "marker": {
             "colorbar": {
              "outlinewidth": 0,
              "ticks": ""
             }
            },
            "type": "scattermapbox"
           }
          ],
          "scatterpolar": [
           {
            "marker": {
             "colorbar": {
              "outlinewidth": 0,
              "ticks": ""
             }
            },
            "type": "scatterpolar"
           }
          ],
          "scatterpolargl": [
           {
            "marker": {
             "colorbar": {
              "outlinewidth": 0,
              "ticks": ""
             }
            },
            "type": "scatterpolargl"
           }
          ],
          "scatterternary": [
           {
            "marker": {
             "colorbar": {
              "outlinewidth": 0,
              "ticks": ""
             }
            },
            "type": "scatterternary"
           }
          ],
          "surface": [
           {
            "colorbar": {
             "outlinewidth": 0,
             "ticks": ""
            },
            "colorscale": [
             [
              0,
              "#0d0887"
             ],
             [
              0.1111111111111111,
              "#46039f"
             ],
             [
              0.2222222222222222,
              "#7201a8"
             ],
             [
              0.3333333333333333,
              "#9c179e"
             ],
             [
              0.4444444444444444,
              "#bd3786"
             ],
             [
              0.5555555555555556,
              "#d8576b"
             ],
             [
              0.6666666666666666,
              "#ed7953"
             ],
             [
              0.7777777777777778,
              "#fb9f3a"
             ],
             [
              0.8888888888888888,
              "#fdca26"
             ],
             [
              1,
              "#f0f921"
             ]
            ],
            "type": "surface"
           }
          ],
          "table": [
           {
            "cells": {
             "fill": {
              "color": "#EBF0F8"
             },
             "line": {
              "color": "white"
             }
            },
            "header": {
             "fill": {
              "color": "#C8D4E3"
             },
             "line": {
              "color": "white"
             }
            },
            "type": "table"
           }
          ]
         },
         "layout": {
          "annotationdefaults": {
           "arrowcolor": "#2a3f5f",
           "arrowhead": 0,
           "arrowwidth": 1
          },
          "autotypenumbers": "strict",
          "coloraxis": {
           "colorbar": {
            "outlinewidth": 0,
            "ticks": ""
           }
          },
          "colorscale": {
           "diverging": [
            [
             0,
             "#8e0152"
            ],
            [
             0.1,
             "#c51b7d"
            ],
            [
             0.2,
             "#de77ae"
            ],
            [
             0.3,
             "#f1b6da"
            ],
            [
             0.4,
             "#fde0ef"
            ],
            [
             0.5,
             "#f7f7f7"
            ],
            [
             0.6,
             "#e6f5d0"
            ],
            [
             0.7,
             "#b8e186"
            ],
            [
             0.8,
             "#7fbc41"
            ],
            [
             0.9,
             "#4d9221"
            ],
            [
             1,
             "#276419"
            ]
           ],
           "sequential": [
            [
             0,
             "#0d0887"
            ],
            [
             0.1111111111111111,
             "#46039f"
            ],
            [
             0.2222222222222222,
             "#7201a8"
            ],
            [
             0.3333333333333333,
             "#9c179e"
            ],
            [
             0.4444444444444444,
             "#bd3786"
            ],
            [
             0.5555555555555556,
             "#d8576b"
            ],
            [
             0.6666666666666666,
             "#ed7953"
            ],
            [
             0.7777777777777778,
             "#fb9f3a"
            ],
            [
             0.8888888888888888,
             "#fdca26"
            ],
            [
             1,
             "#f0f921"
            ]
           ],
           "sequentialminus": [
            [
             0,
             "#0d0887"
            ],
            [
             0.1111111111111111,
             "#46039f"
            ],
            [
             0.2222222222222222,
             "#7201a8"
            ],
            [
             0.3333333333333333,
             "#9c179e"
            ],
            [
             0.4444444444444444,
             "#bd3786"
            ],
            [
             0.5555555555555556,
             "#d8576b"
            ],
            [
             0.6666666666666666,
             "#ed7953"
            ],
            [
             0.7777777777777778,
             "#fb9f3a"
            ],
            [
             0.8888888888888888,
             "#fdca26"
            ],
            [
             1,
             "#f0f921"
            ]
           ]
          },
          "colorway": [
           "#636efa",
           "#EF553B",
           "#00cc96",
           "#ab63fa",
           "#FFA15A",
           "#19d3f3",
           "#FF6692",
           "#B6E880",
           "#FF97FF",
           "#FECB52"
          ],
          "font": {
           "color": "#2a3f5f"
          },
          "geo": {
           "bgcolor": "white",
           "lakecolor": "white",
           "landcolor": "#E5ECF6",
           "showlakes": true,
           "showland": true,
           "subunitcolor": "white"
          },
          "hoverlabel": {
           "align": "left"
          },
          "hovermode": "closest",
          "mapbox": {
           "style": "light"
          },
          "paper_bgcolor": "white",
          "plot_bgcolor": "#E5ECF6",
          "polar": {
           "angularaxis": {
            "gridcolor": "white",
            "linecolor": "white",
            "ticks": ""
           },
           "bgcolor": "#E5ECF6",
           "radialaxis": {
            "gridcolor": "white",
            "linecolor": "white",
            "ticks": ""
           }
          },
          "scene": {
           "xaxis": {
            "backgroundcolor": "#E5ECF6",
            "gridcolor": "white",
            "gridwidth": 2,
            "linecolor": "white",
            "showbackground": true,
            "ticks": "",
            "zerolinecolor": "white"
           },
           "yaxis": {
            "backgroundcolor": "#E5ECF6",
            "gridcolor": "white",
            "gridwidth": 2,
            "linecolor": "white",
            "showbackground": true,
            "ticks": "",
            "zerolinecolor": "white"
           },
           "zaxis": {
            "backgroundcolor": "#E5ECF6",
            "gridcolor": "white",
            "gridwidth": 2,
            "linecolor": "white",
            "showbackground": true,
            "ticks": "",
            "zerolinecolor": "white"
           }
          },
          "shapedefaults": {
           "line": {
            "color": "#2a3f5f"
           }
          },
          "ternary": {
           "aaxis": {
            "gridcolor": "white",
            "linecolor": "white",
            "ticks": ""
           },
           "baxis": {
            "gridcolor": "white",
            "linecolor": "white",
            "ticks": ""
           },
           "bgcolor": "#E5ECF6",
           "caxis": {
            "gridcolor": "white",
            "linecolor": "white",
            "ticks": ""
           }
          },
          "title": {
           "x": 0.05
          },
          "xaxis": {
           "automargin": true,
           "gridcolor": "white",
           "linecolor": "white",
           "ticks": "",
           "title": {
            "standoff": 15
           },
           "zerolinecolor": "white",
           "zerolinewidth": 2
          },
          "yaxis": {
           "automargin": true,
           "gridcolor": "white",
           "linecolor": "white",
           "ticks": "",
           "title": {
            "standoff": 15
           },
           "zerolinecolor": "white",
           "zerolinewidth": 2
          }
         }
        },
        "title": {
         "text": "Distance to Ideal for Each Fairness Metric and Attribute"
        },
        "width": 2100,
        "xaxis": {
         "anchor": "y",
         "domain": [
          0,
          0.1183673469387755
         ]
        },
        "xaxis2": {
         "anchor": "y2",
         "domain": [
          0.14693877551020407,
          0.26530612244897955
         ]
        },
        "xaxis3": {
         "anchor": "y3",
         "domain": [
          0.29387755102040813,
          0.4122448979591836
         ]
        },
        "xaxis4": {
         "anchor": "y4",
         "domain": [
          0.4408163265306122,
          0.5591836734693877
         ]
        },
        "xaxis5": {
         "anchor": "y5",
         "domain": [
          0.5877551020408163,
          0.7061224489795918
         ]
        },
        "xaxis6": {
         "anchor": "y6",
         "domain": [
          0.7346938775510204,
          0.8530612244897959
         ]
        },
        "xaxis7": {
         "anchor": "y7",
         "domain": [
          0.8816326530612244,
          0.9999999999999999
         ]
        },
        "yaxis": {
         "anchor": "x",
         "domain": [
          0,
          1
         ]
        },
        "yaxis2": {
         "anchor": "x2",
         "domain": [
          0,
          1
         ]
        },
        "yaxis3": {
         "anchor": "x3",
         "domain": [
          0,
          1
         ]
        },
        "yaxis4": {
         "anchor": "x4",
         "domain": [
          0,
          1
         ]
        },
        "yaxis5": {
         "anchor": "x5",
         "domain": [
          0,
          1
         ]
        },
        "yaxis6": {
         "anchor": "x6",
         "domain": [
          0,
          1
         ]
        },
        "yaxis7": {
         "anchor": "x7",
         "domain": [
          0,
          1
         ]
        }
       }
      }
     },
     "metadata": {},
     "output_type": "display_data"
    },
    {
     "data": {
      "application/vnd.plotly.v1+json": {
       "config": {
        "plotlyServerURL": "https://plot.ly"
       },
       "data": [
        {
         "marker": {
          "color": "royalblue"
         },
         "name": "Fine-Tuned",
         "type": "bar",
         "x": [
          "gender",
          "race",
          "ethnicity",
          "language",
          "maritalstatus"
         ],
         "y": [
          0.9539596972905893,
          0.6976712381419152,
          0.8410561859997259,
          0.6461558667067154,
          0.3277866325543155
         ]
        },
        {
         "marker": {
          "color": "orange"
         },
         "name": "Fair Model",
         "type": "bar",
         "x": [
          "gender",
          "race",
          "ethnicity",
          "language",
          "maritalstatus"
         ],
         "y": [
          0.9142324414205565,
          0.9588260145352185,
          0.8140383283633936,
          0.7860084923458623,
          0.47002625625507566
         ]
        }
       ],
       "layout": {
        "barmode": "group",
        "height": 400,
        "template": {
         "data": {
          "bar": [
           {
            "error_x": {
             "color": "#2a3f5f"
            },
            "error_y": {
             "color": "#2a3f5f"
            },
            "marker": {
             "line": {
              "color": "#E5ECF6",
              "width": 0.5
             },
             "pattern": {
              "fillmode": "overlay",
              "size": 10,
              "solidity": 0.2
             }
            },
            "type": "bar"
           }
          ],
          "barpolar": [
           {
            "marker": {
             "line": {
              "color": "#E5ECF6",
              "width": 0.5
             },
             "pattern": {
              "fillmode": "overlay",
              "size": 10,
              "solidity": 0.2
             }
            },
            "type": "barpolar"
           }
          ],
          "carpet": [
           {
            "aaxis": {
             "endlinecolor": "#2a3f5f",
             "gridcolor": "white",
             "linecolor": "white",
             "minorgridcolor": "white",
             "startlinecolor": "#2a3f5f"
            },
            "baxis": {
             "endlinecolor": "#2a3f5f",
             "gridcolor": "white",
             "linecolor": "white",
             "minorgridcolor": "white",
             "startlinecolor": "#2a3f5f"
            },
            "type": "carpet"
           }
          ],
          "choropleth": [
           {
            "colorbar": {
             "outlinewidth": 0,
             "ticks": ""
            },
            "type": "choropleth"
           }
          ],
          "contour": [
           {
            "colorbar": {
             "outlinewidth": 0,
             "ticks": ""
            },
            "colorscale": [
             [
              0,
              "#0d0887"
             ],
             [
              0.1111111111111111,
              "#46039f"
             ],
             [
              0.2222222222222222,
              "#7201a8"
             ],
             [
              0.3333333333333333,
              "#9c179e"
             ],
             [
              0.4444444444444444,
              "#bd3786"
             ],
             [
              0.5555555555555556,
              "#d8576b"
             ],
             [
              0.6666666666666666,
              "#ed7953"
             ],
             [
              0.7777777777777778,
              "#fb9f3a"
             ],
             [
              0.8888888888888888,
              "#fdca26"
             ],
             [
              1,
              "#f0f921"
             ]
            ],
            "type": "contour"
           }
          ],
          "contourcarpet": [
           {
            "colorbar": {
             "outlinewidth": 0,
             "ticks": ""
            },
            "type": "contourcarpet"
           }
          ],
          "heatmap": [
           {
            "colorbar": {
             "outlinewidth": 0,
             "ticks": ""
            },
            "colorscale": [
             [
              0,
              "#0d0887"
             ],
             [
              0.1111111111111111,
              "#46039f"
             ],
             [
              0.2222222222222222,
              "#7201a8"
             ],
             [
              0.3333333333333333,
              "#9c179e"
             ],
             [
              0.4444444444444444,
              "#bd3786"
             ],
             [
              0.5555555555555556,
              "#d8576b"
             ],
             [
              0.6666666666666666,
              "#ed7953"
             ],
             [
              0.7777777777777778,
              "#fb9f3a"
             ],
             [
              0.8888888888888888,
              "#fdca26"
             ],
             [
              1,
              "#f0f921"
             ]
            ],
            "type": "heatmap"
           }
          ],
          "heatmapgl": [
           {
            "colorbar": {
             "outlinewidth": 0,
             "ticks": ""
            },
            "colorscale": [
             [
              0,
              "#0d0887"
             ],
             [
              0.1111111111111111,
              "#46039f"
             ],
             [
              0.2222222222222222,
              "#7201a8"
             ],
             [
              0.3333333333333333,
              "#9c179e"
             ],
             [
              0.4444444444444444,
              "#bd3786"
             ],
             [
              0.5555555555555556,
              "#d8576b"
             ],
             [
              0.6666666666666666,
              "#ed7953"
             ],
             [
              0.7777777777777778,
              "#fb9f3a"
             ],
             [
              0.8888888888888888,
              "#fdca26"
             ],
             [
              1,
              "#f0f921"
             ]
            ],
            "type": "heatmapgl"
           }
          ],
          "histogram": [
           {
            "marker": {
             "pattern": {
              "fillmode": "overlay",
              "size": 10,
              "solidity": 0.2
             }
            },
            "type": "histogram"
           }
          ],
          "histogram2d": [
           {
            "colorbar": {
             "outlinewidth": 0,
             "ticks": ""
            },
            "colorscale": [
             [
              0,
              "#0d0887"
             ],
             [
              0.1111111111111111,
              "#46039f"
             ],
             [
              0.2222222222222222,
              "#7201a8"
             ],
             [
              0.3333333333333333,
              "#9c179e"
             ],
             [
              0.4444444444444444,
              "#bd3786"
             ],
             [
              0.5555555555555556,
              "#d8576b"
             ],
             [
              0.6666666666666666,
              "#ed7953"
             ],
             [
              0.7777777777777778,
              "#fb9f3a"
             ],
             [
              0.8888888888888888,
              "#fdca26"
             ],
             [
              1,
              "#f0f921"
             ]
            ],
            "type": "histogram2d"
           }
          ],
          "histogram2dcontour": [
           {
            "colorbar": {
             "outlinewidth": 0,
             "ticks": ""
            },
            "colorscale": [
             [
              0,
              "#0d0887"
             ],
             [
              0.1111111111111111,
              "#46039f"
             ],
             [
              0.2222222222222222,
              "#7201a8"
             ],
             [
              0.3333333333333333,
              "#9c179e"
             ],
             [
              0.4444444444444444,
              "#bd3786"
             ],
             [
              0.5555555555555556,
              "#d8576b"
             ],
             [
              0.6666666666666666,
              "#ed7953"
             ],
             [
              0.7777777777777778,
              "#fb9f3a"
             ],
             [
              0.8888888888888888,
              "#fdca26"
             ],
             [
              1,
              "#f0f921"
             ]
            ],
            "type": "histogram2dcontour"
           }
          ],
          "mesh3d": [
           {
            "colorbar": {
             "outlinewidth": 0,
             "ticks": ""
            },
            "type": "mesh3d"
           }
          ],
          "parcoords": [
           {
            "line": {
             "colorbar": {
              "outlinewidth": 0,
              "ticks": ""
             }
            },
            "type": "parcoords"
           }
          ],
          "pie": [
           {
            "automargin": true,
            "type": "pie"
           }
          ],
          "scatter": [
           {
            "fillpattern": {
             "fillmode": "overlay",
             "size": 10,
             "solidity": 0.2
            },
            "type": "scatter"
           }
          ],
          "scatter3d": [
           {
            "line": {
             "colorbar": {
              "outlinewidth": 0,
              "ticks": ""
             }
            },
            "marker": {
             "colorbar": {
              "outlinewidth": 0,
              "ticks": ""
             }
            },
            "type": "scatter3d"
           }
          ],
          "scattercarpet": [
           {
            "marker": {
             "colorbar": {
              "outlinewidth": 0,
              "ticks": ""
             }
            },
            "type": "scattercarpet"
           }
          ],
          "scattergeo": [
           {
            "marker": {
             "colorbar": {
              "outlinewidth": 0,
              "ticks": ""
             }
            },
            "type": "scattergeo"
           }
          ],
          "scattergl": [
           {
            "marker": {
             "colorbar": {
              "outlinewidth": 0,
              "ticks": ""
             }
            },
            "type": "scattergl"
           }
          ],
          "scattermapbox": [
           {
            "marker": {
             "colorbar": {
              "outlinewidth": 0,
              "ticks": ""
             }
            },
            "type": "scattermapbox"
           }
          ],
          "scatterpolar": [
           {
            "marker": {
             "colorbar": {
              "outlinewidth": 0,
              "ticks": ""
             }
            },
            "type": "scatterpolar"
           }
          ],
          "scatterpolargl": [
           {
            "marker": {
             "colorbar": {
              "outlinewidth": 0,
              "ticks": ""
             }
            },
            "type": "scatterpolargl"
           }
          ],
          "scatterternary": [
           {
            "marker": {
             "colorbar": {
              "outlinewidth": 0,
              "ticks": ""
             }
            },
            "type": "scatterternary"
           }
          ],
          "surface": [
           {
            "colorbar": {
             "outlinewidth": 0,
             "ticks": ""
            },
            "colorscale": [
             [
              0,
              "#0d0887"
             ],
             [
              0.1111111111111111,
              "#46039f"
             ],
             [
              0.2222222222222222,
              "#7201a8"
             ],
             [
              0.3333333333333333,
              "#9c179e"
             ],
             [
              0.4444444444444444,
              "#bd3786"
             ],
             [
              0.5555555555555556,
              "#d8576b"
             ],
             [
              0.6666666666666666,
              "#ed7953"
             ],
             [
              0.7777777777777778,
              "#fb9f3a"
             ],
             [
              0.8888888888888888,
              "#fdca26"
             ],
             [
              1,
              "#f0f921"
             ]
            ],
            "type": "surface"
           }
          ],
          "table": [
           {
            "cells": {
             "fill": {
              "color": "#EBF0F8"
             },
             "line": {
              "color": "white"
             }
            },
            "header": {
             "fill": {
              "color": "#C8D4E3"
             },
             "line": {
              "color": "white"
             }
            },
            "type": "table"
           }
          ]
         },
         "layout": {
          "annotationdefaults": {
           "arrowcolor": "#2a3f5f",
           "arrowhead": 0,
           "arrowwidth": 1
          },
          "autotypenumbers": "strict",
          "coloraxis": {
           "colorbar": {
            "outlinewidth": 0,
            "ticks": ""
           }
          },
          "colorscale": {
           "diverging": [
            [
             0,
             "#8e0152"
            ],
            [
             0.1,
             "#c51b7d"
            ],
            [
             0.2,
             "#de77ae"
            ],
            [
             0.3,
             "#f1b6da"
            ],
            [
             0.4,
             "#fde0ef"
            ],
            [
             0.5,
             "#f7f7f7"
            ],
            [
             0.6,
             "#e6f5d0"
            ],
            [
             0.7,
             "#b8e186"
            ],
            [
             0.8,
             "#7fbc41"
            ],
            [
             0.9,
             "#4d9221"
            ],
            [
             1,
             "#276419"
            ]
           ],
           "sequential": [
            [
             0,
             "#0d0887"
            ],
            [
             0.1111111111111111,
             "#46039f"
            ],
            [
             0.2222222222222222,
             "#7201a8"
            ],
            [
             0.3333333333333333,
             "#9c179e"
            ],
            [
             0.4444444444444444,
             "#bd3786"
            ],
            [
             0.5555555555555556,
             "#d8576b"
            ],
            [
             0.6666666666666666,
             "#ed7953"
            ],
            [
             0.7777777777777778,
             "#fb9f3a"
            ],
            [
             0.8888888888888888,
             "#fdca26"
            ],
            [
             1,
             "#f0f921"
            ]
           ],
           "sequentialminus": [
            [
             0,
             "#0d0887"
            ],
            [
             0.1111111111111111,
             "#46039f"
            ],
            [
             0.2222222222222222,
             "#7201a8"
            ],
            [
             0.3333333333333333,
             "#9c179e"
            ],
            [
             0.4444444444444444,
             "#bd3786"
            ],
            [
             0.5555555555555556,
             "#d8576b"
            ],
            [
             0.6666666666666666,
             "#ed7953"
            ],
            [
             0.7777777777777778,
             "#fb9f3a"
            ],
            [
             0.8888888888888888,
             "#fdca26"
            ],
            [
             1,
             "#f0f921"
            ]
           ]
          },
          "colorway": [
           "#636efa",
           "#EF553B",
           "#00cc96",
           "#ab63fa",
           "#FFA15A",
           "#19d3f3",
           "#FF6692",
           "#B6E880",
           "#FF97FF",
           "#FECB52"
          ],
          "font": {
           "color": "#2a3f5f"
          },
          "geo": {
           "bgcolor": "white",
           "lakecolor": "white",
           "landcolor": "#E5ECF6",
           "showlakes": true,
           "showland": true,
           "subunitcolor": "white"
          },
          "hoverlabel": {
           "align": "left"
          },
          "hovermode": "closest",
          "mapbox": {
           "style": "light"
          },
          "paper_bgcolor": "white",
          "plot_bgcolor": "#E5ECF6",
          "polar": {
           "angularaxis": {
            "gridcolor": "white",
            "linecolor": "white",
            "ticks": ""
           },
           "bgcolor": "#E5ECF6",
           "radialaxis": {
            "gridcolor": "white",
            "linecolor": "white",
            "ticks": ""
           }
          },
          "scene": {
           "xaxis": {
            "backgroundcolor": "#E5ECF6",
            "gridcolor": "white",
            "gridwidth": 2,
            "linecolor": "white",
            "showbackground": true,
            "ticks": "",
            "zerolinecolor": "white"
           },
           "yaxis": {
            "backgroundcolor": "#E5ECF6",
            "gridcolor": "white",
            "gridwidth": 2,
            "linecolor": "white",
            "showbackground": true,
            "ticks": "",
            "zerolinecolor": "white"
           },
           "zaxis": {
            "backgroundcolor": "#E5ECF6",
            "gridcolor": "white",
            "gridwidth": 2,
            "linecolor": "white",
            "showbackground": true,
            "ticks": "",
            "zerolinecolor": "white"
           }
          },
          "shapedefaults": {
           "line": {
            "color": "#2a3f5f"
           }
          },
          "ternary": {
           "aaxis": {
            "gridcolor": "white",
            "linecolor": "white",
            "ticks": ""
           },
           "baxis": {
            "gridcolor": "white",
            "linecolor": "white",
            "ticks": ""
           },
           "bgcolor": "#E5ECF6",
           "caxis": {
            "gridcolor": "white",
            "linecolor": "white",
            "ticks": ""
           }
          },
          "title": {
           "x": 0.05
          },
          "xaxis": {
           "automargin": true,
           "gridcolor": "white",
           "linecolor": "white",
           "ticks": "",
           "title": {
            "standoff": 15
           },
           "zerolinecolor": "white",
           "zerolinewidth": 2
          },
          "yaxis": {
           "automargin": true,
           "gridcolor": "white",
           "linecolor": "white",
           "ticks": "",
           "title": {
            "standoff": 15
           },
           "zerolinecolor": "white",
           "zerolinewidth": 2
          }
         }
        },
        "title": {
         "text": "Total Distance to Ideal for Each Attribute"
        },
        "width": 700,
        "xaxis": {
         "title": {
          "text": "Protected Attribute"
         }
        },
        "yaxis": {
         "title": {
          "text": "Total Distance"
         }
        }
       }
      }
     },
     "metadata": {},
     "output_type": "display_data"
    }
   ],
   "source": [
    "# Compute distances to ideal for both models\n",
    "df_distance_fine_tuned = compute_distance_to_ideal(df_metrics_fine_tuned)\n",
    "df_distance_fair = compute_distance_to_ideal(df_metrics_fair)\n",
    "\n",
    "# List of metrics to plot (excluding 'attribute' and 'total_distance')\n",
    "metrics = [col for col in df_distance_fine_tuned.columns if col.startswith('dist_') and col != 'total_distance']\n",
    "\n",
    "import plotly.graph_objs as go\n",
    "from plotly.subplots import make_subplots\n",
    "\n",
    "# Plot sub-distances for each metric\n",
    "fig = make_subplots(\n",
    "    rows=1, cols=len(metrics),\n",
    "    subplot_titles=[m.replace('dist_', '') for m in metrics],\n",
    "    shared_yaxes=False\n",
    ")\n",
    "\n",
    "for i, metric in enumerate(metrics):\n",
    "    fig.add_trace(\n",
    "        go.Bar(\n",
    "            x=df_distance_fine_tuned['attribute'],\n",
    "            y=df_distance_fine_tuned[metric],\n",
    "            name='Fine-Tuned',\n",
    "            marker_color='royalblue',\n",
    "            showlegend=(i==0)\n",
    "        ),\n",
    "        row=1, col=i+1\n",
    "    )\n",
    "    fig.add_trace(\n",
    "        go.Bar(\n",
    "            x=df_distance_fair['attribute'],\n",
    "            y=df_distance_fair[metric],\n",
    "            name='Fair Model',\n",
    "            marker_color='orange',\n",
    "            showlegend=(i==0)\n",
    "        ),\n",
    "        row=1, col=i+1\n",
    "    )\n",
    "\n",
    "fig.update_layout(\n",
    "    height=400,\n",
    "    width=300*len(metrics),\n",
    "    title_text=\"Distance to Ideal for Each Fairness Metric and Attribute\",\n",
    "    barmode='group'\n",
    ")\n",
    "fig.show()\n",
    "\n",
    "# Plot total distance for each attribute\n",
    "fig_total = go.Figure()\n",
    "fig_total.add_trace(go.Bar(\n",
    "    x=df_distance_fine_tuned['attribute'],\n",
    "    y=df_distance_fine_tuned['total_distance'],\n",
    "    name='Fine-Tuned',\n",
    "    marker_color='royalblue'\n",
    "))\n",
    "fig_total.add_trace(go.Bar(\n",
    "    x=df_distance_fair['attribute'],\n",
    "    y=df_distance_fair['total_distance'],\n",
    "    name='Fair Model',\n",
    "    marker_color='orange'\n",
    "))\n",
    "fig_total.update_layout(\n",
    "    title=\"Total Distance to Ideal for Each Attribute\",\n",
    "    xaxis_title=\"Protected Attribute\",\n",
    "    yaxis_title=\"Total Distance\",\n",
    "    barmode='group',\n",
    "    width=700,\n",
    "    height=400\n",
    ")\n",
    "fig_total.show()"
   ]
  },
  {
   "cell_type": "code",
   "execution_count": null,
   "id": "0318558a",
   "metadata": {},
   "outputs": [],
   "source": []
  },
  {
   "cell_type": "code",
   "execution_count": null,
   "id": "1ed2dae5",
   "metadata": {},
   "outputs": [],
   "source": []
  }
 ],
 "metadata": {
  "kernelspec": {
   "display_name": "Python 3",
   "language": "python",
   "name": "python3"
  },
  "language_info": {
   "codemirror_mode": {
    "name": "ipython",
    "version": 3
   },
   "file_extension": ".py",
   "mimetype": "text/x-python",
   "name": "python",
   "nbconvert_exporter": "python",
   "pygments_lexer": "ipython3",
   "version": "3.12.5"
  }
 },
 "nbformat": 4,
 "nbformat_minor": 5
}
